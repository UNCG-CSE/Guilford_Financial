{
 "cells": [
  {
   "cell_type": "code",
   "execution_count": 1,
   "metadata": {},
   "outputs": [],
   "source": [
    "import pandas as pd"
   ]
  },
  {
   "cell_type": "code",
   "execution_count": 2,
   "metadata": {},
   "outputs": [],
   "source": [
    "df_budget=pd.read_excel(\"../data/2013-2018 Adopted Budgets.xlsx\")"
   ]
  },
  {
   "cell_type": "code",
   "execution_count": 3,
   "metadata": {},
   "outputs": [],
   "source": [
    "# Remove all of the unncessary columns for this\n",
    "df_budget=df_budget.drop([\"Service #\", \"Service Name\", \"Fund #\", \"Fund\", \"Fund- # & Name\", \"Service Area\", \"Type\", \"Acct #\", \"Acct Name\", \"ExpSort\", \"Acct Cat\", \"AU All\", \"budgetType\", \"Amount\", \"Year\", \"PerCapita\"], axis=1)"
   ]
  },
  {
   "cell_type": "code",
   "execution_count": 4,
   "metadata": {},
   "outputs": [
    {
     "data": {
      "text/html": [
       "<div>\n",
       "<style scoped>\n",
       "    .dataframe tbody tr th:only-of-type {\n",
       "        vertical-align: middle;\n",
       "    }\n",
       "\n",
       "    .dataframe tbody tr th {\n",
       "        vertical-align: top;\n",
       "    }\n",
       "\n",
       "    .dataframe thead th {\n",
       "        text-align: right;\n",
       "    }\n",
       "</style>\n",
       "<table border=\"1\" class=\"dataframe\">\n",
       "  <thead>\n",
       "    <tr style=\"text-align: right;\">\n",
       "      <th></th>\n",
       "      <th>Dept #</th>\n",
       "      <th>Dept Name</th>\n",
       "      <th>SubDept#</th>\n",
       "      <th>SubDept Name</th>\n",
       "    </tr>\n",
       "  </thead>\n",
       "  <tbody>\n",
       "    <tr>\n",
       "      <th>0</th>\n",
       "      <td>250</td>\n",
       "      <td>Transportation - Human Services</td>\n",
       "      <td>10</td>\n",
       "      <td>Transportation-Human Serv</td>\n",
       "    </tr>\n",
       "    <tr>\n",
       "      <th>1</th>\n",
       "      <td>175</td>\n",
       "      <td>Facilities</td>\n",
       "      <td>30</td>\n",
       "      <td>Distribution Services</td>\n",
       "    </tr>\n",
       "    <tr>\n",
       "      <th>2</th>\n",
       "      <td>310</td>\n",
       "      <td>Law Enforcement</td>\n",
       "      <td>40</td>\n",
       "      <td>Detention Services</td>\n",
       "    </tr>\n",
       "    <tr>\n",
       "      <th>3</th>\n",
       "      <td>210</td>\n",
       "      <td>Public Health</td>\n",
       "      <td>10</td>\n",
       "      <td>Community Health</td>\n",
       "    </tr>\n",
       "    <tr>\n",
       "      <th>4</th>\n",
       "      <td>210</td>\n",
       "      <td>Public Health</td>\n",
       "      <td>10</td>\n",
       "      <td>Community Health</td>\n",
       "    </tr>\n",
       "  </tbody>\n",
       "</table>\n",
       "</div>"
      ],
      "text/plain": [
       "   Dept #                        Dept Name  SubDept#  \\\n",
       "0     250  Transportation - Human Services        10   \n",
       "1     175                       Facilities        30   \n",
       "2     310                  Law Enforcement        40   \n",
       "3     210                    Public Health        10   \n",
       "4     210                    Public Health        10   \n",
       "\n",
       "                SubDept Name  \n",
       "0  Transportation-Human Serv  \n",
       "1      Distribution Services  \n",
       "2         Detention Services  \n",
       "3           Community Health  \n",
       "4           Community Health  "
      ]
     },
     "execution_count": 4,
     "metadata": {},
     "output_type": "execute_result"
    }
   ],
   "source": [
    "df_budget.head()"
   ]
  },
  {
   "cell_type": "code",
   "execution_count": 5,
   "metadata": {
    "scrolled": false
   },
   "outputs": [
    {
     "name": "stdout",
     "output_type": "stream",
     "text": [
      "[1] 410\n",
      "2 - ['Solid Waste' 'Pleasant Garden Fire Prot Dist']\n",
      "[2] 510\n",
      "2 - ['Recreation - Parks' 'Culture & Libraries']\n",
      "[3] 420\n",
      "2 - ['Soil & Water Conservation' 'Southeast Fire Prot Dist']\n",
      "[4] 710\n",
      "4 - ['Guilford County Public Schools - Capital'\n",
      " 'Guilford Technical Community College - Operating'\n",
      " 'Guilford County Public Schools - Operating'\n",
      " 'Guilford Technical Community College - Capital']\n"
     ]
    }
   ],
   "source": [
    "# Finds dept nums that correspond with 0 or n>1 names\n",
    "count = 1\n",
    "\n",
    "for dept_num in df_budget[\"Dept #\"].unique():\n",
    "    output = df_budget[df_budget[\"Dept #\"]==dept_num][\"Dept Name\"].unique()\n",
    "    \n",
    "    if len(output) == 0:\n",
    "        print(\"[{}] {}\".format(count, dept_num))\n",
    "        print(\"{} - {}\".format(len(output), output))\n",
    "        \n",
    "        count += 1\n",
    "    elif len(output) > 1:\n",
    "        print(\"[{}] {}\".format(count, dept_num))\n",
    "        print(\"{} - {}\".format(len(output), output))\n",
    "        \n",
    "        count += 1"
   ]
  },
  {
   "cell_type": "code",
   "execution_count": 6,
   "metadata": {
    "scrolled": true
   },
   "outputs": [
    {
     "name": "stdout",
     "output_type": "stream",
     "text": [
      "[1] Recreation - Parks\n",
      "2 - [510 515]\n",
      "[2] Climax Fire Prot Dist\n",
      "2 - [427 419]\n",
      "[3] Colfax Fire Prot Dist\n",
      "2 - [404 428]\n",
      "[4] Pleasant Garden Fire Prot Dist\n",
      "2 - [410 436]\n",
      "[5] Fire Prot Dist No. 28\n",
      "2 - [416 441]\n",
      "[6] Fire Prot Dist No. 13\n",
      "2 - [411 437]\n",
      "[7] Public Assistance Mandates\n",
      "4 - [232 233 231 235]\n",
      "[8] Northeast Guil Fire Prot Dist\n",
      "2 - [400 442]\n",
      "[9] Fire Prot Dist No. 14\n",
      "2 - [430 414]\n",
      "[10] Mcleansville Fire Prot Dist\n",
      "2 - [407 432]\n",
      "[11] Summerfield Fire Prot Dist\n",
      "2 - [413 439]\n",
      "[12] Pcroft-Sdgfld Fire Prot Dist\n",
      "2 - [409 435]\n",
      "[13] Culture & Libraries\n",
      "2 - [510 511]\n",
      "[14] Guil College Fire Prot Dist\n",
      "2 - [405 443]\n",
      "[15] Fund Level\n",
      "2 - [100   1]\n"
     ]
    }
   ],
   "source": [
    "# Finds dept names that correspond with 0 or n>1 nums\n",
    "count = 1\n",
    "\n",
    "for dept_num in df_budget[\"Dept Name\"].unique():\n",
    "    output = df_budget[df_budget[\"Dept Name\"]==dept_num][\"Dept #\"].unique()\n",
    "    \n",
    "    if len(output) == 0:\n",
    "        print(\"[{}] {}\".format(count, dept_num))\n",
    "        print(\"{} - {}\".format(len(output), output))\n",
    "        \n",
    "        count += 1\n",
    "    elif len(output) > 1:\n",
    "        print(\"[{}] {}\".format(count, dept_num))\n",
    "        print(\"{} - {}\".format(len(output), output))\n",
    "        \n",
    "        count += 1"
   ]
  },
  {
   "cell_type": "code",
   "execution_count": 7,
   "metadata": {
    "scrolled": true
   },
   "outputs": [
    {
     "name": "stdout",
     "output_type": "stream",
     "text": [
      "[1] 10\n",
      "41 - ['Transportation-Human Serv' 'Community Health' 'Internal Audit'\n",
      " 'Legal Process' 'Waste Disposal' 'Greensboro' 'Veteran Services'\n",
      " 'Property Management' 'Budget and Management' 'Security'\n",
      " 'Detention Services' 'Fleet Operation' 'Community Provider Services'\n",
      " 'County Commissioners' 'Soil & Water Conservation' 'Clerk to the Board'\n",
      " 'Child Support Enforcement' 'County Attorney' 'Pre-Trial Release'\n",
      " 'Property and Other' 'Planning/Zoning' 'Finance' 'Emergency Management'\n",
      " 'Liability Insurance' 'Inspections' 'Animal Shelter' 'Buildings'\n",
      " 'Health Care Plan' 'Debt Service' 'Temp Asst Needy Families'\n",
      " 'Guilford County Capital Outlay' 'Culture' 'Reserve for Contingency'\n",
      " 'Economic Develop & Assistance' 'Guilford County Board of Educ'\n",
      " 'Medical Assistance' 'Special Assistance to Adults' 'Computer Services'\n",
      " 'Adults' 'Family Justice Center' 'Youth']\n",
      "[2] 30\n",
      "9 - ['Distribution Services' 'Clinical Health' 'Patrol' 'Garage'\n",
      " 'Older Adults' 'Workers Compensation Ins' 'Safety Net Services' 'Medical'\n",
      " 'Gibson Park']\n",
      "[3] 40\n",
      "7 - ['Detention Services' 'Application Software Services'\n",
      " 'Community Alternatives' 'Medical' 'Parking' 'General Services'\n",
      " 'Guilford Mackintosh Park']\n",
      "[4] 70\n",
      "2 - ['PH Preparedness' 'Southwest Park']\n",
      "[5] 20\n",
      "20 - ['High Point' 'Special Operations' 'Operations' 'Animal Control'\n",
      " 'Family Supportive Services' 'Training' 'Printing Services'\n",
      " 'Communications' 'Internal Services' 'Other' 'Intergovernmental Services'\n",
      " 'Property and Other Ins' 'Juvnle-Family Subst Abuse Court' 'Libraries'\n",
      " 'Guilford Tech Comm College' 'Families' 'Bur Mil-Park' 'Health Education'\n",
      " 'GC S&W Conservation District' 'Extension Programs']\n",
      "[6] 60\n",
      "5 - ['Allied Health' 'Environmental' 'Food & Shelter For Needy'\n",
      " 'Property Management' 'Northeast Park']\n",
      "[7] 2\n",
      "3 - ['Administration' 'Local Management Entity'\n",
      " 'Parks and Recreation - Admin.']\n",
      "[8] 50\n",
      "10 - ['Environmental Health' 'Automation Enhance & Preservtn'\n",
      " 'Parks and Recreation' 'Community Services' 'Fire' 'Court'\n",
      " 'County Financial Assistance' 'Telecommunications' 'JCPC Services'\n",
      " 'Hagan-Stone Park']\n",
      "[9] 1\n",
      "38 - ['Climax Fire Prot Ser Dist' 'Colfax Fire Prot Dist'\n",
      " 'Pleasant Garden Fire Prot Dist' 'Julian Vol Fire Prot Dist'\n",
      " 'Colfax Fire Prot Ser Dist' 'Guil-Rand Fire Prot Ser Dist'\n",
      " 'Fire Prot Dist No. 28' 'Fire Prot Dist No. 13'\n",
      " 'Southeast Fire Prot Dist' 'Fire Prot Dist No. 18'\n",
      " 'Gibsonville Fire Prot Dist' 'Kimesville Fire Prot Dist'\n",
      " 'Fire Service Dist No. 1' 'Fire Dist 13 Fire Prot Ser Dist'\n",
      " 'Northeast Guil Fire Prot Dist' 'Oak Ridge Fire Prot Dist'\n",
      " 'Fire Service Dist. No. 4' 'Fire Dist 14 Fire Prot Ser Dist'\n",
      " 'Whitsett Fire Prot Dist' 'Mcleansville Fire Prot Dist'\n",
      " 'Alamance Fire Prot Dist' 'Summerfield Fire Prot Dist'\n",
      " 'Pcroft-Sdgfld Fire Prot Dist' 'Climax Fire Prot Dist'\n",
      " 'Guil-Rand Fire Prot Dist' 'Fire Prot Dist No. 14'\n",
      " 'Stokesdale Fire Prot Dist' 'Mt Hope Com Fire Prot Dist'\n",
      " 'Guil College Fire Prot Dist' 'Room Occupancy/Tourism Dev Tax'\n",
      " 'General Fund Level' 'McLeansville Fire Prot Ser Dist'\n",
      " 'Pcroft-Sdgfld Fire Prot Ser Dist' 'Pleasant Garden Fire Prot Ser Dist'\n",
      " 'Summerfield Fire Prot Ser Dist' 'Guilford College Fire Prot Serv Dist'\n",
      " 'County Bldg Construct Fund Lev' 'Fund Level']\n",
      "[10] 25\n",
      "2 - ['Sp Op - Aviation Technology Prog' 'Aviation Technology Program']\n"
     ]
    }
   ],
   "source": [
    "# Finds sub dept #s that correspond with mulitple sub dept names\n",
    "count = 1\n",
    "\n",
    "for sub_dept_num in df_budget[\"SubDept#\"].unique():\n",
    "    output = df_budget[df_budget[\"SubDept#\"]==sub_dept_num][\"SubDept Name\"].unique()\n",
    "    \n",
    "    if len(output) == 0:\n",
    "        print(\"[{}] {}\".format(count, sub_dept_num))\n",
    "        print(\"{} - {}\".format(len(output), output))\n",
    "        \n",
    "        count += 1\n",
    "    elif len(output) > 1:\n",
    "        print(\"[{}] {}\".format(count, sub_dept_num))\n",
    "        print(\"{} - {}\".format(len(output), output))\n",
    "        \n",
    "        count += 1"
   ]
  },
  {
   "cell_type": "code",
   "execution_count": 8,
   "metadata": {},
   "outputs": [
    {
     "name": "stdout",
     "output_type": "stream",
     "text": [
      "[1] Detention Services\n",
      "2 - [40 10]\n",
      "[2] Property Management\n",
      "2 - [10 60]\n",
      "[3] Medical\n",
      "2 - [40 30]\n"
     ]
    }
   ],
   "source": [
    "# Finds sub dept #s that correspond with mulitple sub dept names\n",
    "count = 1\n",
    "\n",
    "for sub_dept_name in df_budget[\"SubDept Name\"].unique():\n",
    "    output = df_budget[df_budget[\"SubDept Name\"]==sub_dept_name][\"SubDept#\"].unique()\n",
    "    \n",
    "    if len(output) == 0:\n",
    "        print(\"[{}] {}\".format(count, sub_dept_name))\n",
    "        print(\"{} - {}\".format(len(output), output))\n",
    "        \n",
    "        count += 1\n",
    "    elif len(output) > 1:\n",
    "        print(\"[{}] {}\".format(count, sub_dept_name))\n",
    "        print(\"{} - {}\".format(len(output), output))\n",
    "        \n",
    "        count += 1"
   ]
  },
  {
   "cell_type": "code",
   "execution_count": null,
   "metadata": {},
   "outputs": [],
   "source": []
  }
 ],
 "metadata": {
  "kernelspec": {
   "display_name": "Python 3",
   "language": "python",
   "name": "python3"
  },
  "language_info": {
   "codemirror_mode": {
    "name": "ipython",
    "version": 3
   },
   "file_extension": ".py",
   "mimetype": "text/x-python",
   "name": "python",
   "nbconvert_exporter": "python",
   "pygments_lexer": "ipython3",
   "version": "3.7.1"
  }
 },
 "nbformat": 4,
 "nbformat_minor": 2
}
