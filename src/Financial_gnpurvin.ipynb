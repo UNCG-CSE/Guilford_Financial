{
 "cells": [
  {
   "cell_type": "code",
   "execution_count": 96,
   "metadata": {},
   "outputs": [],
   "source": [
    "import matplotlib.pyplot as plt\n",
    "import pandas as pd\n",
    "import numpy as np\n",
    "import matplotlib"
   ]
  },
  {
   "cell_type": "code",
   "execution_count": 97,
   "metadata": {},
   "outputs": [],
   "source": [
    "data = pd.read_excel('../data/2013-2018 Adopted Budgets.xlsx')"
   ]
  },
  {
   "cell_type": "code",
   "execution_count": 98,
   "metadata": {},
   "outputs": [
    {
     "data": {
      "text/html": [
       "<div>\n",
       "<style scoped>\n",
       "    .dataframe tbody tr th:only-of-type {\n",
       "        vertical-align: middle;\n",
       "    }\n",
       "\n",
       "    .dataframe tbody tr th {\n",
       "        vertical-align: top;\n",
       "    }\n",
       "\n",
       "    .dataframe thead th {\n",
       "        text-align: right;\n",
       "    }\n",
       "</style>\n",
       "<table border=\"1\" class=\"dataframe\">\n",
       "  <thead>\n",
       "    <tr style=\"text-align: right;\">\n",
       "      <th></th>\n",
       "      <th>Service #</th>\n",
       "      <th>Service Name</th>\n",
       "      <th>Fund #</th>\n",
       "      <th>Fund</th>\n",
       "      <th>Fund- # &amp; Name</th>\n",
       "      <th>Dept #</th>\n",
       "      <th>Dept Name</th>\n",
       "      <th>SubDept#</th>\n",
       "      <th>SubDept Name</th>\n",
       "      <th>Service Area</th>\n",
       "      <th>Type</th>\n",
       "      <th>Acct #</th>\n",
       "      <th>Acct Name</th>\n",
       "      <th>ExpSort</th>\n",
       "      <th>Acct Cat</th>\n",
       "      <th>AU All</th>\n",
       "      <th>budgetType</th>\n",
       "      <th>Amount</th>\n",
       "      <th>Year</th>\n",
       "      <th>PerCapita</th>\n",
       "    </tr>\n",
       "  </thead>\n",
       "  <tbody>\n",
       "    <tr>\n",
       "      <th>0</th>\n",
       "      <td>250115</td>\n",
       "      <td>Medicaid Transportation</td>\n",
       "      <td>100</td>\n",
       "      <td>General</td>\n",
       "      <td>100-General</td>\n",
       "      <td>250</td>\n",
       "      <td>Transportation - Human Services</td>\n",
       "      <td>10</td>\n",
       "      <td>Transportation-Human Serv</td>\n",
       "      <td>Human Services</td>\n",
       "      <td>Expense</td>\n",
       "      <td>58900</td>\n",
       "      <td>Expense Transfer</td>\n",
       "      <td>7.0</td>\n",
       "      <td>Other Expense</td>\n",
       "      <td>250115-58900</td>\n",
       "      <td>adopted</td>\n",
       "      <td>-2725474.0</td>\n",
       "      <td>2013</td>\n",
       "      <td>-5.431265</td>\n",
       "    </tr>\n",
       "    <tr>\n",
       "      <th>1</th>\n",
       "      <td>175310</td>\n",
       "      <td>Distribution Services</td>\n",
       "      <td>100</td>\n",
       "      <td>General</td>\n",
       "      <td>100-General</td>\n",
       "      <td>175</td>\n",
       "      <td>Facilities</td>\n",
       "      <td>30</td>\n",
       "      <td>Distribution Services</td>\n",
       "      <td>Support Services</td>\n",
       "      <td>Expense</td>\n",
       "      <td>58900</td>\n",
       "      <td>Expense Transfer</td>\n",
       "      <td>7.0</td>\n",
       "      <td>Other Expense</td>\n",
       "      <td>175310-58900</td>\n",
       "      <td>adopted</td>\n",
       "      <td>-550000.0</td>\n",
       "      <td>2013</td>\n",
       "      <td>-1.096028</td>\n",
       "    </tr>\n",
       "    <tr>\n",
       "      <th>2</th>\n",
       "      <td>310730</td>\n",
       "      <td>DS-Prison Farm Operation</td>\n",
       "      <td>100</td>\n",
       "      <td>General</td>\n",
       "      <td>100-General</td>\n",
       "      <td>310</td>\n",
       "      <td>Law Enforcement</td>\n",
       "      <td>40</td>\n",
       "      <td>Detention Services</td>\n",
       "      <td>Public Safety</td>\n",
       "      <td>Expense</td>\n",
       "      <td>58900</td>\n",
       "      <td>Expense Transfer</td>\n",
       "      <td>7.0</td>\n",
       "      <td>Other Expense</td>\n",
       "      <td>310730-58900</td>\n",
       "      <td>adopted</td>\n",
       "      <td>-140000.0</td>\n",
       "      <td>2013</td>\n",
       "      <td>-0.278989</td>\n",
       "    </tr>\n",
       "    <tr>\n",
       "      <th>3</th>\n",
       "      <td>210130</td>\n",
       "      <td>Child Abuse</td>\n",
       "      <td>100</td>\n",
       "      <td>General</td>\n",
       "      <td>100-General</td>\n",
       "      <td>210</td>\n",
       "      <td>Public Health</td>\n",
       "      <td>10</td>\n",
       "      <td>Community Health</td>\n",
       "      <td>Human Services</td>\n",
       "      <td>Expense</td>\n",
       "      <td>58900</td>\n",
       "      <td>Expense Transfer</td>\n",
       "      <td>7.0</td>\n",
       "      <td>Other Expense</td>\n",
       "      <td>210130-58900</td>\n",
       "      <td>adopted</td>\n",
       "      <td>-72160.0</td>\n",
       "      <td>2013</td>\n",
       "      <td>-0.143799</td>\n",
       "    </tr>\n",
       "    <tr>\n",
       "      <th>4</th>\n",
       "      <td>210270</td>\n",
       "      <td>Tobacco Prevention-Youth Proj</td>\n",
       "      <td>100</td>\n",
       "      <td>General</td>\n",
       "      <td>100-General</td>\n",
       "      <td>210</td>\n",
       "      <td>Public Health</td>\n",
       "      <td>10</td>\n",
       "      <td>Community Health</td>\n",
       "      <td>Human Services</td>\n",
       "      <td>Expense</td>\n",
       "      <td>51050</td>\n",
       "      <td>Merit Increases</td>\n",
       "      <td>1.0</td>\n",
       "      <td>Personnel Expense</td>\n",
       "      <td>210270-51050</td>\n",
       "      <td>adopted</td>\n",
       "      <td>-1212.0</td>\n",
       "      <td>2013</td>\n",
       "      <td>-0.002415</td>\n",
       "    </tr>\n",
       "  </tbody>\n",
       "</table>\n",
       "</div>"
      ],
      "text/plain": [
       "   Service #                   Service Name  Fund #     Fund Fund- # & Name  \\\n",
       "0     250115        Medicaid Transportation     100  General    100-General   \n",
       "1     175310          Distribution Services     100  General    100-General   \n",
       "2     310730       DS-Prison Farm Operation     100  General    100-General   \n",
       "3     210130                    Child Abuse     100  General    100-General   \n",
       "4     210270  Tobacco Prevention-Youth Proj     100  General    100-General   \n",
       "\n",
       "   Dept #                        Dept Name  SubDept#  \\\n",
       "0     250  Transportation - Human Services        10   \n",
       "1     175                       Facilities        30   \n",
       "2     310                  Law Enforcement        40   \n",
       "3     210                    Public Health        10   \n",
       "4     210                    Public Health        10   \n",
       "\n",
       "                SubDept Name      Service Area     Type  Acct #  \\\n",
       "0  Transportation-Human Serv    Human Services  Expense   58900   \n",
       "1      Distribution Services  Support Services  Expense   58900   \n",
       "2         Detention Services     Public Safety  Expense   58900   \n",
       "3           Community Health    Human Services  Expense   58900   \n",
       "4           Community Health    Human Services  Expense   51050   \n",
       "\n",
       "          Acct Name  ExpSort           Acct Cat        AU All budgetType  \\\n",
       "0  Expense Transfer      7.0      Other Expense  250115-58900    adopted   \n",
       "1  Expense Transfer      7.0      Other Expense  175310-58900    adopted   \n",
       "2  Expense Transfer      7.0      Other Expense  310730-58900    adopted   \n",
       "3  Expense Transfer      7.0      Other Expense  210130-58900    adopted   \n",
       "4   Merit Increases      1.0  Personnel Expense  210270-51050    adopted   \n",
       "\n",
       "      Amount  Year  PerCapita  \n",
       "0 -2725474.0  2013  -5.431265  \n",
       "1  -550000.0  2013  -1.096028  \n",
       "2  -140000.0  2013  -0.278989  \n",
       "3   -72160.0  2013  -0.143799  \n",
       "4    -1212.0  2013  -0.002415  "
      ]
     },
     "execution_count": 98,
     "metadata": {},
     "output_type": "execute_result"
    }
   ],
   "source": [
    "data.head()"
   ]
  },
  {
   "cell_type": "code",
   "execution_count": 99,
   "metadata": {},
   "outputs": [
    {
     "name": "stdout",
     "output_type": "stream",
     "text": [
      "<class 'pandas.core.frame.DataFrame'>\n",
      "RangeIndex: 27155 entries, 0 to 27154\n",
      "Data columns (total 20 columns):\n",
      "Service #         27155 non-null int64\n",
      "Service Name      27155 non-null object\n",
      "Fund #            27155 non-null int64\n",
      "Fund              27155 non-null object\n",
      "Fund- # & Name    27155 non-null object\n",
      "Dept #            27155 non-null int64\n",
      "Dept Name         27155 non-null object\n",
      "SubDept#          27155 non-null int64\n",
      "SubDept Name      27155 non-null object\n",
      "Service Area      27155 non-null object\n",
      "Type              27155 non-null object\n",
      "Acct #            27155 non-null int64\n",
      "Acct Name         27155 non-null object\n",
      "ExpSort           22164 non-null float64\n",
      "Acct Cat          27155 non-null object\n",
      "AU All            27155 non-null object\n",
      "budgetType        27155 non-null object\n",
      "Amount            21924 non-null float64\n",
      "Year              27155 non-null int64\n",
      "PerCapita         27155 non-null float64\n",
      "dtypes: float64(3), int64(6), object(11)\n",
      "memory usage: 4.1+ MB\n"
     ]
    }
   ],
   "source": [
    "data.info()\n"
   ]
  },
  {
   "cell_type": "code",
   "execution_count": 100,
   "metadata": {},
   "outputs": [
    {
     "data": {
      "text/plain": [
       "0       -2725474.0\n",
       "1        -550000.0\n",
       "2        -140000.0\n",
       "3         -72160.0\n",
       "4          -1212.0\n",
       "5           -462.0\n",
       "6           -287.0\n",
       "7              1.0\n",
       "8              1.0\n",
       "9              1.0\n",
       "10             1.0\n",
       "11             2.0\n",
       "12             4.0\n",
       "13             7.0\n",
       "14             7.0\n",
       "15             7.0\n",
       "16             7.0\n",
       "17             8.0\n",
       "18             8.0\n",
       "19             8.0\n",
       "20            10.0\n",
       "21            10.0\n",
       "22            11.0\n",
       "23            11.0\n",
       "24            15.0\n",
       "25            15.0\n",
       "26            17.0\n",
       "27            17.0\n",
       "28            19.0\n",
       "29            19.0\n",
       "           ...    \n",
       "27125      -4000.0\n",
       "27126    -110000.0\n",
       "27127    -120000.0\n",
       "27128      -2000.0\n",
       "27129     -25000.0\n",
       "27130      -1500.0\n",
       "27131      -1000.0\n",
       "27132     -10000.0\n",
       "27133     -55000.0\n",
       "27134      -1500.0\n",
       "27135     -10000.0\n",
       "27136     -65000.0\n",
       "27137       -250.0\n",
       "27138      -1500.0\n",
       "27139    -130000.0\n",
       "27140      -2000.0\n",
       "27141     -34000.0\n",
       "27142     -10000.0\n",
       "27143       -250.0\n",
       "27144      -3500.0\n",
       "27145      -5500.0\n",
       "27146      -2000.0\n",
       "27147     -15500.0\n",
       "27148     -22500.0\n",
       "27149      -2500.0\n",
       "27150      -1300.0\n",
       "27151   -6000000.0\n",
       "27152   -2694290.0\n",
       "27153   -4750000.0\n",
       "27154   -8584504.0\n",
       "Name: Amount, Length: 27155, dtype: float64"
      ]
     },
     "execution_count": 100,
     "metadata": {},
     "output_type": "execute_result"
    }
   ],
   "source": [
    "data.Amount"
   ]
  },
  {
   "cell_type": "code",
   "execution_count": 102,
   "metadata": {},
   "outputs": [
    {
     "ename": "TypeError",
     "evalue": "unsupported operand type(s) for -: 'str' and 'str'",
     "output_type": "error",
     "traceback": [
      "\u001b[1;31m---------------------------------------------------------------------------\u001b[0m",
      "\u001b[1;31mTypeError\u001b[0m                                 Traceback (most recent call last)",
      "\u001b[1;32mC:\\Program Files\\Anaconda3\\lib\\site-packages\\pandas\\core\\ops.py\u001b[0m in \u001b[0;36mna_op\u001b[1;34m(x, y)\u001b[0m\n\u001b[0;32m   1008\u001b[0m         \u001b[1;32mtry\u001b[0m\u001b[1;33m:\u001b[0m\u001b[1;33m\u001b[0m\u001b[0m\n\u001b[1;32m-> 1009\u001b[1;33m             \u001b[0mresult\u001b[0m \u001b[1;33m=\u001b[0m \u001b[0mexpressions\u001b[0m\u001b[1;33m.\u001b[0m\u001b[0mevaluate\u001b[0m\u001b[1;33m(\u001b[0m\u001b[0mop\u001b[0m\u001b[1;33m,\u001b[0m \u001b[0mstr_rep\u001b[0m\u001b[1;33m,\u001b[0m \u001b[0mx\u001b[0m\u001b[1;33m,\u001b[0m \u001b[0my\u001b[0m\u001b[1;33m,\u001b[0m \u001b[1;33m**\u001b[0m\u001b[0meval_kwargs\u001b[0m\u001b[1;33m)\u001b[0m\u001b[1;33m\u001b[0m\u001b[0m\n\u001b[0m\u001b[0;32m   1010\u001b[0m         \u001b[1;32mexcept\u001b[0m \u001b[0mTypeError\u001b[0m\u001b[1;33m:\u001b[0m\u001b[1;33m\u001b[0m\u001b[0m\n",
      "\u001b[1;32mC:\\Program Files\\Anaconda3\\lib\\site-packages\\pandas\\core\\computation\\expressions.py\u001b[0m in \u001b[0;36mevaluate\u001b[1;34m(op, op_str, a, b, use_numexpr, **eval_kwargs)\u001b[0m\n\u001b[0;32m    204\u001b[0m     \u001b[1;32mif\u001b[0m \u001b[0muse_numexpr\u001b[0m\u001b[1;33m:\u001b[0m\u001b[1;33m\u001b[0m\u001b[0m\n\u001b[1;32m--> 205\u001b[1;33m         \u001b[1;32mreturn\u001b[0m \u001b[0m_evaluate\u001b[0m\u001b[1;33m(\u001b[0m\u001b[0mop\u001b[0m\u001b[1;33m,\u001b[0m \u001b[0mop_str\u001b[0m\u001b[1;33m,\u001b[0m \u001b[0ma\u001b[0m\u001b[1;33m,\u001b[0m \u001b[0mb\u001b[0m\u001b[1;33m,\u001b[0m \u001b[1;33m**\u001b[0m\u001b[0meval_kwargs\u001b[0m\u001b[1;33m)\u001b[0m\u001b[1;33m\u001b[0m\u001b[0m\n\u001b[0m\u001b[0;32m    206\u001b[0m     \u001b[1;32mreturn\u001b[0m \u001b[0m_evaluate_standard\u001b[0m\u001b[1;33m(\u001b[0m\u001b[0mop\u001b[0m\u001b[1;33m,\u001b[0m \u001b[0mop_str\u001b[0m\u001b[1;33m,\u001b[0m \u001b[0ma\u001b[0m\u001b[1;33m,\u001b[0m \u001b[0mb\u001b[0m\u001b[1;33m)\u001b[0m\u001b[1;33m\u001b[0m\u001b[0m\n",
      "\u001b[1;32mC:\\Program Files\\Anaconda3\\lib\\site-packages\\pandas\\core\\computation\\expressions.py\u001b[0m in \u001b[0;36m_evaluate_numexpr\u001b[1;34m(op, op_str, a, b, truediv, reversed, **eval_kwargs)\u001b[0m\n\u001b[0;32m    119\u001b[0m     \u001b[1;32mif\u001b[0m \u001b[0mresult\u001b[0m \u001b[1;32mis\u001b[0m \u001b[1;32mNone\u001b[0m\u001b[1;33m:\u001b[0m\u001b[1;33m\u001b[0m\u001b[0m\n\u001b[1;32m--> 120\u001b[1;33m         \u001b[0mresult\u001b[0m \u001b[1;33m=\u001b[0m \u001b[0m_evaluate_standard\u001b[0m\u001b[1;33m(\u001b[0m\u001b[0mop\u001b[0m\u001b[1;33m,\u001b[0m \u001b[0mop_str\u001b[0m\u001b[1;33m,\u001b[0m \u001b[0ma\u001b[0m\u001b[1;33m,\u001b[0m \u001b[0mb\u001b[0m\u001b[1;33m)\u001b[0m\u001b[1;33m\u001b[0m\u001b[0m\n\u001b[0m\u001b[0;32m    121\u001b[0m \u001b[1;33m\u001b[0m\u001b[0m\n",
      "\u001b[1;32mC:\\Program Files\\Anaconda3\\lib\\site-packages\\pandas\\core\\computation\\expressions.py\u001b[0m in \u001b[0;36m_evaluate_standard\u001b[1;34m(op, op_str, a, b, **eval_kwargs)\u001b[0m\n\u001b[0;32m     64\u001b[0m     \u001b[1;32mwith\u001b[0m \u001b[0mnp\u001b[0m\u001b[1;33m.\u001b[0m\u001b[0merrstate\u001b[0m\u001b[1;33m(\u001b[0m\u001b[0mall\u001b[0m\u001b[1;33m=\u001b[0m\u001b[1;34m'ignore'\u001b[0m\u001b[1;33m)\u001b[0m\u001b[1;33m:\u001b[0m\u001b[1;33m\u001b[0m\u001b[0m\n\u001b[1;32m---> 65\u001b[1;33m         \u001b[1;32mreturn\u001b[0m \u001b[0mop\u001b[0m\u001b[1;33m(\u001b[0m\u001b[0ma\u001b[0m\u001b[1;33m,\u001b[0m \u001b[0mb\u001b[0m\u001b[1;33m)\u001b[0m\u001b[1;33m\u001b[0m\u001b[0m\n\u001b[0m\u001b[0;32m     66\u001b[0m \u001b[1;33m\u001b[0m\u001b[0m\n",
      "\u001b[1;31mTypeError\u001b[0m: unsupported operand type(s) for -: 'str' and 'float'",
      "\nDuring handling of the above exception, another exception occurred:\n",
      "\u001b[1;31mTypeError\u001b[0m                                 Traceback (most recent call last)",
      "\u001b[1;32mC:\\Program Files\\Anaconda3\\lib\\site-packages\\pandas\\core\\ops.py\u001b[0m in \u001b[0;36msafe_na_op\u001b[1;34m(lvalues, rvalues)\u001b[0m\n\u001b[0;32m   1029\u001b[0m             \u001b[1;32mwith\u001b[0m \u001b[0mnp\u001b[0m\u001b[1;33m.\u001b[0m\u001b[0merrstate\u001b[0m\u001b[1;33m(\u001b[0m\u001b[0mall\u001b[0m\u001b[1;33m=\u001b[0m\u001b[1;34m'ignore'\u001b[0m\u001b[1;33m)\u001b[0m\u001b[1;33m:\u001b[0m\u001b[1;33m\u001b[0m\u001b[0m\n\u001b[1;32m-> 1030\u001b[1;33m                 \u001b[1;32mreturn\u001b[0m \u001b[0mna_op\u001b[0m\u001b[1;33m(\u001b[0m\u001b[0mlvalues\u001b[0m\u001b[1;33m,\u001b[0m \u001b[0mrvalues\u001b[0m\u001b[1;33m)\u001b[0m\u001b[1;33m\u001b[0m\u001b[0m\n\u001b[0m\u001b[0;32m   1031\u001b[0m         \u001b[1;32mexcept\u001b[0m \u001b[0mException\u001b[0m\u001b[1;33m:\u001b[0m\u001b[1;33m\u001b[0m\u001b[0m\n",
      "\u001b[1;32mC:\\Program Files\\Anaconda3\\lib\\site-packages\\pandas\\core\\ops.py\u001b[0m in \u001b[0;36mna_op\u001b[1;34m(x, y)\u001b[0m\n\u001b[0;32m   1014\u001b[0m                 \u001b[0mmask\u001b[0m \u001b[1;33m=\u001b[0m \u001b[0mnotna\u001b[0m\u001b[1;33m(\u001b[0m\u001b[0mx\u001b[0m\u001b[1;33m)\u001b[0m \u001b[1;33m&\u001b[0m \u001b[0mnotna\u001b[0m\u001b[1;33m(\u001b[0m\u001b[0my\u001b[0m\u001b[1;33m)\u001b[0m\u001b[1;33m\u001b[0m\u001b[0m\n\u001b[1;32m-> 1015\u001b[1;33m                 \u001b[0mresult\u001b[0m\u001b[1;33m[\u001b[0m\u001b[0mmask\u001b[0m\u001b[1;33m]\u001b[0m \u001b[1;33m=\u001b[0m \u001b[0mop\u001b[0m\u001b[1;33m(\u001b[0m\u001b[0mx\u001b[0m\u001b[1;33m[\u001b[0m\u001b[0mmask\u001b[0m\u001b[1;33m]\u001b[0m\u001b[1;33m,\u001b[0m \u001b[0mcom\u001b[0m\u001b[1;33m.\u001b[0m\u001b[0m_values_from_object\u001b[0m\u001b[1;33m(\u001b[0m\u001b[0my\u001b[0m\u001b[1;33m[\u001b[0m\u001b[0mmask\u001b[0m\u001b[1;33m]\u001b[0m\u001b[1;33m)\u001b[0m\u001b[1;33m)\u001b[0m\u001b[1;33m\u001b[0m\u001b[0m\n\u001b[0m\u001b[0;32m   1016\u001b[0m             \u001b[1;32melse\u001b[0m\u001b[1;33m:\u001b[0m\u001b[1;33m\u001b[0m\u001b[0m\n",
      "\u001b[1;31mTypeError\u001b[0m: unsupported operand type(s) for -: 'str' and 'str'",
      "\nDuring handling of the above exception, another exception occurred:\n",
      "\u001b[1;31mTypeError\u001b[0m                                 Traceback (most recent call last)",
      "\u001b[1;32mC:\\Program Files\\Anaconda3\\lib\\site-packages\\pandas\\core\\ops.py\u001b[0m in \u001b[0;36mna_op\u001b[1;34m(x, y)\u001b[0m\n\u001b[0;32m   1466\u001b[0m         \u001b[1;32mtry\u001b[0m\u001b[1;33m:\u001b[0m\u001b[1;33m\u001b[0m\u001b[0m\n\u001b[1;32m-> 1467\u001b[1;33m             \u001b[0mresult\u001b[0m \u001b[1;33m=\u001b[0m \u001b[0mexpressions\u001b[0m\u001b[1;33m.\u001b[0m\u001b[0mevaluate\u001b[0m\u001b[1;33m(\u001b[0m\u001b[0mop\u001b[0m\u001b[1;33m,\u001b[0m \u001b[0mstr_rep\u001b[0m\u001b[1;33m,\u001b[0m \u001b[0mx\u001b[0m\u001b[1;33m,\u001b[0m \u001b[0my\u001b[0m\u001b[1;33m,\u001b[0m \u001b[1;33m**\u001b[0m\u001b[0meval_kwargs\u001b[0m\u001b[1;33m)\u001b[0m\u001b[1;33m\u001b[0m\u001b[0m\n\u001b[0m\u001b[0;32m   1468\u001b[0m         \u001b[1;32mexcept\u001b[0m \u001b[0mTypeError\u001b[0m\u001b[1;33m:\u001b[0m\u001b[1;33m\u001b[0m\u001b[0m\n",
      "\u001b[1;32mC:\\Program Files\\Anaconda3\\lib\\site-packages\\pandas\\core\\computation\\expressions.py\u001b[0m in \u001b[0;36mevaluate\u001b[1;34m(op, op_str, a, b, use_numexpr, **eval_kwargs)\u001b[0m\n\u001b[0;32m    204\u001b[0m     \u001b[1;32mif\u001b[0m \u001b[0muse_numexpr\u001b[0m\u001b[1;33m:\u001b[0m\u001b[1;33m\u001b[0m\u001b[0m\n\u001b[1;32m--> 205\u001b[1;33m         \u001b[1;32mreturn\u001b[0m \u001b[0m_evaluate\u001b[0m\u001b[1;33m(\u001b[0m\u001b[0mop\u001b[0m\u001b[1;33m,\u001b[0m \u001b[0mop_str\u001b[0m\u001b[1;33m,\u001b[0m \u001b[0ma\u001b[0m\u001b[1;33m,\u001b[0m \u001b[0mb\u001b[0m\u001b[1;33m,\u001b[0m \u001b[1;33m**\u001b[0m\u001b[0meval_kwargs\u001b[0m\u001b[1;33m)\u001b[0m\u001b[1;33m\u001b[0m\u001b[0m\n\u001b[0m\u001b[0;32m    206\u001b[0m     \u001b[1;32mreturn\u001b[0m \u001b[0m_evaluate_standard\u001b[0m\u001b[1;33m(\u001b[0m\u001b[0mop\u001b[0m\u001b[1;33m,\u001b[0m \u001b[0mop_str\u001b[0m\u001b[1;33m,\u001b[0m \u001b[0ma\u001b[0m\u001b[1;33m,\u001b[0m \u001b[0mb\u001b[0m\u001b[1;33m)\u001b[0m\u001b[1;33m\u001b[0m\u001b[0m\n",
      "\u001b[1;32mC:\\Program Files\\Anaconda3\\lib\\site-packages\\pandas\\core\\computation\\expressions.py\u001b[0m in \u001b[0;36m_evaluate_numexpr\u001b[1;34m(op, op_str, a, b, truediv, reversed, **eval_kwargs)\u001b[0m\n\u001b[0;32m    119\u001b[0m     \u001b[1;32mif\u001b[0m \u001b[0mresult\u001b[0m \u001b[1;32mis\u001b[0m \u001b[1;32mNone\u001b[0m\u001b[1;33m:\u001b[0m\u001b[1;33m\u001b[0m\u001b[0m\n\u001b[1;32m--> 120\u001b[1;33m         \u001b[0mresult\u001b[0m \u001b[1;33m=\u001b[0m \u001b[0m_evaluate_standard\u001b[0m\u001b[1;33m(\u001b[0m\u001b[0mop\u001b[0m\u001b[1;33m,\u001b[0m \u001b[0mop_str\u001b[0m\u001b[1;33m,\u001b[0m \u001b[0ma\u001b[0m\u001b[1;33m,\u001b[0m \u001b[0mb\u001b[0m\u001b[1;33m)\u001b[0m\u001b[1;33m\u001b[0m\u001b[0m\n\u001b[0m\u001b[0;32m    121\u001b[0m \u001b[1;33m\u001b[0m\u001b[0m\n",
      "\u001b[1;32mC:\\Program Files\\Anaconda3\\lib\\site-packages\\pandas\\core\\computation\\expressions.py\u001b[0m in \u001b[0;36m_evaluate_standard\u001b[1;34m(op, op_str, a, b, **eval_kwargs)\u001b[0m\n\u001b[0;32m     64\u001b[0m     \u001b[1;32mwith\u001b[0m \u001b[0mnp\u001b[0m\u001b[1;33m.\u001b[0m\u001b[0merrstate\u001b[0m\u001b[1;33m(\u001b[0m\u001b[0mall\u001b[0m\u001b[1;33m=\u001b[0m\u001b[1;34m'ignore'\u001b[0m\u001b[1;33m)\u001b[0m\u001b[1;33m:\u001b[0m\u001b[1;33m\u001b[0m\u001b[0m\n\u001b[1;32m---> 65\u001b[1;33m         \u001b[1;32mreturn\u001b[0m \u001b[0mop\u001b[0m\u001b[1;33m(\u001b[0m\u001b[0ma\u001b[0m\u001b[1;33m,\u001b[0m \u001b[0mb\u001b[0m\u001b[1;33m)\u001b[0m\u001b[1;33m\u001b[0m\u001b[0m\n\u001b[0m\u001b[0;32m     66\u001b[0m \u001b[1;33m\u001b[0m\u001b[0m\n",
      "\u001b[1;32mC:\\Program Files\\Anaconda3\\lib\\site-packages\\pandas\\core\\ops.py\u001b[0m in \u001b[0;36mwrapper\u001b[1;34m(left, right)\u001b[0m\n\u001b[0;32m   1065\u001b[0m \u001b[1;33m\u001b[0m\u001b[0m\n\u001b[1;32m-> 1066\u001b[1;33m         \u001b[0mresult\u001b[0m \u001b[1;33m=\u001b[0m \u001b[0msafe_na_op\u001b[0m\u001b[1;33m(\u001b[0m\u001b[0mlvalues\u001b[0m\u001b[1;33m,\u001b[0m \u001b[0mrvalues\u001b[0m\u001b[1;33m)\u001b[0m\u001b[1;33m\u001b[0m\u001b[0m\n\u001b[0m\u001b[0;32m   1067\u001b[0m         return construct_result(left, result,\n",
      "\u001b[1;32mC:\\Program Files\\Anaconda3\\lib\\site-packages\\pandas\\core\\ops.py\u001b[0m in \u001b[0;36msafe_na_op\u001b[1;34m(lvalues, rvalues)\u001b[0m\n\u001b[0;32m   1033\u001b[0m                 return libalgos.arrmap_object(lvalues,\n\u001b[1;32m-> 1034\u001b[1;33m                                               lambda x: op(x, rvalues))\n\u001b[0m\u001b[0;32m   1035\u001b[0m             \u001b[1;32mraise\u001b[0m\u001b[1;33m\u001b[0m\u001b[0m\n",
      "\u001b[1;32mpandas\\_libs\\algos_common_helper.pxi\u001b[0m in \u001b[0;36mpandas._libs.algos.arrmap_object\u001b[1;34m()\u001b[0m\n",
      "\u001b[1;32mC:\\Program Files\\Anaconda3\\lib\\site-packages\\pandas\\core\\ops.py\u001b[0m in \u001b[0;36m<lambda>\u001b[1;34m(x)\u001b[0m\n\u001b[0;32m   1033\u001b[0m                 return libalgos.arrmap_object(lvalues,\n\u001b[1;32m-> 1034\u001b[1;33m                                               lambda x: op(x, rvalues))\n\u001b[0m\u001b[0;32m   1035\u001b[0m             \u001b[1;32mraise\u001b[0m\u001b[1;33m\u001b[0m\u001b[0m\n",
      "\u001b[1;31mTypeError\u001b[0m: unsupported operand type(s) for -: 'str' and 'float'",
      "\nDuring handling of the above exception, another exception occurred:\n",
      "\u001b[1;31mTypeError\u001b[0m                                 Traceback (most recent call last)",
      "\u001b[1;32m<ipython-input-102-7be544660579>\u001b[0m in \u001b[0;36m<module>\u001b[1;34m()\u001b[0m\n\u001b[1;32m----> 1\u001b[1;33m \u001b[0mdata\u001b[0m \u001b[1;33m=\u001b[0m \u001b[0mdata\u001b[0m \u001b[1;33m-\u001b[0m \u001b[0mdata\u001b[0m\u001b[1;33m[\u001b[0m\u001b[0mdata\u001b[0m\u001b[1;33m[\u001b[0m\u001b[1;34m'Fund #'\u001b[0m\u001b[1;33m]\u001b[0m \u001b[1;33m>=\u001b[0m \u001b[1;36m400\u001b[0m\u001b[1;33m]\u001b[0m\u001b[1;33m\u001b[0m\u001b[0m\n\u001b[0m",
      "\u001b[1;32mC:\\Program Files\\Anaconda3\\lib\\site-packages\\pandas\\core\\ops.py\u001b[0m in \u001b[0;36mf\u001b[1;34m(self, other, axis, level, fill_value)\u001b[0m\n\u001b[0;32m   1518\u001b[0m \u001b[1;33m\u001b[0m\u001b[0m\n\u001b[0;32m   1519\u001b[0m         \u001b[1;32mif\u001b[0m \u001b[0misinstance\u001b[0m\u001b[1;33m(\u001b[0m\u001b[0mother\u001b[0m\u001b[1;33m,\u001b[0m \u001b[0mABCDataFrame\u001b[0m\u001b[1;33m)\u001b[0m\u001b[1;33m:\u001b[0m  \u001b[1;31m# Another DataFrame\u001b[0m\u001b[1;33m\u001b[0m\u001b[0m\n\u001b[1;32m-> 1520\u001b[1;33m             \u001b[1;32mreturn\u001b[0m \u001b[0mself\u001b[0m\u001b[1;33m.\u001b[0m\u001b[0m_combine_frame\u001b[0m\u001b[1;33m(\u001b[0m\u001b[0mother\u001b[0m\u001b[1;33m,\u001b[0m \u001b[0mna_op\u001b[0m\u001b[1;33m,\u001b[0m \u001b[0mfill_value\u001b[0m\u001b[1;33m,\u001b[0m \u001b[0mlevel\u001b[0m\u001b[1;33m)\u001b[0m\u001b[1;33m\u001b[0m\u001b[0m\n\u001b[0m\u001b[0;32m   1521\u001b[0m         \u001b[1;32melif\u001b[0m \u001b[0misinstance\u001b[0m\u001b[1;33m(\u001b[0m\u001b[0mother\u001b[0m\u001b[1;33m,\u001b[0m \u001b[0mABCSeries\u001b[0m\u001b[1;33m)\u001b[0m\u001b[1;33m:\u001b[0m\u001b[1;33m\u001b[0m\u001b[0m\n\u001b[0;32m   1522\u001b[0m             return _combine_series_frame(self, other, na_op,\n",
      "\u001b[1;32mC:\\Program Files\\Anaconda3\\lib\\site-packages\\pandas\\core\\frame.py\u001b[0m in \u001b[0;36m_combine_frame\u001b[1;34m(self, other, func, fill_value, level)\u001b[0m\n\u001b[0;32m   4737\u001b[0m                 \u001b[1;31m# unique columns\u001b[0m\u001b[1;33m\u001b[0m\u001b[1;33m\u001b[0m\u001b[0m\n\u001b[0;32m   4738\u001b[0m                 result = {col: _arith_op(this[col], other[col])\n\u001b[1;32m-> 4739\u001b[1;33m                           for col in this}\n\u001b[0m\u001b[0;32m   4740\u001b[0m                 result = self._constructor(result, index=new_index,\n\u001b[0;32m   4741\u001b[0m                                            columns=new_columns, copy=False)\n",
      "\u001b[1;32mC:\\Program Files\\Anaconda3\\lib\\site-packages\\pandas\\core\\frame.py\u001b[0m in \u001b[0;36m<dictcomp>\u001b[1;34m(.0)\u001b[0m\n\u001b[0;32m   4737\u001b[0m                 \u001b[1;31m# unique columns\u001b[0m\u001b[1;33m\u001b[0m\u001b[1;33m\u001b[0m\u001b[0m\n\u001b[0;32m   4738\u001b[0m                 result = {col: _arith_op(this[col], other[col])\n\u001b[1;32m-> 4739\u001b[1;33m                           for col in this}\n\u001b[0m\u001b[0;32m   4740\u001b[0m                 result = self._constructor(result, index=new_index,\n\u001b[0;32m   4741\u001b[0m                                            columns=new_columns, copy=False)\n",
      "\u001b[1;32mC:\\Program Files\\Anaconda3\\lib\\site-packages\\pandas\\core\\frame.py\u001b[0m in \u001b[0;36m_arith_op\u001b[1;34m(left, right)\u001b[0m\n\u001b[0;32m   4730\u001b[0m             \u001b[1;31m# left._binop(right, func, fill_value=fill_value)\u001b[0m\u001b[1;33m\u001b[0m\u001b[1;33m\u001b[0m\u001b[0m\n\u001b[0;32m   4731\u001b[0m             \u001b[0mleft\u001b[0m\u001b[1;33m,\u001b[0m \u001b[0mright\u001b[0m \u001b[1;33m=\u001b[0m \u001b[0mops\u001b[0m\u001b[1;33m.\u001b[0m\u001b[0mfill_binop\u001b[0m\u001b[1;33m(\u001b[0m\u001b[0mleft\u001b[0m\u001b[1;33m,\u001b[0m \u001b[0mright\u001b[0m\u001b[1;33m,\u001b[0m \u001b[0mfill_value\u001b[0m\u001b[1;33m)\u001b[0m\u001b[1;33m\u001b[0m\u001b[0m\n\u001b[1;32m-> 4732\u001b[1;33m             \u001b[1;32mreturn\u001b[0m \u001b[0mfunc\u001b[0m\u001b[1;33m(\u001b[0m\u001b[0mleft\u001b[0m\u001b[1;33m,\u001b[0m \u001b[0mright\u001b[0m\u001b[1;33m)\u001b[0m\u001b[1;33m\u001b[0m\u001b[0m\n\u001b[0m\u001b[0;32m   4733\u001b[0m \u001b[1;33m\u001b[0m\u001b[0m\n\u001b[0;32m   4734\u001b[0m         \u001b[1;32mif\u001b[0m \u001b[0mthis\u001b[0m\u001b[1;33m.\u001b[0m\u001b[0m_is_mixed_type\u001b[0m \u001b[1;32mor\u001b[0m \u001b[0mother\u001b[0m\u001b[1;33m.\u001b[0m\u001b[0m_is_mixed_type\u001b[0m\u001b[1;33m:\u001b[0m\u001b[1;33m\u001b[0m\u001b[0m\n",
      "\u001b[1;32mC:\\Program Files\\Anaconda3\\lib\\site-packages\\pandas\\core\\ops.py\u001b[0m in \u001b[0;36mna_op\u001b[1;34m(x, y)\u001b[0m\n\u001b[0;32m   1484\u001b[0m                 \u001b[1;32mif\u001b[0m \u001b[0mxrav\u001b[0m\u001b[1;33m.\u001b[0m\u001b[0msize\u001b[0m\u001b[1;33m:\u001b[0m\u001b[1;33m\u001b[0m\u001b[0m\n\u001b[0;32m   1485\u001b[0m                     \u001b[1;32mwith\u001b[0m \u001b[0mnp\u001b[0m\u001b[1;33m.\u001b[0m\u001b[0merrstate\u001b[0m\u001b[1;33m(\u001b[0m\u001b[0mall\u001b[0m\u001b[1;33m=\u001b[0m\u001b[1;34m'ignore'\u001b[0m\u001b[1;33m)\u001b[0m\u001b[1;33m:\u001b[0m\u001b[1;33m\u001b[0m\u001b[0m\n\u001b[1;32m-> 1486\u001b[1;33m                         \u001b[0mresult\u001b[0m\u001b[1;33m[\u001b[0m\u001b[0mmask\u001b[0m\u001b[1;33m]\u001b[0m \u001b[1;33m=\u001b[0m \u001b[0mop\u001b[0m\u001b[1;33m(\u001b[0m\u001b[0mxrav\u001b[0m\u001b[1;33m,\u001b[0m \u001b[0myrav\u001b[0m\u001b[1;33m)\u001b[0m\u001b[1;33m\u001b[0m\u001b[0m\n\u001b[0m\u001b[0;32m   1487\u001b[0m \u001b[1;33m\u001b[0m\u001b[0m\n\u001b[0;32m   1488\u001b[0m             \u001b[1;32melif\u001b[0m \u001b[0misinstance\u001b[0m\u001b[1;33m(\u001b[0m\u001b[0mx\u001b[0m\u001b[1;33m,\u001b[0m \u001b[0mnp\u001b[0m\u001b[1;33m.\u001b[0m\u001b[0mndarray\u001b[0m\u001b[1;33m)\u001b[0m\u001b[1;33m:\u001b[0m\u001b[1;33m\u001b[0m\u001b[0m\n",
      "\u001b[1;31mTypeError\u001b[0m: unsupported operand type(s) for -: 'str' and 'str'"
     ]
    }
   ],
   "source": []
  },
  {
   "cell_type": "code",
   "execution_count": 51,
   "metadata": {},
   "outputs": [
    {
     "data": {
      "text/plain": [
       "0.0"
      ]
     },
     "execution_count": 51,
     "metadata": {},
     "output_type": "execute_result"
    }
   ],
   "source": [
    "thirteen = data[data.Year == 2013]\n",
    "thirteen_expense = thirteen[thirteen.Type == 'Expense']\n",
    "thirteen_revenue = thirteen[thirteen.Type == 'Revenue']\n",
    "thirteen_expense.Amount.sum() + thirteen_revenue.Amount.sum()"
   ]
  },
  {
   "cell_type": "code",
   "execution_count": 69,
   "metadata": {},
   "outputs": [],
   "source": [
    "pubhealth = data[data['Dept Name'] == 'Public Health']"
   ]
  },
  {
   "cell_type": "code",
   "execution_count": 70,
   "metadata": {},
   "outputs": [
    {
     "data": {
      "text/plain": [
       "0    Clinical Health\n",
       "dtype: object"
      ]
     },
     "execution_count": 70,
     "metadata": {},
     "output_type": "execute_result"
    }
   ],
   "source": [
    "pubhealth['SubDept Name'].mode()"
   ]
  },
  {
   "cell_type": "code",
   "execution_count": 72,
   "metadata": {},
   "outputs": [
    {
     "ename": "AttributeError",
     "evalue": "'AxesSubplot' object has no attribute 'show'",
     "output_type": "error",
     "traceback": [
      "\u001b[1;31m---------------------------------------------------------------------------\u001b[0m",
      "\u001b[1;31mAttributeError\u001b[0m                            Traceback (most recent call last)",
      "\u001b[1;32m<ipython-input-72-a05263a8c0bc>\u001b[0m in \u001b[0;36m<module>\u001b[1;34m()\u001b[0m\n\u001b[1;32m----> 1\u001b[1;33m \u001b[0mdata\u001b[0m\u001b[1;33m[\u001b[0m\u001b[1;34m\"Dept Name\"\u001b[0m\u001b[1;33m]\u001b[0m\u001b[1;33m.\u001b[0m\u001b[0mvalue_counts\u001b[0m\u001b[1;33m(\u001b[0m\u001b[1;33m)\u001b[0m\u001b[1;33m.\u001b[0m\u001b[0mplot\u001b[0m\u001b[1;33m(\u001b[0m\u001b[0mkind\u001b[0m \u001b[1;33m=\u001b[0m \u001b[1;34m'bar'\u001b[0m\u001b[1;33m)\u001b[0m\u001b[1;33m.\u001b[0m\u001b[0mshow\u001b[0m\u001b[1;33m(\u001b[0m\u001b[1;33m)\u001b[0m\u001b[1;33m\u001b[0m\u001b[0m\n\u001b[0m",
      "\u001b[1;31mAttributeError\u001b[0m: 'AxesSubplot' object has no attribute 'show'"
     ]
    },
    {
     "data": {
      "image/png": "[encoded data removed]",
      "text/plain": [
       "<Figure size 432x288 with 1 Axes>"
      ]
     },
     "metadata": {},
     "output_type": "display_data"
    }
   ],
   "source": [
    "data[\"Dept Name\"].value_counts().plot(kind = 'bar').show()"
   ]
  },
  {
   "cell_type": "code",
   "execution_count": 73,
   "metadata": {},
   "outputs": [
    {
     "data": {
      "text/plain": [
       "Index(['Service #', 'Service Name', 'Fund #', 'Fund', 'Fund- # & Name',\n",
       "       'Dept #', 'Dept Name', 'SubDept#', 'SubDept Name', 'Service Area',\n",
       "       'Type', 'Acct #', 'Acct Name', 'ExpSort', 'Acct Cat', 'AU All',\n",
       "       'budgetType', 'Amount', 'Year', 'PerCapita'],\n",
       "      dtype='object')"
      ]
     },
     "execution_count": 73,
     "metadata": {},
     "output_type": "execute_result"
    }
   ],
   "source": [
    "data.columns"
   ]
  },
  {
   "cell_type": "code",
   "execution_count": 77,
   "metadata": {},
   "outputs": [
    {
     "data": {
      "text/plain": [
       "0    51210\n",
       "dtype: int64"
      ]
     },
     "execution_count": 77,
     "metadata": {},
     "output_type": "execute_result"
    }
   ],
   "source": [
    "data['Acct #'].mode()"
   ]
  },
  {
   "cell_type": "code",
   "execution_count": 103,
   "metadata": {},
   "outputs": [
    {
     "data": {
      "text/html": [
       "<div>\n",
       "<style scoped>\n",
       "    .dataframe tbody tr th:only-of-type {\n",
       "        vertical-align: middle;\n",
       "    }\n",
       "\n",
       "    .dataframe tbody tr th {\n",
       "        vertical-align: top;\n",
       "    }\n",
       "\n",
       "    .dataframe thead th {\n",
       "        text-align: right;\n",
       "    }\n",
       "</style>\n",
       "<table border=\"1\" class=\"dataframe\">\n",
       "  <thead>\n",
       "    <tr style=\"text-align: right;\">\n",
       "      <th></th>\n",
       "      <th>Service #</th>\n",
       "      <th>Fund #</th>\n",
       "      <th>Dept #</th>\n",
       "      <th>SubDept#</th>\n",
       "      <th>Acct #</th>\n",
       "      <th>ExpSort</th>\n",
       "      <th>Amount</th>\n",
       "      <th>Year</th>\n",
       "      <th>PerCapita</th>\n",
       "    </tr>\n",
       "  </thead>\n",
       "  <tbody>\n",
       "    <tr>\n",
       "      <th>count</th>\n",
       "      <td>22164.000000</td>\n",
       "      <td>22164.000000</td>\n",
       "      <td>22164.000000</td>\n",
       "      <td>22164.000000</td>\n",
       "      <td>22164.000000</td>\n",
       "      <td>22164.000000</td>\n",
       "      <td>1.825300e+04</td>\n",
       "      <td>22164.000000</td>\n",
       "      <td>22164.000000</td>\n",
       "    </tr>\n",
       "    <tr>\n",
       "      <th>mean</th>\n",
       "      <td>265601.523146</td>\n",
       "      <td>105.438729</td>\n",
       "      <td>265.170727</td>\n",
       "      <td>22.676367</td>\n",
       "      <td>52125.358690</td>\n",
       "      <td>1.960116</td>\n",
       "      <td>2.137478e+05</td>\n",
       "      <td>2015.354719</td>\n",
       "      <td>0.342373</td>\n",
       "    </tr>\n",
       "    <tr>\n",
       "      <th>std</th>\n",
       "      <td>107885.360002</td>\n",
       "      <td>41.818363</td>\n",
       "      <td>107.880599</td>\n",
       "      <td>19.613043</td>\n",
       "      <td>1063.442184</td>\n",
       "      <td>1.028422</td>\n",
       "      <td>3.602417e+06</td>\n",
       "      <td>1.706941</td>\n",
       "      <td>6.356274</td>\n",
       "    </tr>\n",
       "    <tr>\n",
       "      <th>min</th>\n",
       "      <td>101110.000000</td>\n",
       "      <td>100.000000</td>\n",
       "      <td>1.000000</td>\n",
       "      <td>1.000000</td>\n",
       "      <td>51010.000000</td>\n",
       "      <td>1.000000</td>\n",
       "      <td>-2.725474e+06</td>\n",
       "      <td>2013.000000</td>\n",
       "      <td>-5.431265</td>\n",
       "    </tr>\n",
       "    <tr>\n",
       "      <th>25%</th>\n",
       "      <td>210175.000000</td>\n",
       "      <td>100.000000</td>\n",
       "      <td>210.000000</td>\n",
       "      <td>10.000000</td>\n",
       "      <td>51210.000000</td>\n",
       "      <td>1.000000</td>\n",
       "      <td>1.090000e+03</td>\n",
       "      <td>2014.000000</td>\n",
       "      <td>0.000498</td>\n",
       "    </tr>\n",
       "    <tr>\n",
       "      <th>50%</th>\n",
       "      <td>210735.000000</td>\n",
       "      <td>100.000000</td>\n",
       "      <td>210.000000</td>\n",
       "      <td>20.000000</td>\n",
       "      <td>52010.000000</td>\n",
       "      <td>2.000000</td>\n",
       "      <td>5.629000e+03</td>\n",
       "      <td>2015.000000</td>\n",
       "      <td>0.005757</td>\n",
       "    </tr>\n",
       "    <tr>\n",
       "      <th>75%</th>\n",
       "      <td>310710.000000</td>\n",
       "      <td>100.000000</td>\n",
       "      <td>310.000000</td>\n",
       "      <td>30.000000</td>\n",
       "      <td>53060.000000</td>\n",
       "      <td>3.000000</td>\n",
       "      <td>3.500000e+04</td>\n",
       "      <td>2017.000000</td>\n",
       "      <td>0.044583</td>\n",
       "    </tr>\n",
       "    <tr>\n",
       "      <th>max</th>\n",
       "      <td>910110.000000</td>\n",
       "      <td>500.000000</td>\n",
       "      <td>910.000000</td>\n",
       "      <td>320.000000</td>\n",
       "      <td>58900.000000</td>\n",
       "      <td>7.000000</td>\n",
       "      <td>1.958604e+08</td>\n",
       "      <td>2018.000000</td>\n",
       "      <td>373.036161</td>\n",
       "    </tr>\n",
       "  </tbody>\n",
       "</table>\n",
       "</div>"
      ],
      "text/plain": [
       "           Service #        Fund #        Dept #      SubDept#        Acct #  \\\n",
       "count   22164.000000  22164.000000  22164.000000  22164.000000  22164.000000   \n",
       "mean   265601.523146    105.438729    265.170727     22.676367  52125.358690   \n",
       "std    107885.360002     41.818363    107.880599     19.613043   1063.442184   \n",
       "min    101110.000000    100.000000      1.000000      1.000000  51010.000000   \n",
       "25%    210175.000000    100.000000    210.000000     10.000000  51210.000000   \n",
       "50%    210735.000000    100.000000    210.000000     20.000000  52010.000000   \n",
       "75%    310710.000000    100.000000    310.000000     30.000000  53060.000000   \n",
       "max    910110.000000    500.000000    910.000000    320.000000  58900.000000   \n",
       "\n",
       "            ExpSort        Amount          Year     PerCapita  \n",
       "count  22164.000000  1.825300e+04  22164.000000  22164.000000  \n",
       "mean       1.960116  2.137478e+05   2015.354719      0.342373  \n",
       "std        1.028422  3.602417e+06      1.706941      6.356274  \n",
       "min        1.000000 -2.725474e+06   2013.000000     -5.431265  \n",
       "25%        1.000000  1.090000e+03   2014.000000      0.000498  \n",
       "50%        2.000000  5.629000e+03   2015.000000      0.005757  \n",
       "75%        3.000000  3.500000e+04   2017.000000      0.044583  \n",
       "max        7.000000  1.958604e+08   2018.000000    373.036161  "
      ]
     },
     "execution_count": 103,
     "metadata": {},
     "output_type": "execute_result"
    }
   ],
   "source": [
    "expense = data[data.Type == 'Expense']\n",
    "expense.describe()"
   ]
  },
  {
   "cell_type": "code",
   "execution_count": 108,
   "metadata": {},
   "outputs": [
    {
     "data": {
      "text/plain": [
       "Dept #  Dept Name                                       \n",
       "1       Fund Level                                          5.050000e+06\n",
       "101     County Commissioners                                2.866899e+06\n",
       "102     Clerk to the Board                                  1.346406e+06\n",
       "105     County Administration                               7.985624e+06\n",
       "110     County Attorney                                     1.238932e+07\n",
       "115     Human Resources                                     5.184754e+07\n",
       "120     Budget and Management                               2.897600e+06\n",
       "125     Internal Audit                                      3.091660e+06\n",
       "130     Finance                                             1.523645e+07\n",
       "135     Purchasing                                          2.277883e+06\n",
       "140     Information Services                                5.612913e+07\n",
       "145     Tax                                                 3.442256e+07\n",
       "150     Register of Deeds                                   1.293885e+07\n",
       "155     Elections                                           1.468360e+07\n",
       "160     Planning and Development                            4.539090e+06\n",
       "175     Facilities                                          5.131620e+07\n",
       "180     Security                                            1.005198e+07\n",
       "186     Property Management                                 4.095030e+05\n",
       "191     Fleet Operation                                     5.749371e+06\n",
       "195     Risk Retention-Liab/Prop/WC                         1.851430e+07\n",
       "197     Health Care & Wellness                              2.381000e+08\n",
       "210     Public Health                                       1.943912e+08\n",
       "220     Mental Health                                       8.465232e+07\n",
       "230     Social Services                                     4.237845e+08\n",
       "231     Public Assistance Mandates                          6.318230e+06\n",
       "232     Public Assistance Mandates                          4.000000e+04\n",
       "233     Public Assistance Mandates                          5.272820e+06\n",
       "235     Public Assistance Mandates                          1.551818e+07\n",
       "240     Child Support Enforcement                           3.719017e+07\n",
       "250     Transportation - Human Services                     9.340567e+06\n",
       "                                                                ...     \n",
       "420     Soil & Water Conservation                           1.293938e+06\n",
       "        Southeast Fire Prot Dist                            1.518780e+06\n",
       "421     Julian Vol Fire Prot Dist                           4.837630e+05\n",
       "422     Horneytown Fire Prot Dist.                          1.748450e+05\n",
       "425     Fire Service Dist. No. 4                            8.834430e+05\n",
       "427     Climax Fire Prot Dist                               1.301100e+05\n",
       "428     Colfax Fire Prot Dist                               8.264310e+05\n",
       "430     Fire Prot Dist No. 14                               2.776490e+05\n",
       "431     Guil-Rand Fire District                             1.420460e+05\n",
       "432     Mcleansville Fire Prot Dist                         9.289180e+05\n",
       "435     Pcroft-Sdgfld Fire Prot Dist                        7.610820e+05\n",
       "436     Pleasant Garden Fire Prot Dist                      2.100800e+05\n",
       "437     Fire Prot Dist No. 13                               1.461712e+06\n",
       "439     Summerfield Fire Prot Dist                          2.561703e+06\n",
       "440     Whitsett Fire Prot Ser Dist                         1.447930e+05\n",
       "441     Fire Prot Dist No. 28                               1.862360e+05\n",
       "442     Northeast Guil Fire Prot Dist                       1.046912e+06\n",
       "443     Guil College Fire Prot Dist                         2.217680e+05\n",
       "500     County Building Construction Fund Level             2.000000e+06\n",
       "510     Culture & Libraries                                 2.074474e+06\n",
       "        Recreation - Parks                                  2.511819e+06\n",
       "511     Culture & Libraries                                 9.187845e+06\n",
       "515     Recreation - Parks                                  1.897565e+07\n",
       "650     Economic Development & Assistance                   4.518898e+07\n",
       "710     Guilford County Public Schools - Capital            2.277000e+07\n",
       "        Guilford County Public Schools - Operating          1.099702e+09\n",
       "        Guilford Technical Community College - Capital      6.000000e+06\n",
       "        Guilford Technical Community College - Operating    8.159807e+07\n",
       "810     Capital Outlay                                      4.724914e+06\n",
       "910     Debt Service                                        5.590638e+08\n",
       "Name: Amount, Length: 91, dtype: float64"
      ]
     },
     "execution_count": 108,
     "metadata": {},
     "output_type": "execute_result"
    }
   ],
   "source": [
    "expense.groupby(by=[\"Dept #\", \"Dept Name\"]).Amount.sum()"
   ]
  },
  {
   "cell_type": "code",
   "execution_count": 87,
   "metadata": {},
   "outputs": [
    {
     "ename": "TypeError",
     "evalue": "'>=' not supported between instances of 'str' and 'int'",
     "output_type": "error",
     "traceback": [
      "\u001b[1;31m---------------------------------------------------------------------------\u001b[0m",
      "\u001b[1;31mTypeError\u001b[0m                                 Traceback (most recent call last)",
      "\u001b[1;32m<ipython-input-87-621c16e8458e>\u001b[0m in \u001b[0;36m<module>\u001b[1;34m()\u001b[0m\n\u001b[1;32m----> 1\u001b[1;33m \u001b[0mexpense\u001b[0m \u001b[1;33m=\u001b[0m \u001b[0mexpense\u001b[0m \u001b[1;33m-\u001b[0m \u001b[0mexpense\u001b[0m\u001b[1;33m[\u001b[0m\u001b[0mexpense\u001b[0m\u001b[1;33m[\u001b[0m\u001b[1;34m'Fund #'\u001b[0m \u001b[1;33m>=\u001b[0m \u001b[1;36m400\u001b[0m\u001b[1;33m]\u001b[0m\u001b[1;33m]\u001b[0m\u001b[1;33m\u001b[0m\u001b[0m\n\u001b[0m",
      "\u001b[1;31mTypeError\u001b[0m: '>=' not supported between instances of 'str' and 'int'"
     ]
    }
   ],
   "source": [
    "expense = expense - expense[expense['Fund #' >= 400]]"
   ]
  },
  {
   "cell_type": "code",
   "execution_count": 92,
   "metadata": {},
   "outputs": [
    {
     "data": {
      "text/plain": [
       "Fund #  Fund                          \n",
       "100     General                           0.0\n",
       "200     Internal Services                 0.0\n",
       "400     Northeast Guil Fire Prot Dist     0.0\n",
       "401     Kimesville Fire Prot Dist         0.0\n",
       "402     Alamance Fire Prot Dist           0.0\n",
       "403     Gibsonville Fire Prot Dist        0.0\n",
       "404     Colfax Fire Prot Dist             0.0\n",
       "405     Guil College Fire Prot Dist       0.0\n",
       "406     Guil-Rand Fire Prot Dist          0.0\n",
       "407     Mcleansville Fire Prot Dist       0.0\n",
       "408     Oak Ridge Fire Prot Dist          0.0\n",
       "409     Pcroft-Sdgfld Fire Prot Dist      0.0\n",
       "410     Solid Waste                       0.0\n",
       "411     Fire Prot Dist No. 13             0.0\n",
       "412     Stokesdale Fire Prot Dist         0.0\n",
       "413     Summerfield Fire Prot Dist        0.0\n",
       "414     Fire Prot Dist No. 14             0.0\n",
       "415     Fire Prot Dist No. 18             0.0\n",
       "416     Fire Prot Dist No. 28             0.0\n",
       "417     Whitsett Fire Prot Dist           0.0\n",
       "418     Mt Hope Com Fire Prot Dist        0.0\n",
       "419     Climax Fire Prot Dist             0.0\n",
       "420     Southeast Fire Prot Dist          0.0\n",
       "421     Julian Vol Fire Prot Dist         0.0\n",
       "422     Horneytown Fire Prot Dist.        0.0\n",
       "425     Fire Service Dist. No. 4          0.0\n",
       "427     Climax Fire Prot Dist             0.0\n",
       "428     Colfax Fire Prot Dist             0.0\n",
       "430     Fire Prot Dist No. 14             0.0\n",
       "431     Guil-Rand Fire District           0.0\n",
       "432     Mcleansville Fire Prot Dist       0.0\n",
       "435     Pcroft-Sdgfld Fire Prot Dist      0.0\n",
       "436     Pleasant Garden Fire Prot Dist    0.0\n",
       "437     Fire Prot Dist No. 13             0.0\n",
       "439     Summerfield Fire Prot Dist        0.0\n",
       "440     Whitsett Fire Prot Ser Dist       0.0\n",
       "441     Fire Prot Dist No. 28             0.0\n",
       "442     Northeast Guil Fire Prot Dist     0.0\n",
       "443     Guil College Fire Prot Dist       0.0\n",
       "450     Room Occupancy/Tourism Dev Tax    0.0\n",
       "499     Fire Funds                        0.0\n",
       "500     County Building Construction      0.0\n",
       "Name: Amount, dtype: float64"
      ]
     },
     "execution_count": 92,
     "metadata": {},
     "output_type": "execute_result"
    }
   ],
   "source": [
    "data.groupby(by=['Fund #', 'Fund']).Amount.sum()"
   ]
  }
 ],
 "metadata": {
  "kernelspec": {
   "display_name": "Python 3",
   "language": "python",
   "name": "python3"
  },
  "language_info": {
   "codemirror_mode": {
    "name": "ipython",
    "version": 3
   },
   "file_extension": ".py",
   "mimetype": "text/x-python",
   "name": "python",
   "nbconvert_exporter": "python",
   "pygments_lexer": "ipython3",
   "version": "3.6.5"
  }
 },
 "nbformat": 4,
 "nbformat_minor": 2
}
