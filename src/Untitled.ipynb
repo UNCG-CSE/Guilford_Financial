{
 "cells": [
  {
   "cell_type": "code",
   "execution_count": 2,
   "metadata": {},
   "outputs": [],
   "source": [
    "import matplotlib.pyplot as plt\n",
    "import pandas as pd\n",
    "import numpy as np\n",
    "import matplotlib\n",
    "import csv\n",
    "import warnings\n",
    "import seaborn as sns\n",
    "warnings.filterwarnings('ignore') # Disable warnings for now\n",
    "%matplotlib inline"
   ]
  },
  {
   "cell_type": "code",
   "execution_count": 3,
   "metadata": {},
   "outputs": [
    {
     "data": {
      "text/html": [
       "<div>\n",
       "<style scoped>\n",
       "    .dataframe tbody tr th:only-of-type {\n",
       "        vertical-align: middle;\n",
       "    }\n",
       "\n",
       "    .dataframe tbody tr th {\n",
       "        vertical-align: top;\n",
       "    }\n",
       "\n",
       "    .dataframe thead th {\n",
       "        text-align: right;\n",
       "    }\n",
       "</style>\n",
       "<table border=\"1\" class=\"dataframe\">\n",
       "  <thead>\n",
       "    <tr style=\"text-align: right;\">\n",
       "      <th></th>\n",
       "      <th>Entity</th>\n",
       "      <th>Account</th>\n",
       "      <th>Date</th>\n",
       "      <th>Description</th>\n",
       "      <th>Amount</th>\n",
       "    </tr>\n",
       "  </thead>\n",
       "  <tbody>\n",
       "    <tr>\n",
       "      <th>0</th>\n",
       "      <td>100-100001</td>\n",
       "      <td>41101</td>\n",
       "      <td>07/01/2012</td>\n",
       "      <td>Record PY prpd txs as CY</td>\n",
       "      <td>-116018.63</td>\n",
       "    </tr>\n",
       "    <tr>\n",
       "      <th>1</th>\n",
       "      <td>100-100001</td>\n",
       "      <td>41103</td>\n",
       "      <td>07/01/2012</td>\n",
       "      <td>Record PY prpd txs as CY</td>\n",
       "      <td>-1343129.12</td>\n",
       "    </tr>\n",
       "    <tr>\n",
       "      <th>2</th>\n",
       "      <td>100-100001</td>\n",
       "      <td>41201</td>\n",
       "      <td>07/01/2012</td>\n",
       "      <td>accrue sales&amp;use tax 7/16</td>\n",
       "      <td>1901125.37</td>\n",
       "    </tr>\n",
       "    <tr>\n",
       "      <th>3</th>\n",
       "      <td>100-100001</td>\n",
       "      <td>41202</td>\n",
       "      <td>07/01/2012</td>\n",
       "      <td>accrue sales&amp;use tax 7/16</td>\n",
       "      <td>866051.86</td>\n",
       "    </tr>\n",
       "    <tr>\n",
       "      <th>4</th>\n",
       "      <td>100-100001</td>\n",
       "      <td>41203</td>\n",
       "      <td>07/01/2012</td>\n",
       "      <td>accrue sales&amp;use tax 7/16</td>\n",
       "      <td>575521.51</td>\n",
       "    </tr>\n",
       "  </tbody>\n",
       "</table>\n",
       "</div>"
      ],
      "text/plain": [
       "       Entity  Account        Date                Description      Amount\n",
       "0  100-100001    41101  07/01/2012   Record PY prpd txs as CY  -116018.63\n",
       "1  100-100001    41103  07/01/2012   Record PY prpd txs as CY -1343129.12\n",
       "2  100-100001    41201  07/01/2012  accrue sales&use tax 7/16  1901125.37\n",
       "3  100-100001    41202  07/01/2012  accrue sales&use tax 7/16   866051.86\n",
       "4  100-100001    41203  07/01/2012  accrue sales&use tax 7/16   575521.51"
      ]
     },
     "execution_count": 3,
     "metadata": {},
     "output_type": "execute_result"
    }
   ],
   "source": [
    "df_trans = pd.read_csv(\"../data/Trans2.csv\")\n",
    "df_trans.head()"
   ]
  },
  {
   "cell_type": "code",
   "execution_count": 4,
   "metadata": {},
   "outputs": [],
   "source": [
    "# Remove negative transactions\n",
    "df_trans = df_trans[df_trans[\"Amount\"]>0]"
   ]
  },
  {
   "cell_type": "code",
   "execution_count": 5,
   "metadata": {},
   "outputs": [
    {
     "data": {
      "text/html": [
       "<div>\n",
       "<style scoped>\n",
       "    .dataframe tbody tr th:only-of-type {\n",
       "        vertical-align: middle;\n",
       "    }\n",
       "\n",
       "    .dataframe tbody tr th {\n",
       "        vertical-align: top;\n",
       "    }\n",
       "\n",
       "    .dataframe thead th {\n",
       "        text-align: right;\n",
       "    }\n",
       "</style>\n",
       "<table border=\"1\" class=\"dataframe\">\n",
       "  <thead>\n",
       "    <tr style=\"text-align: right;\">\n",
       "      <th></th>\n",
       "      <th>Entity</th>\n",
       "      <th>Account</th>\n",
       "      <th>Amount</th>\n",
       "      <th>Year</th>\n",
       "      <th>Month</th>\n",
       "    </tr>\n",
       "  </thead>\n",
       "  <tbody>\n",
       "    <tr>\n",
       "      <th>2</th>\n",
       "      <td>100-100001</td>\n",
       "      <td>41201</td>\n",
       "      <td>1901125.37</td>\n",
       "      <td>2012</td>\n",
       "      <td>7</td>\n",
       "    </tr>\n",
       "    <tr>\n",
       "      <th>3</th>\n",
       "      <td>100-100001</td>\n",
       "      <td>41202</td>\n",
       "      <td>866051.86</td>\n",
       "      <td>2012</td>\n",
       "      <td>7</td>\n",
       "    </tr>\n",
       "    <tr>\n",
       "      <th>4</th>\n",
       "      <td>100-100001</td>\n",
       "      <td>41203</td>\n",
       "      <td>575521.51</td>\n",
       "      <td>2012</td>\n",
       "      <td>7</td>\n",
       "    </tr>\n",
       "    <tr>\n",
       "      <th>5</th>\n",
       "      <td>100-100001</td>\n",
       "      <td>41204</td>\n",
       "      <td>1378.89</td>\n",
       "      <td>2012</td>\n",
       "      <td>7</td>\n",
       "    </tr>\n",
       "    <tr>\n",
       "      <th>6</th>\n",
       "      <td>100-100001</td>\n",
       "      <td>41212</td>\n",
       "      <td>304822.42</td>\n",
       "      <td>2012</td>\n",
       "      <td>7</td>\n",
       "    </tr>\n",
       "  </tbody>\n",
       "</table>\n",
       "</div>"
      ],
      "text/plain": [
       "       Entity  Account      Amount  Year  Month\n",
       "2  100-100001    41201  1901125.37  2012      7\n",
       "3  100-100001    41202   866051.86  2012      7\n",
       "4  100-100001    41203   575521.51  2012      7\n",
       "5  100-100001    41204     1378.89  2012      7\n",
       "6  100-100001    41212   304822.42  2012      7"
      ]
     },
     "execution_count": 5,
     "metadata": {},
     "output_type": "execute_result"
    }
   ],
   "source": [
    "# Convert the dates from strings to datetimes\n",
    "# TODO: Figure out how to do this faster and without Python crying\n",
    "df_trans[\"Date\"] = pd.to_datetime(df_trans[\"Date\"])\n",
    "df_trans[\"Year\"]= df_trans.Date.dt.year\n",
    "df_trans[\"Month\"]= df_trans.Date.dt.month\n",
    "\n",
    "df_trans = df_trans.drop(columns=[\"Date\", \"Description\"])\n",
    "df_trans.head()"
   ]
  },
  {
   "cell_type": "code",
   "execution_count": null,
   "metadata": {},
   "outputs": [],
   "source": [
    "# df_trans['Entity'].value_counts()"
   ]
  },
  {
   "cell_type": "code",
   "execution_count": null,
   "metadata": {},
   "outputs": [],
   "source": [
    "# LinearRegression for each entity\n",
    "# models = {} # Dictionary which maps entity to its model\n",
    "\n",
    "for entity in sorted(df_trans[\"Entity\"].unique()):\n",
    "    df_entity = df_trans[df_trans[\"Entity\"]==entity]\n",
    "    df_entity = df_entity.drop(columns=[\"Entity\"])\n",
    "\n",
    "    x = df_entity.drop(columns=[\"Amount\"], axis=1)\n",
    "    y = df_entity[\"Amount\"]\n",
    "\n",
    "    x_train, x_test, y_train, y_test = train_test_split(x, y, test_size=0.25)\n",
    "\n",
    "    model = LinearRegression(normalize=True)\n",
    "    model.fit(x_train, y_train)\n",
    "\n",
    "    # models[entity] = model\n",
    "\n",
    "    # Model evaluation\n",
    "    y_pred = model.predict(x_test)\n",
    "    y_val = model.predict(x_train)\n",
    "\n",
    "    print(\"[{}]\".format(entity))\n",
    "    print(\"\\t{} - {}\".format(len(x), len(y)))\n",
    "    print(\"\\tTraining set RMSE: {0:.3g}\".format(sqrt(mean_squared_error(y_train, y_val))))\n",
    "    print(\"\\tTraining set R2: {0:.3g}\".format(model.score(x_train, y_train)))\n",
    "    print(\"\\tTesting set RMSE: {0:.3g}\".format(sqrt(mean_squared_error(y_test, y_pred))))\n",
    "    print(\"\\tTesting set R2: {0:.3g}\".format(model.score(x_test, y_test)))"
   ]
  },
  {
   "cell_type": "code",
   "execution_count": 7,
   "metadata": {},
   "outputs": [
    {
     "name": "stderr",
     "output_type": "stream",
     "text": [
      "/anaconda2/lib/python2.7/site-packages/sklearn/cross_validation.py:41: DeprecationWarning: This module was deprecated in version 0.18 in favor of the model_selection module into which all the refactored classes and functions are moved. Also note that the interface of the new CV iterators are different from that of this module. This module will be removed in 0.20.\n",
      "  \"This module will be removed in 0.20.\", DeprecationWarning)\n"
     ]
    }
   ],
   "source": [
    "from sklearn.cross_validation import train_test_split"
   ]
  },
  {
   "cell_type": "code",
   "execution_count": 9,
   "metadata": {},
   "outputs": [],
   "source": [
    "X = df_trans[[u'Entity', u'Account', u'Year',u'Month']]\n",
    "# X = df[['Amount','Year','PerCapita']]\n",
    "y= df_trans[u'Amount']"
   ]
  },
  {
   "cell_type": "code",
   "execution_count": 10,
   "metadata": {},
   "outputs": [
    {
     "data": {
      "text/plain": [
       "Index([u'Entity', u'Account', u'Amount', u'Year', u'Month'], dtype='object')"
      ]
     },
     "execution_count": 10,
     "metadata": {},
     "output_type": "execute_result"
    }
   ],
   "source": [
    "df_trans.columns"
   ]
  },
  {
   "cell_type": "code",
   "execution_count": 11,
   "metadata": {},
   "outputs": [],
   "source": [
    "X_train, X_test, y_train, y_test = train_test_split(X, y, test_size=0.3,random_state=101)"
   ]
  },
  {
   "cell_type": "code",
   "execution_count": null,
   "metadata": {},
   "outputs": [],
   "source": []
  },
  {
   "cell_type": "code",
   "execution_count": 12,
   "metadata": {},
   "outputs": [],
   "source": [
    "from sklearn.linear_model import LinearRegression"
   ]
  },
  {
   "cell_type": "code",
   "execution_count": 13,
   "metadata": {},
   "outputs": [],
   "source": [
    "lm = LinearRegression()"
   ]
  },
  {
   "cell_type": "code",
   "execution_count": 19,
   "metadata": {},
   "outputs": [],
   "source": [
    "# lm.fit(X_train, y_train)"
   ]
  },
  {
   "cell_type": "code",
   "execution_count": null,
   "metadata": {},
   "outputs": [],
   "source": [
    "from sklearn.tree import DecisionTreeClassifier"
   ]
  },
  {
   "cell_type": "code",
   "execution_count": null,
   "metadata": {},
   "outputs": [],
   "source": [
    "dtree = DecisionTreeClassifier()"
   ]
  },
  {
   "cell_type": "code",
   "execution_count": null,
   "metadata": {},
   "outputs": [],
   "source": [
    "dtree.fit(X_train, y_train)"
   ]
  },
  {
   "cell_type": "code",
   "execution_count": null,
   "metadata": {},
   "outputs": [],
   "source": [
    "dtree.fit(X_train, y_train)"
   ]
  },
  {
   "cell_type": "code",
   "execution_count": null,
   "metadata": {},
   "outputs": [],
   "source": []
  }
 ],
 "metadata": {
  "kernelspec": {
   "display_name": "Python 2",
   "language": "python",
   "name": "python2"
  }
 },
 "nbformat": 4,
 "nbformat_minor": 2
}
