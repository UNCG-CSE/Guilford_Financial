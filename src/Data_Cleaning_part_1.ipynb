{
 "cells": [
  {
   "cell_type": "code",
   "execution_count": 21,
   "metadata": {},
   "outputs": [],
   "source": [
    "import pandas as pd\n",
    "import numpy as np\n",
    "df_budget=pd.read_excel(\"../data/2013-2018 Adopted Budgets.xlsx\")\n",
    "##  filling missing values in Amount with 0   ##\n",
    "df_budget.Amount=df_budget.Amount.fillna(0)\n",
    "\n",
    "## droping the column ExpSort from dataset ##\n",
    "df_budget.drop(columns=\"ExpSort\",inplace=True)\n",
    "\n",
    "##  Removing observations where Fund # is greater than or equal to 400   ##\n",
    "df_budget=df_budget[df_budget[\"Fund #\"] < 400]\n",
    "\n",
    "## Removing observations where Type is Revenue  ##\n",
    "df_budget=df_budget[df_budget[\"Type\"] != \"Revenue\"]\n",
    "\n",
    "\n",
    "##  saving to csv  Expense_budget ##\n",
    "\n",
    "df_budget.to_csv(\"../data/Expense_Budget.csv\",index=False)"
   ]
  },
  {
   "cell_type": "code",
   "execution_count": null,
   "metadata": {},
   "outputs": [],
   "source": []
  }
 ],
 "metadata": {
  "kernelspec": {
   "display_name": "Python 3",
   "language": "python",
   "name": "python3"
  },
  "language_info": {
   "codemirror_mode": {
    "name": "ipython",
    "version": 3
   },
   "file_extension": ".py",
   "mimetype": "text/x-python",
   "name": "python",
   "nbconvert_exporter": "python",
   "pygments_lexer": "ipython3",
   "version": "3.6.4"
  }
 },
 "nbformat": 4,
 "nbformat_minor": 2
}
