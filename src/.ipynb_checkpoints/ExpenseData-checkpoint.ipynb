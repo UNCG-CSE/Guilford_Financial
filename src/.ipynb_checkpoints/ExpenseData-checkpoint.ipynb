{
 "cells": [
  {
   "cell_type": "code",
   "execution_count": 1,
   "metadata": {},
   "outputs": [],
   "source": [
    "import matplotlib.pyplot as plt\n",
    "import pandas as pd\n",
    "import numpy as np\n",
    "import matplotlib"
   ]
  },
  {
   "cell_type": "code",
   "execution_count": 2,
   "metadata": {},
   "outputs": [],
   "source": [
    "data = pd.read_csv('../data/Expense_Budget.csv')"
   ]
  },
  {
   "cell_type": "code",
   "execution_count": 3,
   "metadata": {},
   "outputs": [
    {
     "data": {
      "text/html": [
       "<div>\n",
       "<style scoped>\n",
       "    .dataframe tbody tr th:only-of-type {\n",
       "        vertical-align: middle;\n",
       "    }\n",
       "\n",
       "    .dataframe tbody tr th {\n",
       "        vertical-align: top;\n",
       "    }\n",
       "\n",
       "    .dataframe thead th {\n",
       "        text-align: right;\n",
       "    }\n",
       "</style>\n",
       "<table border=\"1\" class=\"dataframe\">\n",
       "  <thead>\n",
       "    <tr style=\"text-align: right;\">\n",
       "      <th></th>\n",
       "      <th>Service #</th>\n",
       "      <th>Service Name</th>\n",
       "      <th>Fund #</th>\n",
       "      <th>Fund</th>\n",
       "      <th>Fund- # &amp; Name</th>\n",
       "      <th>Dept #</th>\n",
       "      <th>Dept Name</th>\n",
       "      <th>SubDept#</th>\n",
       "      <th>SubDept Name</th>\n",
       "      <th>Service Area</th>\n",
       "      <th>Type</th>\n",
       "      <th>Acct #</th>\n",
       "      <th>Acct Name</th>\n",
       "      <th>Acct Cat</th>\n",
       "      <th>AU All</th>\n",
       "      <th>budgetType</th>\n",
       "      <th>Amount</th>\n",
       "      <th>Year</th>\n",
       "      <th>PerCapita</th>\n",
       "    </tr>\n",
       "  </thead>\n",
       "  <tbody>\n",
       "    <tr>\n",
       "      <th>0</th>\n",
       "      <td>250115</td>\n",
       "      <td>Medicaid Transportation</td>\n",
       "      <td>100</td>\n",
       "      <td>General</td>\n",
       "      <td>100-General</td>\n",
       "      <td>250</td>\n",
       "      <td>Transportation - Human Services</td>\n",
       "      <td>10</td>\n",
       "      <td>Transportation-Human Serv</td>\n",
       "      <td>Human Services</td>\n",
       "      <td>Expense</td>\n",
       "      <td>58900</td>\n",
       "      <td>Expense Transfer</td>\n",
       "      <td>Other Expense</td>\n",
       "      <td>250115-58900</td>\n",
       "      <td>adopted</td>\n",
       "      <td>-2725474.0</td>\n",
       "      <td>2013</td>\n",
       "      <td>-5.431265</td>\n",
       "    </tr>\n",
       "    <tr>\n",
       "      <th>1</th>\n",
       "      <td>175310</td>\n",
       "      <td>Distribution Services</td>\n",
       "      <td>100</td>\n",
       "      <td>General</td>\n",
       "      <td>100-General</td>\n",
       "      <td>175</td>\n",
       "      <td>Facilities</td>\n",
       "      <td>30</td>\n",
       "      <td>Distribution Services</td>\n",
       "      <td>Support Services</td>\n",
       "      <td>Expense</td>\n",
       "      <td>58900</td>\n",
       "      <td>Expense Transfer</td>\n",
       "      <td>Other Expense</td>\n",
       "      <td>175310-58900</td>\n",
       "      <td>adopted</td>\n",
       "      <td>-550000.0</td>\n",
       "      <td>2013</td>\n",
       "      <td>-1.096028</td>\n",
       "    </tr>\n",
       "    <tr>\n",
       "      <th>2</th>\n",
       "      <td>310730</td>\n",
       "      <td>DS-Prison Farm Operation</td>\n",
       "      <td>100</td>\n",
       "      <td>General</td>\n",
       "      <td>100-General</td>\n",
       "      <td>310</td>\n",
       "      <td>Law Enforcement</td>\n",
       "      <td>40</td>\n",
       "      <td>Detention Services</td>\n",
       "      <td>Public Safety</td>\n",
       "      <td>Expense</td>\n",
       "      <td>58900</td>\n",
       "      <td>Expense Transfer</td>\n",
       "      <td>Other Expense</td>\n",
       "      <td>310730-58900</td>\n",
       "      <td>adopted</td>\n",
       "      <td>-140000.0</td>\n",
       "      <td>2013</td>\n",
       "      <td>-0.278989</td>\n",
       "    </tr>\n",
       "    <tr>\n",
       "      <th>3</th>\n",
       "      <td>210130</td>\n",
       "      <td>Child Abuse</td>\n",
       "      <td>100</td>\n",
       "      <td>General</td>\n",
       "      <td>100-General</td>\n",
       "      <td>210</td>\n",
       "      <td>Public Health</td>\n",
       "      <td>10</td>\n",
       "      <td>Community Health</td>\n",
       "      <td>Human Services</td>\n",
       "      <td>Expense</td>\n",
       "      <td>58900</td>\n",
       "      <td>Expense Transfer</td>\n",
       "      <td>Other Expense</td>\n",
       "      <td>210130-58900</td>\n",
       "      <td>adopted</td>\n",
       "      <td>-72160.0</td>\n",
       "      <td>2013</td>\n",
       "      <td>-0.143799</td>\n",
       "    </tr>\n",
       "    <tr>\n",
       "      <th>4</th>\n",
       "      <td>210270</td>\n",
       "      <td>Tobacco Prevention-Youth Proj</td>\n",
       "      <td>100</td>\n",
       "      <td>General</td>\n",
       "      <td>100-General</td>\n",
       "      <td>210</td>\n",
       "      <td>Public Health</td>\n",
       "      <td>10</td>\n",
       "      <td>Community Health</td>\n",
       "      <td>Human Services</td>\n",
       "      <td>Expense</td>\n",
       "      <td>51050</td>\n",
       "      <td>Merit Increases</td>\n",
       "      <td>Personnel Expense</td>\n",
       "      <td>210270-51050</td>\n",
       "      <td>adopted</td>\n",
       "      <td>-1212.0</td>\n",
       "      <td>2013</td>\n",
       "      <td>-0.002415</td>\n",
       "    </tr>\n",
       "  </tbody>\n",
       "</table>\n",
       "</div>"
      ],
      "text/plain": [
       "   Service #                   Service Name  Fund #     Fund Fund- # & Name  \\\n",
       "0     250115        Medicaid Transportation     100  General    100-General   \n",
       "1     175310          Distribution Services     100  General    100-General   \n",
       "2     310730       DS-Prison Farm Operation     100  General    100-General   \n",
       "3     210130                    Child Abuse     100  General    100-General   \n",
       "4     210270  Tobacco Prevention-Youth Proj     100  General    100-General   \n",
       "\n",
       "   Dept #                        Dept Name  SubDept#  \\\n",
       "0     250  Transportation - Human Services        10   \n",
       "1     175                       Facilities        30   \n",
       "2     310                  Law Enforcement        40   \n",
       "3     210                    Public Health        10   \n",
       "4     210                    Public Health        10   \n",
       "\n",
       "                SubDept Name      Service Area     Type  Acct #  \\\n",
       "0  Transportation-Human Serv    Human Services  Expense   58900   \n",
       "1      Distribution Services  Support Services  Expense   58900   \n",
       "2         Detention Services     Public Safety  Expense   58900   \n",
       "3           Community Health    Human Services  Expense   58900   \n",
       "4           Community Health    Human Services  Expense   51050   \n",
       "\n",
       "          Acct Name           Acct Cat        AU All budgetType     Amount  \\\n",
       "0  Expense Transfer      Other Expense  250115-58900    adopted -2725474.0   \n",
       "1  Expense Transfer      Other Expense  175310-58900    adopted  -550000.0   \n",
       "2  Expense Transfer      Other Expense  310730-58900    adopted  -140000.0   \n",
       "3  Expense Transfer      Other Expense  210130-58900    adopted   -72160.0   \n",
       "4   Merit Increases  Personnel Expense  210270-51050    adopted    -1212.0   \n",
       "\n",
       "   Year  PerCapita  \n",
       "0  2013  -5.431265  \n",
       "1  2013  -1.096028  \n",
       "2  2013  -0.278989  \n",
       "3  2013  -0.143799  \n",
       "4  2013  -0.002415  "
      ]
     },
     "execution_count": 3,
     "metadata": {},
     "output_type": "execute_result"
    }
   ],
   "source": [
    "data.head()"
   ]
  },
  {
   "cell_type": "code",
   "execution_count": 7,
   "metadata": {},
   "outputs": [
    {
     "data": {
      "text/plain": [
       "Index(['Service #', 'Service Name', 'Fund #', 'Fund', 'Fund- # & Name',\n",
       "       'Dept #', 'Dept Name', 'SubDept#', 'SubDept Name', 'Service Area',\n",
       "       'Type', 'Acct #', 'Acct Name', 'Acct Cat', 'AU All', 'budgetType',\n",
       "       'Amount', 'Year', 'PerCapita'],\n",
       "      dtype='object')"
      ]
     },
     "execution_count": 7,
     "metadata": {},
     "output_type": "execute_result"
    }
   ],
   "source": [
    "data.columns"
   ]
  },
  {
   "cell_type": "code",
   "execution_count": 6,
   "metadata": {},
   "outputs": [
    {
     "data": {
      "text/plain": [
       "count    2.191800e+04\n",
       "mean     1.718051e+05\n",
       "std      3.286581e+06\n",
       "min     -2.725474e+06\n",
       "25%      2.500000e+02\n",
       "50%      2.966000e+03\n",
       "75%      2.143700e+04\n",
       "max      1.958604e+08\n",
       "Name: Amount, dtype: float64"
      ]
     },
     "execution_count": 6,
     "metadata": {},
     "output_type": "execute_result"
    }
   ],
   "source": [
    "data.Amount.describe()"
   ]
  },
  {
   "cell_type": "code",
   "execution_count": 13,
   "metadata": {},
   "outputs": [
    {
     "data": {
      "text/plain": [
       "[<matplotlib.lines.Line2D at 0x259849ca828>]"
      ]
     },
     "execution_count": 13,
     "metadata": {},
     "output_type": "execute_result"
    },
    {
     "data": {
      "image/png": "[encoded data removed]",
      "text/plain": [
       "<Figure size 432x288 with 1 Axes>"
      ]
     },
     "metadata": {},
     "output_type": "display_data"
    }
   ],
   "source": [
    "thirteen = data[data.Year == 2013]\n",
    "fourteen = data[data.Year == 2014]\n",
    "fifteen = data[data.Year == 2015]\n",
    "sixteen = data[data.Year == 2016]\n",
    "seventeen = data[data.Year == 2017]\n",
    "eighteen = data[data.Year == 2018]\n",
    "\n",
    "thirteen_sum = thirteen.Amount.sum()\n",
    "fourteen_sum = fourteen.Amount.sum()\n",
    "fifteen_sum = fifteen.Amount.sum()\n",
    "sixteen_sum = sixteen.Amount.sum()\n",
    "seventeen_sum = seventeen.Amount.sum()\n",
    "eighteen_sum = eighteen.Amount.sum()\n",
    "\n",
    "sums = [thirteen_sum, fourteen_sum, fifteen_sum, sixteen_sum, seventeen_sum, eighteen_sum]\n",
    "axes = [2013, 2014, 2015, 2016, 2017, 2018]\n",
    "plt.plot(axes, sums)\n",
    "\n",
    "\n"
   ]
  },
  {
   "cell_type": "markdown",
   "metadata": {},
   "source": [
    "all expense budgets are on the order of $600 million"
   ]
  },
  {
   "cell_type": "code",
   "execution_count": 8,
   "metadata": {},
   "outputs": [
    {
     "data": {
      "text/plain": [
       "count    2.191800e+04\n",
       "mean     1.730611e+05\n",
       "std      3.286515e+06\n",
       "min      0.000000e+00\n",
       "25%      2.520000e+02\n",
       "50%      3.000000e+03\n",
       "75%      2.156775e+04\n",
       "max      1.958604e+08\n",
       "Name: Amount, dtype: float64"
      ]
     },
     "execution_count": 8,
     "metadata": {},
     "output_type": "execute_result"
    }
   ],
   "source": [
    "data.Amount.abs().describe()"
   ]
  },
  {
   "cell_type": "code",
   "execution_count": null,
   "metadata": {},
   "outputs": [],
   "source": []
  }
 ],
 "metadata": {
  "kernelspec": {
   "display_name": "Python 3",
   "language": "python",
   "name": "python3"
  },
  "language_info": {
   "codemirror_mode": {
    "name": "ipython",
    "version": 3
   },
   "file_extension": ".py",
   "mimetype": "text/x-python",
   "name": "python",
   "nbconvert_exporter": "python",
   "pygments_lexer": "ipython3",
   "version": "3.6.5"
  }
 },
 "nbformat": 4,
 "nbformat_minor": 2
}
