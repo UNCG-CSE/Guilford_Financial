{
 "cells": [
  {
   "cell_type": "code",
   "execution_count": 1,
   "metadata": {},
   "outputs": [
    {
     "data": {
      "text/html": [
       "<div>\n",
       "<style scoped>\n",
       "    .dataframe tbody tr th:only-of-type {\n",
       "        vertical-align: middle;\n",
       "    }\n",
       "\n",
       "    .dataframe tbody tr th {\n",
       "        vertical-align: top;\n",
       "    }\n",
       "\n",
       "    .dataframe thead th {\n",
       "        text-align: right;\n",
       "    }\n",
       "</style>\n",
       "<table border=\"1\" class=\"dataframe\">\n",
       "  <thead>\n",
       "    <tr style=\"text-align: right;\">\n",
       "      <th></th>\n",
       "      <th>Entity</th>\n",
       "      <th>Account</th>\n",
       "      <th>Date</th>\n",
       "      <th>Description</th>\n",
       "      <th>Amount</th>\n",
       "      <th>Date_Delta</th>\n",
       "      <th>Year</th>\n",
       "    </tr>\n",
       "  </thead>\n",
       "  <tbody>\n",
       "    <tr>\n",
       "      <th>0</th>\n",
       "      <td>100-100001</td>\n",
       "      <td>41101</td>\n",
       "      <td>2012-07-01</td>\n",
       "      <td>Record PY prpd txs as CY</td>\n",
       "      <td>-116018.63</td>\n",
       "      <td>0.0</td>\n",
       "      <td>2012</td>\n",
       "    </tr>\n",
       "    <tr>\n",
       "      <th>1</th>\n",
       "      <td>100-100001</td>\n",
       "      <td>41103</td>\n",
       "      <td>2012-07-01</td>\n",
       "      <td>Record PY prpd txs as CY</td>\n",
       "      <td>-1343129.12</td>\n",
       "      <td>0.0</td>\n",
       "      <td>2012</td>\n",
       "    </tr>\n",
       "    <tr>\n",
       "      <th>2</th>\n",
       "      <td>100-100001</td>\n",
       "      <td>41201</td>\n",
       "      <td>2012-07-01</td>\n",
       "      <td>accrue sales&amp;use tax 7/16</td>\n",
       "      <td>1901125.37</td>\n",
       "      <td>0.0</td>\n",
       "      <td>2012</td>\n",
       "    </tr>\n",
       "    <tr>\n",
       "      <th>3</th>\n",
       "      <td>100-100001</td>\n",
       "      <td>41202</td>\n",
       "      <td>2012-07-01</td>\n",
       "      <td>accrue sales&amp;use tax 7/16</td>\n",
       "      <td>866051.86</td>\n",
       "      <td>0.0</td>\n",
       "      <td>2012</td>\n",
       "    </tr>\n",
       "    <tr>\n",
       "      <th>4</th>\n",
       "      <td>100-100001</td>\n",
       "      <td>41203</td>\n",
       "      <td>2012-07-01</td>\n",
       "      <td>accrue sales&amp;use tax 7/16</td>\n",
       "      <td>575521.51</td>\n",
       "      <td>0.0</td>\n",
       "      <td>2012</td>\n",
       "    </tr>\n",
       "  </tbody>\n",
       "</table>\n",
       "</div>"
      ],
      "text/plain": [
       "       Entity  Account       Date                Description      Amount  \\\n",
       "0  100-100001    41101 2012-07-01   Record PY prpd txs as CY  -116018.63   \n",
       "1  100-100001    41103 2012-07-01   Record PY prpd txs as CY -1343129.12   \n",
       "2  100-100001    41201 2012-07-01  accrue sales&use tax 7/16  1901125.37   \n",
       "3  100-100001    41202 2012-07-01  accrue sales&use tax 7/16   866051.86   \n",
       "4  100-100001    41203 2012-07-01  accrue sales&use tax 7/16   575521.51   \n",
       "\n",
       "   Date_Delta  Year  \n",
       "0         0.0  2012  \n",
       "1         0.0  2012  \n",
       "2         0.0  2012  \n",
       "3         0.0  2012  \n",
       "4         0.0  2012  "
      ]
     },
     "execution_count": 1,
     "metadata": {},
     "output_type": "execute_result"
    }
   ],
   "source": [
    "import statsmodels.formula.api as smf\n",
    "import matplotlib.pyplot as plt\n",
    "import pandas as pd\n",
    "import numpy as np\n",
    "import matplotlib\n",
    "\n",
    "data = pd.read_csv(\"../data/Trans2.csv\")\n",
    "data.Date = pd.to_datetime(data.Date, format=\"%m/%d/%Y\")\n",
    "data['Date_Delta'] = (data['Date'] - data['Date'].min())  / np.timedelta64(1,'D')\n",
    "data['Year'] = data.Date.dt.year\n",
    "data.head()"
   ]
  },
  {
   "cell_type": "code",
   "execution_count": null,
   "metadata": {},
   "outputs": [],
   "source": [
    "data = data.groupby(by=['Account'])\n",
    "expdeptlist = []\n",
    "for dept, group in data:\n",
    "    expAnomalyCount = 0\n",
    "    i = 0\n",
    "    for amt in group.Amount:\n",
    "        if ((amt - group.Amount.mean()) > 3 * group.Amount.std()):\n",
    "            expAnomalyCount += 1\n",
    "    x = dept, expAnomalyCount\n",
    "    expdeptlist.append(x)"
   ]
  },
  {
   "cell_type": "code",
   "execution_count": null,
   "metadata": {},
   "outputs": [],
   "source": [
    "deptAnom = pd.Series()\n",
    "for y in expdeptlist:\n",
    "    deptAnom.set_value(y[0],y[1])\n",
    "da = deptAnom.plot(kind='bar', figsize=(20,10), title = 'Number of Anomalies in Transactions per Account Over 5 Years')\n",
    "da.set_xlabel(\"Account Number\")\n",
    "da.set_ylabel(\"Number of Anomalies\")\n",
    "plt.savefig('trans_anom.pdf')"
   ]
  },
  {
   "cell_type": "code",
   "execution_count": null,
   "metadata": {},
   "outputs": [],
   "source": [
    "da = deptAnom.hist(figsize=(20,10), bins = 10)\n",
    "da.set_xlabel(\"Number of Anomalies\")\n",
    "da.set_ylabel(\"Probability\")\n",
    "da.set_title(\"Anomaly Probability\")\n",
    "plt.savefig('myfile.pdf')"
   ]
  },
  {
   "cell_type": "code",
   "execution_count": null,
   "metadata": {},
   "outputs": [],
   "source": [
    "for dept, group in data:\n",
    "    expAnomalyCount = 0\n",
    "    for amt in group.Amount:\n",
    "        if ((amt - group.Amount.mean()) > 3 * group.Amount.std()):\n",
    "            print \"Anomaly Detected:\"\n",
    "            print data.apply[group.loc[group[\"Amount\"] == amt].index]\n",
    "            expAnomalyCount += 1\n",
    "            print\n",
    "    print dept\n",
    "    print expAnomalyCount\n",
    "    print"
   ]
  },
  {
   "cell_type": "code",
   "execution_count": null,
   "metadata": {},
   "outputs": [],
   "source": []
  }
 ],
 "metadata": {
  "kernelspec": {
   "display_name": "Python 2",
   "language": "python",
   "name": "python2"
  },
  "language_info": {
   "codemirror_mode": {
    "name": "ipython",
    "version": 2
   },
   "file_extension": ".py",
   "mimetype": "text/x-python",
   "name": "python",
   "nbconvert_exporter": "python",
   "pygments_lexer": "ipython2",
   "version": "2.7.15"
  }
 },
 "nbformat": 4,
 "nbformat_minor": 2
}
