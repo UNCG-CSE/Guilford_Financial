{
 "cells": [
  {
   "cell_type": "code",
   "execution_count": 1,
   "metadata": {},
   "outputs": [],
   "source": [
    "import matplotlib.pyplot as plt\n",
    "import pandas as pd\n",
    "import numpy as np\n",
    "import matplotlib\n",
    "\n",
    "data = pd.read_excel(\"../data/Revenue_Budget.xlsx\")\n"
   ]
  },
  {
   "cell_type": "code",
   "execution_count": 2,
   "metadata": {},
   "outputs": [
    {
     "data": {
      "text/html": [
       "<div>\n",
       "<style scoped>\n",
       "    .dataframe tbody tr th:only-of-type {\n",
       "        vertical-align: middle;\n",
       "    }\n",
       "\n",
       "    .dataframe tbody tr th {\n",
       "        vertical-align: top;\n",
       "    }\n",
       "\n",
       "    .dataframe thead th {\n",
       "        text-align: right;\n",
       "    }\n",
       "</style>\n",
       "<table border=\"1\" class=\"dataframe\">\n",
       "  <thead>\n",
       "    <tr style=\"text-align: right;\">\n",
       "      <th></th>\n",
       "      <th>Service #</th>\n",
       "      <th>Service Name</th>\n",
       "      <th>Fund #</th>\n",
       "      <th>Fund</th>\n",
       "      <th>Fund- # &amp; Name</th>\n",
       "      <th>Dept #</th>\n",
       "      <th>Dept Name</th>\n",
       "      <th>SubDept#</th>\n",
       "      <th>SubDept Name</th>\n",
       "      <th>Service Area</th>\n",
       "      <th>Type</th>\n",
       "      <th>Acct #</th>\n",
       "      <th>Acct Name</th>\n",
       "      <th>Acct Cat</th>\n",
       "      <th>AU All</th>\n",
       "      <th>budgetType</th>\n",
       "      <th>Amount</th>\n",
       "      <th>Year</th>\n",
       "      <th>PerCapita</th>\n",
       "    </tr>\n",
       "  </thead>\n",
       "  <tbody>\n",
       "    <tr>\n",
       "      <th>0</th>\n",
       "      <td>100001</td>\n",
       "      <td>General Fund Level</td>\n",
       "      <td>100</td>\n",
       "      <td>General</td>\n",
       "      <td>100-General</td>\n",
       "      <td>100</td>\n",
       "      <td>Fund Level</td>\n",
       "      <td>1</td>\n",
       "      <td>General Fund Level</td>\n",
       "      <td>General Fund Level</td>\n",
       "      <td>Revenue</td>\n",
       "      <td>41101</td>\n",
       "      <td>Ad Valorem-Current Year</td>\n",
       "      <td>Property Tax</td>\n",
       "      <td>100001-41101</td>\n",
       "      <td>adopted</td>\n",
       "      <td>-320700000</td>\n",
       "      <td>2013</td>\n",
       "      <td>-639.083960</td>\n",
       "    </tr>\n",
       "    <tr>\n",
       "      <th>1</th>\n",
       "      <td>100001</td>\n",
       "      <td>General Fund Level</td>\n",
       "      <td>100</td>\n",
       "      <td>General</td>\n",
       "      <td>100-General</td>\n",
       "      <td>100</td>\n",
       "      <td>Fund Level</td>\n",
       "      <td>1</td>\n",
       "      <td>General Fund Level</td>\n",
       "      <td>General Fund Level</td>\n",
       "      <td>Revenue</td>\n",
       "      <td>41102</td>\n",
       "      <td>Ad Valorem-Prior Years</td>\n",
       "      <td>Property Tax</td>\n",
       "      <td>100001-41102</td>\n",
       "      <td>adopted</td>\n",
       "      <td>-2400000</td>\n",
       "      <td>2013</td>\n",
       "      <td>-4.782668</td>\n",
       "    </tr>\n",
       "    <tr>\n",
       "      <th>2</th>\n",
       "      <td>100001</td>\n",
       "      <td>General Fund Level</td>\n",
       "      <td>100</td>\n",
       "      <td>General</td>\n",
       "      <td>100-General</td>\n",
       "      <td>100</td>\n",
       "      <td>Fund Level</td>\n",
       "      <td>1</td>\n",
       "      <td>General Fund Level</td>\n",
       "      <td>General Fund Level</td>\n",
       "      <td>Revenue</td>\n",
       "      <td>41103</td>\n",
       "      <td>Vehicle Taxes-Current Year</td>\n",
       "      <td>Property Tax</td>\n",
       "      <td>100001-41103</td>\n",
       "      <td>adopted</td>\n",
       "      <td>-23000000</td>\n",
       "      <td>2013</td>\n",
       "      <td>-45.833898</td>\n",
       "    </tr>\n",
       "    <tr>\n",
       "      <th>3</th>\n",
       "      <td>100001</td>\n",
       "      <td>General Fund Level</td>\n",
       "      <td>100</td>\n",
       "      <td>General</td>\n",
       "      <td>100-General</td>\n",
       "      <td>100</td>\n",
       "      <td>Fund Level</td>\n",
       "      <td>1</td>\n",
       "      <td>General Fund Level</td>\n",
       "      <td>General Fund Level</td>\n",
       "      <td>Revenue</td>\n",
       "      <td>41104</td>\n",
       "      <td>Vehicle Taxes-Prior Years</td>\n",
       "      <td>Property Tax</td>\n",
       "      <td>100001-41104</td>\n",
       "      <td>adopted</td>\n",
       "      <td>-1900000</td>\n",
       "      <td>2013</td>\n",
       "      <td>-3.786279</td>\n",
       "    </tr>\n",
       "    <tr>\n",
       "      <th>4</th>\n",
       "      <td>100001</td>\n",
       "      <td>General Fund Level</td>\n",
       "      <td>100</td>\n",
       "      <td>General</td>\n",
       "      <td>100-General</td>\n",
       "      <td>100</td>\n",
       "      <td>Fund Level</td>\n",
       "      <td>1</td>\n",
       "      <td>General Fund Level</td>\n",
       "      <td>General Fund Level</td>\n",
       "      <td>Revenue</td>\n",
       "      <td>41113</td>\n",
       "      <td>Vehicle Taxes - Current Year (VTS)</td>\n",
       "      <td>Property Tax</td>\n",
       "      <td>100001-41113</td>\n",
       "      <td>adopted</td>\n",
       "      <td>0</td>\n",
       "      <td>2013</td>\n",
       "      <td>0.000000</td>\n",
       "    </tr>\n",
       "  </tbody>\n",
       "</table>\n",
       "</div>"
      ],
      "text/plain": [
       "   Service #        Service Name  Fund #     Fund Fund- # & Name  Dept #  \\\n",
       "0     100001  General Fund Level     100  General    100-General     100   \n",
       "1     100001  General Fund Level     100  General    100-General     100   \n",
       "2     100001  General Fund Level     100  General    100-General     100   \n",
       "3     100001  General Fund Level     100  General    100-General     100   \n",
       "4     100001  General Fund Level     100  General    100-General     100   \n",
       "\n",
       "    Dept Name  SubDept#        SubDept Name        Service Area     Type  \\\n",
       "0  Fund Level         1  General Fund Level  General Fund Level  Revenue   \n",
       "1  Fund Level         1  General Fund Level  General Fund Level  Revenue   \n",
       "2  Fund Level         1  General Fund Level  General Fund Level  Revenue   \n",
       "3  Fund Level         1  General Fund Level  General Fund Level  Revenue   \n",
       "4  Fund Level         1  General Fund Level  General Fund Level  Revenue   \n",
       "\n",
       "   Acct #                           Acct Name      Acct Cat        AU All  \\\n",
       "0   41101             Ad Valorem-Current Year  Property Tax  100001-41101   \n",
       "1   41102              Ad Valorem-Prior Years  Property Tax  100001-41102   \n",
       "2   41103          Vehicle Taxes-Current Year  Property Tax  100001-41103   \n",
       "3   41104           Vehicle Taxes-Prior Years  Property Tax  100001-41104   \n",
       "4   41113  Vehicle Taxes - Current Year (VTS)  Property Tax  100001-41113   \n",
       "\n",
       "  budgetType     Amount  Year   PerCapita  \n",
       "0    adopted -320700000  2013 -639.083960  \n",
       "1    adopted   -2400000  2013   -4.782668  \n",
       "2    adopted  -23000000  2013  -45.833898  \n",
       "3    adopted   -1900000  2013   -3.786279  \n",
       "4    adopted          0  2013    0.000000  "
      ]
     },
     "execution_count": 2,
     "metadata": {},
     "output_type": "execute_result"
    }
   ],
   "source": [
    "data.head()"
   ]
  },
  {
   "cell_type": "code",
   "execution_count": 4,
   "metadata": {},
   "outputs": [
    {
     "data": {
      "text/plain": [
       "Index(['Service #', 'Service Name', 'Fund #', 'Fund', 'Fund- # & Name',\n",
       "       'Dept #', 'Dept Name', 'SubDept#', 'SubDept Name', 'Service Area',\n",
       "       'Type', 'Acct #', 'Acct Name', 'Acct Cat', 'AU All', 'budgetType',\n",
       "       'Amount', 'Year', 'PerCapita'],\n",
       "      dtype='object')"
      ]
     },
     "execution_count": 4,
     "metadata": {},
     "output_type": "execute_result"
    }
   ],
   "source": [
    "data.columns"
   ]
  },
  {
   "cell_type": "code",
   "execution_count": 5,
   "metadata": {},
   "outputs": [
    {
     "data": {
      "text/html": [
       "<div>\n",
       "<style scoped>\n",
       "    .dataframe tbody tr th:only-of-type {\n",
       "        vertical-align: middle;\n",
       "    }\n",
       "\n",
       "    .dataframe tbody tr th {\n",
       "        vertical-align: top;\n",
       "    }\n",
       "\n",
       "    .dataframe thead th {\n",
       "        text-align: right;\n",
       "    }\n",
       "</style>\n",
       "<table border=\"1\" class=\"dataframe\">\n",
       "  <thead>\n",
       "    <tr style=\"text-align: right;\">\n",
       "      <th></th>\n",
       "      <th>Service #</th>\n",
       "      <th>Fund #</th>\n",
       "      <th>Dept #</th>\n",
       "      <th>SubDept#</th>\n",
       "      <th>Acct #</th>\n",
       "      <th>Amount</th>\n",
       "      <th>Year</th>\n",
       "      <th>PerCapita</th>\n",
       "    </tr>\n",
       "  </thead>\n",
       "  <tbody>\n",
       "    <tr>\n",
       "      <th>count</th>\n",
       "      <td>3646.000000</td>\n",
       "      <td>3646.000000</td>\n",
       "      <td>3646.000000</td>\n",
       "      <td>3646.000000</td>\n",
       "      <td>3646.000000</td>\n",
       "      <td>3.646000e+03</td>\n",
       "      <td>3646.000000</td>\n",
       "      <td>3646.000000</td>\n",
       "    </tr>\n",
       "    <tr>\n",
       "      <th>mean</th>\n",
       "      <td>267569.856555</td>\n",
       "      <td>104.415798</td>\n",
       "      <td>267.302249</td>\n",
       "      <td>22.388645</td>\n",
       "      <td>45913.995612</td>\n",
       "      <td>-1.032810e+06</td>\n",
       "      <td>2015.339276</td>\n",
       "      <td>-2.008882</td>\n",
       "    </tr>\n",
       "    <tr>\n",
       "      <th>std</th>\n",
       "      <td>124528.562570</td>\n",
       "      <td>20.547417</td>\n",
       "      <td>124.485861</td>\n",
       "      <td>18.905267</td>\n",
       "      <td>2124.131309</td>\n",
       "      <td>1.338773e+07</td>\n",
       "      <td>1.725569</td>\n",
       "      <td>26.041648</td>\n",
       "    </tr>\n",
       "    <tr>\n",
       "      <th>min</th>\n",
       "      <td>100001.000000</td>\n",
       "      <td>100.000000</td>\n",
       "      <td>100.000000</td>\n",
       "      <td>1.000000</td>\n",
       "      <td>41101.000000</td>\n",
       "      <td>-3.321408e+08</td>\n",
       "      <td>2013.000000</td>\n",
       "      <td>-639.083960</td>\n",
       "    </tr>\n",
       "    <tr>\n",
       "      <th>25%</th>\n",
       "      <td>210125.000000</td>\n",
       "      <td>100.000000</td>\n",
       "      <td>210.000000</td>\n",
       "      <td>10.000000</td>\n",
       "      <td>44637.000000</td>\n",
       "      <td>-1.357885e+05</td>\n",
       "      <td>2014.000000</td>\n",
       "      <td>-0.263273</td>\n",
       "    </tr>\n",
       "    <tr>\n",
       "      <th>50%</th>\n",
       "      <td>220525.000000</td>\n",
       "      <td>100.000000</td>\n",
       "      <td>220.000000</td>\n",
       "      <td>20.000000</td>\n",
       "      <td>45216.500000</td>\n",
       "      <td>-1.786200e+04</td>\n",
       "      <td>2015.000000</td>\n",
       "      <td>-0.034363</td>\n",
       "    </tr>\n",
       "    <tr>\n",
       "      <th>75%</th>\n",
       "      <td>310701.000000</td>\n",
       "      <td>100.000000</td>\n",
       "      <td>310.000000</td>\n",
       "      <td>30.000000</td>\n",
       "      <td>47101.000000</td>\n",
       "      <td>-5.647500e+02</td>\n",
       "      <td>2017.000000</td>\n",
       "      <td>-0.001108</td>\n",
       "    </tr>\n",
       "    <tr>\n",
       "      <th>max</th>\n",
       "      <td>910110.000000</td>\n",
       "      <td>200.000000</td>\n",
       "      <td>910.000000</td>\n",
       "      <td>70.000000</td>\n",
       "      <td>49990.000000</td>\n",
       "      <td>0.000000e+00</td>\n",
       "      <td>2018.000000</td>\n",
       "      <td>0.000000</td>\n",
       "    </tr>\n",
       "  </tbody>\n",
       "</table>\n",
       "</div>"
      ],
      "text/plain": [
       "           Service #       Fund #       Dept #     SubDept#        Acct #  \\\n",
       "count    3646.000000  3646.000000  3646.000000  3646.000000   3646.000000   \n",
       "mean   267569.856555   104.415798   267.302249    22.388645  45913.995612   \n",
       "std    124528.562570    20.547417   124.485861    18.905267   2124.131309   \n",
       "min    100001.000000   100.000000   100.000000     1.000000  41101.000000   \n",
       "25%    210125.000000   100.000000   210.000000    10.000000  44637.000000   \n",
       "50%    220525.000000   100.000000   220.000000    20.000000  45216.500000   \n",
       "75%    310701.000000   100.000000   310.000000    30.000000  47101.000000   \n",
       "max    910110.000000   200.000000   910.000000    70.000000  49990.000000   \n",
       "\n",
       "             Amount         Year    PerCapita  \n",
       "count  3.646000e+03  3646.000000  3646.000000  \n",
       "mean  -1.032810e+06  2015.339276    -2.008882  \n",
       "std    1.338773e+07     1.725569    26.041648  \n",
       "min   -3.321408e+08  2013.000000  -639.083960  \n",
       "25%   -1.357885e+05  2014.000000    -0.263273  \n",
       "50%   -1.786200e+04  2015.000000    -0.034363  \n",
       "75%   -5.647500e+02  2017.000000    -0.001108  \n",
       "max    0.000000e+00  2018.000000     0.000000  "
      ]
     },
     "execution_count": 5,
     "metadata": {},
     "output_type": "execute_result"
    }
   ],
   "source": [
    "data.describe()"
   ]
  },
  {
   "cell_type": "code",
   "execution_count": 6,
   "metadata": {},
   "outputs": [
    {
     "data": {
      "text/plain": [
       "count    3.646000e+03\n",
       "mean    -1.032810e+06\n",
       "std      1.338773e+07\n",
       "min     -3.321408e+08\n",
       "25%     -1.357885e+05\n",
       "50%     -1.786200e+04\n",
       "75%     -5.647500e+02\n",
       "max      0.000000e+00\n",
       "Name: Amount, dtype: float64"
      ]
     },
     "execution_count": 6,
     "metadata": {},
     "output_type": "execute_result"
    }
   ],
   "source": [
    "data.Amount.describe()"
   ]
  },
  {
   "cell_type": "code",
   "execution_count": 24,
   "metadata": {},
   "outputs": [],
   "source": [
    "thirteen = data[data.Year == 2013]\n",
    "fourteen = data[data.Year == 2014]\n",
    "fifteen = data[data.Year == 2015]\n",
    "sixteen = data[data.Year == 2016]\n",
    "seventeen = data[data.Year == 2017]\n",
    "eighteen = data[data.Year == 2018]\n",
    "\n",
    "\n",
    "thirteen_sum = thirteen.Amount.sum() * -1\n",
    "fourteen_sum = fourteen.Amount.sum() * -1\n",
    "fifteen_sum = fifteen.Amount.sum() * -1\n",
    "sixteen_sum = sixteen.Amount.sum() * -1\n",
    "seventeen_sum = seventeen.Amount.sum() * -1\n",
    "eighteen_sum = eighteen.Amount.sum() * -1\n",
    "\n",
    "thirteen_mean = thirteen.Amount.mean() * -1\n",
    "fourteen_mean = fourteen.Amount.mean() * -1\n",
    "fifteen_mean = fifteen.Amount.mean() * -1\n",
    "sixteen_mean = sixteen.Amount.mean() * -1\n",
    "seventeen_mean = seventeen.Amount.mean() * -1\n",
    "eighteen_mean = eighteen.Amount.mean() * -1\n",
    "\n",
    "counts = [thirteen.count(), fourteen.count(), fifteen.count(), sixteen.count(), seventeen.count(), eighteen.count()]\n",
    "sums = [thirteen_sum, fourteen_sum, fifteen_sum, sixteen_sum, seventeen_sum, eighteen_sum]\n",
    "means = [thirteen_mean, fourteen_mean, fifteen_mean, sixteen_mean, seventeen_mean, eighteen_mean]\n",
    "axes = [2013, 2014, 2015, 2016, 2017, 2018]\n"
   ]
  },
  {
   "cell_type": "code",
   "execution_count": 19,
   "metadata": {},
   "outputs": [
    {
     "data": {
      "text/plain": [
       "[<matplotlib.lines.Line2D at 0x1fde50ecd30>]"
      ]
     },
     "execution_count": 19,
     "metadata": {},
     "output_type": "execute_result"
    },
    {
     "data": {
      "image/png": "[encoded data removed]",
      "text/plain": [
       "<Figure size 432x288 with 1 Axes>"
      ]
     },
     "metadata": {},
     "output_type": "display_data"
    }
   ],
   "source": [
    "plt.plot(axes, sums)"
   ]
  },
  {
   "cell_type": "code",
   "execution_count": 14,
   "metadata": {},
   "outputs": [
    {
     "data": {
      "text/plain": [
       "[627493567, 602366971, 609064920, 628665865, 643857089, 654175999]"
      ]
     },
     "execution_count": 14,
     "metadata": {},
     "output_type": "execute_result"
    }
   ],
   "source": [
    "sums"
   ]
  },
  {
   "cell_type": "markdown",
   "metadata": {},
   "source": [
    "The sums of all yearly budgets are on the order of $600 million to $650 million"
   ]
  },
  {
   "cell_type": "code",
   "execution_count": 18,
   "metadata": {},
   "outputs": [
    {
     "data": {
      "text/plain": [
       "[<matplotlib.lines.Line2D at 0x1fde508e898>]"
      ]
     },
     "execution_count": 18,
     "metadata": {},
     "output_type": "execute_result"
    },
    {
     "data": {
      "image/png": "[encoded data removed]",
      "text/plain": [
       "<Figure size 432x288 with 1 Axes>"
      ]
     },
     "metadata": {},
     "output_type": "display_data"
    }
   ],
   "source": [
    "plt.plot(axes, means)"
   ]
  },
  {
   "cell_type": "code",
   "execution_count": 25,
   "metadata": {},
   "outputs": [
    {
     "data": {
      "text/plain": [
       "[<matplotlib.lines.Line2D at 0x1fde5179b70>,\n",
       " <matplotlib.lines.Line2D at 0x1fde5179d30>,\n",
       " <matplotlib.lines.Line2D at 0x1fde5179e80>,\n",
       " <matplotlib.lines.Line2D at 0x1fde5179fd0>,\n",
       " <matplotlib.lines.Line2D at 0x1fde5181160>,\n",
       " <matplotlib.lines.Line2D at 0x1fde51812b0>,\n",
       " <matplotlib.lines.Line2D at 0x1fde5181400>,\n",
       " <matplotlib.lines.Line2D at 0x1fde5181550>,\n",
       " <matplotlib.lines.Line2D at 0x1fde51816a0>,\n",
       " <matplotlib.lines.Line2D at 0x1fde51817f0>,\n",
       " <matplotlib.lines.Line2D at 0x1fde51566a0>,\n",
       " <matplotlib.lines.Line2D at 0x1fde5181a58>,\n",
       " <matplotlib.lines.Line2D at 0x1fde5181ba8>,\n",
       " <matplotlib.lines.Line2D at 0x1fde5181cf8>,\n",
       " <matplotlib.lines.Line2D at 0x1fde5181e48>,\n",
       " <matplotlib.lines.Line2D at 0x1fde5181f98>,\n",
       " <matplotlib.lines.Line2D at 0x1fde5186128>,\n",
       " <matplotlib.lines.Line2D at 0x1fde5186278>,\n",
       " <matplotlib.lines.Line2D at 0x1fde51863c8>]"
      ]
     },
     "execution_count": 25,
     "metadata": {},
     "output_type": "execute_result"
    },
    {
     "data": {
      "image/png": "[encoded data removed]",
      "text/plain": [
       "<Figure size 432x288 with 1 Axes>"
      ]
     },
     "metadata": {},
     "output_type": "display_data"
    }
   ],
   "source": [
    "plt.plot(axes, counts)"
   ]
  },
  {
   "cell_type": "markdown",
   "metadata": {},
   "source": [
    "Amount of revenue budgeted went up over the 6 year period, but number of services receiving budgets went down"
   ]
  },
  {
   "cell_type": "code",
   "execution_count": 35,
   "metadata": {},
   "outputs": [
    {
     "ename": "AttributeError",
     "evalue": "'AxesSubplot' object has no attribute 'show'",
     "output_type": "error",
     "traceback": [
      "\u001b[1;31m---------------------------------------------------------------------------\u001b[0m",
      "\u001b[1;31mAttributeError\u001b[0m                            Traceback (most recent call last)",
      "\u001b[1;32m<ipython-input-35-bcb0fd2f75cb>\u001b[0m in \u001b[0;36m<module>\u001b[1;34m()\u001b[0m\n\u001b[1;32m----> 1\u001b[1;33m \u001b[0mthirteen\u001b[0m\u001b[1;33m[\u001b[0m\u001b[1;34m\"Amount\"\u001b[0m\u001b[1;33m]\u001b[0m\u001b[1;33m.\u001b[0m\u001b[0mvalue_counts\u001b[0m\u001b[1;33m(\u001b[0m\u001b[1;33m)\u001b[0m\u001b[1;33m.\u001b[0m\u001b[0mplot\u001b[0m\u001b[1;33m(\u001b[0m\u001b[1;33m)\u001b[0m\u001b[1;33m.\u001b[0m\u001b[0mshow\u001b[0m\u001b[1;33m(\u001b[0m\u001b[1;33m)\u001b[0m\u001b[1;33m\u001b[0m\u001b[0m\n\u001b[0m",
      "\u001b[1;31mAttributeError\u001b[0m: 'AxesSubplot' object has no attribute 'show'"
     ]
    },
    {
     "data": {
      "image/png": "[encoded data removed]",
      "text/plain": [
       "<Figure size 432x288 with 1 Axes>"
      ]
     },
     "metadata": {},
     "output_type": "display_data"
    }
   ],
   "source": [
    "thirteen[\"Amount\"].value_counts().plot().show()"
   ]
  },
  {
   "cell_type": "code",
   "execution_count": null,
   "metadata": {},
   "outputs": [],
   "source": []
  }
 ],
 "metadata": {
  "kernelspec": {
   "display_name": "Python 3",
   "language": "python",
   "name": "python3"
  },
  "language_info": {
   "codemirror_mode": {
    "name": "ipython",
    "version": 3
   },
   "file_extension": ".py",
   "mimetype": "text/x-python",
   "name": "python",
   "nbconvert_exporter": "python",
   "pygments_lexer": "ipython3",
   "version": "3.6.5"
  }
 },
 "nbformat": 4,
 "nbformat_minor": 2
}
