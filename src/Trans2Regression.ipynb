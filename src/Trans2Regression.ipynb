{
 "cells": [
  {
   "cell_type": "code",
   "execution_count": 1,
   "metadata": {},
   "outputs": [
    {
     "data": {
      "text/html": [
       "<div>\n",
       "<style scoped>\n",
       "    .dataframe tbody tr th:only-of-type {\n",
       "        vertical-align: middle;\n",
       "    }\n",
       "\n",
       "    .dataframe tbody tr th {\n",
       "        vertical-align: top;\n",
       "    }\n",
       "\n",
       "    .dataframe thead th {\n",
       "        text-align: right;\n",
       "    }\n",
       "</style>\n",
       "<table border=\"1\" class=\"dataframe\">\n",
       "  <thead>\n",
       "    <tr style=\"text-align: right;\">\n",
       "      <th></th>\n",
       "      <th>Entity</th>\n",
       "      <th>Account</th>\n",
       "      <th>Date</th>\n",
       "      <th>Description</th>\n",
       "      <th>Amount</th>\n",
       "    </tr>\n",
       "  </thead>\n",
       "  <tbody>\n",
       "    <tr>\n",
       "      <th>0</th>\n",
       "      <td>100-100001</td>\n",
       "      <td>41101</td>\n",
       "      <td>07/01/2012</td>\n",
       "      <td>Record PY prpd txs as CY</td>\n",
       "      <td>-116018.63</td>\n",
       "    </tr>\n",
       "    <tr>\n",
       "      <th>1</th>\n",
       "      <td>100-100001</td>\n",
       "      <td>41103</td>\n",
       "      <td>07/01/2012</td>\n",
       "      <td>Record PY prpd txs as CY</td>\n",
       "      <td>-1343129.12</td>\n",
       "    </tr>\n",
       "    <tr>\n",
       "      <th>2</th>\n",
       "      <td>100-100001</td>\n",
       "      <td>41201</td>\n",
       "      <td>07/01/2012</td>\n",
       "      <td>accrue sales&amp;use tax 7/16</td>\n",
       "      <td>1901125.37</td>\n",
       "    </tr>\n",
       "    <tr>\n",
       "      <th>3</th>\n",
       "      <td>100-100001</td>\n",
       "      <td>41202</td>\n",
       "      <td>07/01/2012</td>\n",
       "      <td>accrue sales&amp;use tax 7/16</td>\n",
       "      <td>866051.86</td>\n",
       "    </tr>\n",
       "    <tr>\n",
       "      <th>4</th>\n",
       "      <td>100-100001</td>\n",
       "      <td>41203</td>\n",
       "      <td>07/01/2012</td>\n",
       "      <td>accrue sales&amp;use tax 7/16</td>\n",
       "      <td>575521.51</td>\n",
       "    </tr>\n",
       "  </tbody>\n",
       "</table>\n",
       "</div>"
      ],
      "text/plain": [
       "       Entity  Account        Date                Description      Amount\n",
       "0  100-100001    41101  07/01/2012   Record PY prpd txs as CY  -116018.63\n",
       "1  100-100001    41103  07/01/2012   Record PY prpd txs as CY -1343129.12\n",
       "2  100-100001    41201  07/01/2012  accrue sales&use tax 7/16  1901125.37\n",
       "3  100-100001    41202  07/01/2012  accrue sales&use tax 7/16   866051.86\n",
       "4  100-100001    41203  07/01/2012  accrue sales&use tax 7/16   575521.51"
      ]
     },
     "execution_count": 1,
     "metadata": {},
     "output_type": "execute_result"
    }
   ],
   "source": [
    "import statsmodels.formula.api as smf\n",
    "import matplotlib.pyplot as plt\n",
    "import pandas as pd\n",
    "import numpy as np\n",
    "import matplotlib\n",
    "\n",
    "data = pd.read_csv(\"../data/Trans2.csv\")\n",
    "data.head()"
   ]
  },
  {
   "cell_type": "code",
   "execution_count": 34,
   "metadata": {},
   "outputs": [
    {
     "data": {
      "text/plain": [
       "100-230130    45557\n",
       "100-310002    33846\n",
       "100-230131    32890\n",
       "100-320410    28604\n",
       "100-230230    25117\n",
       "100-230220    21569\n",
       "100-155002    13639\n",
       "100-100001    12362\n",
       "100-175110    12279\n",
       "100-145110    11390\n",
       "200-197130    10138\n",
       "100-150110    10062\n",
       "100-310701     9149\n",
       "200-197180     9039\n",
       "200-197170     8998\n",
       "100-175010     8926\n",
       "100-230002     8373\n",
       "100-240110     8093\n",
       "100-515200     7978\n",
       "100-210002     7966\n",
       "100-515500     7172\n",
       "409-409320     6664\n",
       "100-210545     6538\n",
       "411-411320     6363\n",
       "407-407320     6259\n",
       "402-402320     6251\n",
       "100-515600     6015\n",
       "100-250110     5996\n",
       "200-195310     5943\n",
       "400-400320     5914\n",
       "              ...  \n",
       "511-821001        2\n",
       "520-710188        2\n",
       "520-710189        2\n",
       "100-210120        2\n",
       "520-710173        2\n",
       "100-511110        2\n",
       "100-185230        2\n",
       "510-820001        2\n",
       "520-710183        2\n",
       "515-821215        2\n",
       "515-820210        2\n",
       "515-820320        2\n",
       "100-190210        2\n",
       "520-710147        2\n",
       "100-220520        2\n",
       "100-230420        2\n",
       "100-220340        2\n",
       "515-821210        2\n",
       "100-155210        2\n",
       "520-710232        2\n",
       "515-821600        2\n",
       "515-820215        2\n",
       "100-210740        2\n",
       "520-710187        2\n",
       "520-710145        2\n",
       "500-430110        2\n",
       "100-650120        1\n",
       "100-210220        1\n",
       "500-100925        1\n",
       "440-440320        1\n",
       "Name: Entity, Length: 655, dtype: int64"
      ]
     },
     "execution_count": 34,
     "metadata": {},
     "output_type": "execute_result"
    }
   ],
   "source": [
    "data.Date = pd.to_datetime(data.Date, format=\"%m/%d/%Y\")\n",
    "data.dtypes\n",
    "data.Entity.value_counts()"
   ]
  },
  {
   "cell_type": "code",
   "execution_count": 45,
   "metadata": {},
   "outputs": [
    {
     "data": {
      "text/plain": [
       "Entity          object\n",
       "Account          int64\n",
       "Description     object\n",
       "Amount         float64\n",
       "dtype: object"
      ]
     },
     "execution_count": 45,
     "metadata": {},
     "output_type": "execute_result"
    }
   ],
   "source": [
    "dataA = data[data.Entity == \"100-310002\"]\n",
    "dataA.head()\n",
    "dataA.dtypes\n",
    "# data.set_index(['Date'], inplace = True)\n",
    "data.index"
   ]
  },
  {
   "cell_type": "code",
   "execution_count": 47,
   "metadata": {},
   "outputs": [
    {
     "data": {
      "text/plain": [
       "<matplotlib.axes._subplots.AxesSubplot at 0x25f2aeb4630>"
      ]
     },
     "execution_count": 47,
     "metadata": {},
     "output_type": "execute_result"
    },
    {
     "data": {
      "image/png": "[encoded data removed]",
      "text/plain": [
       "<Figure size 432x288 with 1 Axes>"
      ]
     },
     "metadata": {},
     "output_type": "display_data"
    }
   ],
   "source": [
    "data.plot(kind='scatter', x='Account', y='Amount')\n",
    "# dataA.plot(kind='scatter', x='Description', y='Amount', ax=axs[2])"
   ]
  },
  {
   "cell_type": "code",
   "execution_count": 48,
   "metadata": {},
   "outputs": [
    {
     "data": {
      "text/plain": [
       "[<matplotlib.lines.Line2D at 0x25f2aefbc50>]"
      ]
     },
     "execution_count": 48,
     "metadata": {},
     "output_type": "execute_result"
    },
    {
     "data": {
      "image/png": "[encoded data removed]",
      "text/plain": [
       "<Figure size 432x288 with 1 Axes>"
      ]
     },
     "metadata": {},
     "output_type": "display_data"
    }
   ],
   "source": [
    "plt.plot(data.index, data.Amount)\n"
   ]
  },
  {
   "cell_type": "code",
   "execution_count": null,
   "metadata": {},
   "outputs": [],
   "source": []
  }
 ],
 "metadata": {
  "kernelspec": {
   "display_name": "Python 3",
   "language": "python",
   "name": "python3"
  },
  "language_info": {
   "codemirror_mode": {
    "name": "ipython",
    "version": 3
   },
   "file_extension": ".py",
   "mimetype": "text/x-python",
   "name": "python",
   "nbconvert_exporter": "python",
   "pygments_lexer": "ipython3",
   "version": "3.6.5"
  }
 },
 "nbformat": 4,
 "nbformat_minor": 2
}
