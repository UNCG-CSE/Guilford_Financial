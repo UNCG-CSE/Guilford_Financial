{
 "cells": [
  {
   "cell_type": "code",
   "execution_count": 72,
   "metadata": {},
   "outputs": [
    {
     "data": {
      "text/html": [
       "<div>\n",
       "<style scoped>\n",
       "    .dataframe tbody tr th:only-of-type {\n",
       "        vertical-align: middle;\n",
       "    }\n",
       "\n",
       "    .dataframe tbody tr th {\n",
       "        vertical-align: top;\n",
       "    }\n",
       "\n",
       "    .dataframe thead th {\n",
       "        text-align: right;\n",
       "    }\n",
       "</style>\n",
       "<table border=\"1\" class=\"dataframe\">\n",
       "  <thead>\n",
       "    <tr style=\"text-align: right;\">\n",
       "      <th></th>\n",
       "      <th>Entity</th>\n",
       "      <th>Account</th>\n",
       "      <th>Date</th>\n",
       "      <th>Description</th>\n",
       "      <th>Amount</th>\n",
       "      <th>Date_Delta</th>\n",
       "      <th>Year</th>\n",
       "    </tr>\n",
       "  </thead>\n",
       "  <tbody>\n",
       "    <tr>\n",
       "      <th>0</th>\n",
       "      <td>100-100001</td>\n",
       "      <td>41101</td>\n",
       "      <td>2012-07-01</td>\n",
       "      <td>Record PY prpd txs as CY</td>\n",
       "      <td>-116018.63</td>\n",
       "      <td>0.0</td>\n",
       "      <td>2012</td>\n",
       "    </tr>\n",
       "    <tr>\n",
       "      <th>1</th>\n",
       "      <td>100-100001</td>\n",
       "      <td>41103</td>\n",
       "      <td>2012-07-01</td>\n",
       "      <td>Record PY prpd txs as CY</td>\n",
       "      <td>-1343129.12</td>\n",
       "      <td>0.0</td>\n",
       "      <td>2012</td>\n",
       "    </tr>\n",
       "    <tr>\n",
       "      <th>2</th>\n",
       "      <td>100-100001</td>\n",
       "      <td>41201</td>\n",
       "      <td>2012-07-01</td>\n",
       "      <td>accrue sales&amp;use tax 7/16</td>\n",
       "      <td>1901125.37</td>\n",
       "      <td>0.0</td>\n",
       "      <td>2012</td>\n",
       "    </tr>\n",
       "    <tr>\n",
       "      <th>3</th>\n",
       "      <td>100-100001</td>\n",
       "      <td>41202</td>\n",
       "      <td>2012-07-01</td>\n",
       "      <td>accrue sales&amp;use tax 7/16</td>\n",
       "      <td>866051.86</td>\n",
       "      <td>0.0</td>\n",
       "      <td>2012</td>\n",
       "    </tr>\n",
       "    <tr>\n",
       "      <th>4</th>\n",
       "      <td>100-100001</td>\n",
       "      <td>41203</td>\n",
       "      <td>2012-07-01</td>\n",
       "      <td>accrue sales&amp;use tax 7/16</td>\n",
       "      <td>575521.51</td>\n",
       "      <td>0.0</td>\n",
       "      <td>2012</td>\n",
       "    </tr>\n",
       "  </tbody>\n",
       "</table>\n",
       "</div>"
      ],
      "text/plain": [
       "       Entity  Account       Date                Description      Amount  \\\n",
       "0  100-100001    41101 2012-07-01   Record PY prpd txs as CY  -116018.63   \n",
       "1  100-100001    41103 2012-07-01   Record PY prpd txs as CY -1343129.12   \n",
       "2  100-100001    41201 2012-07-01  accrue sales&use tax 7/16  1901125.37   \n",
       "3  100-100001    41202 2012-07-01  accrue sales&use tax 7/16   866051.86   \n",
       "4  100-100001    41203 2012-07-01  accrue sales&use tax 7/16   575521.51   \n",
       "\n",
       "   Date_Delta  Year  \n",
       "0         0.0  2012  \n",
       "1         0.0  2012  \n",
       "2         0.0  2012  \n",
       "3         0.0  2012  \n",
       "4         0.0  2012  "
      ]
     },
     "execution_count": 72,
     "metadata": {},
     "output_type": "execute_result"
    }
   ],
   "source": [
    "import statsmodels.formula.api as smf\n",
    "import matplotlib.pyplot as plt\n",
    "import pandas as pd\n",
    "import numpy as np\n",
    "import matplotlib\n",
    "\n",
    "data = pd.read_csv(\"../data/Trans2.csv\")\n",
    "data.Date = pd.to_datetime(data.Date, format=\"%m/%d/%Y\")\n",
    "data['Date_Delta'] = (data['Date'] - data['Date'].min())  / np.timedelta64(1,'D')\n",
    "data['Year'] = data.Date.dt.year\n",
    "data.head()"
   ]
  },
  {
   "cell_type": "code",
   "execution_count": 90,
   "metadata": {},
   "outputs": [
    {
     "data": {
      "text/plain": [
       "655"
      ]
     },
     "execution_count": 90,
     "metadata": {},
     "output_type": "execute_result"
    }
   ],
   "source": [
    "data.dtypes\n",
    "data.Entity.value_counts()\n",
    "data.Entity.nunique()"
   ]
  },
  {
   "cell_type": "code",
   "execution_count": 81,
   "metadata": {},
   "outputs": [
    {
     "data": {
      "text/plain": [
       "Entity                 object\n",
       "Account                 int64\n",
       "Date           datetime64[ns]\n",
       "Description            object\n",
       "Amount                float64\n",
       "Date_Delta            float64\n",
       "Year                    int64\n",
       "dtype: object"
      ]
     },
     "execution_count": 81,
     "metadata": {},
     "output_type": "execute_result"
    }
   ],
   "source": [
    "dataA = data[data.Entity == \"100-310002\"]\n",
    "dataA.head()\n",
    "dataA.dtypes\n",
    "data2013 = data[data.Year == 2013]\n",
    "\n",
    "data2013.dtypes\n",
    "\n"
   ]
  },
  {
   "cell_type": "code",
   "execution_count": 88,
   "metadata": {},
   "outputs": [
    {
     "data": {
      "text/plain": [
       "<matplotlib.axes._subplots.AxesSubplot at 0x25f46f16d68>"
      ]
     },
     "execution_count": 88,
     "metadata": {},
     "output_type": "execute_result"
    },
    {
     "data": {
      "image/png": "[encoded data removed]",
      "text/plain": [
       "<Figure size 432x288 with 1 Axes>"
      ]
     },
     "metadata": {},
     "output_type": "display_data"
    }
   ],
   "source": [
    "data2013.plot(kind='scatter', x='Account', y='Amount')"
   ]
  },
  {
   "cell_type": "code",
   "execution_count": 83,
   "metadata": {},
   "outputs": [
    {
     "data": {
      "text/plain": [
       "<matplotlib.collections.PathCollection at 0x25f30cf8358>"
      ]
     },
     "execution_count": 83,
     "metadata": {},
     "output_type": "execute_result"
    },
    {
     "data": {
      "image/png": "[encoded data removed]",
      "text/plain": [
       "<Figure size 432x288 with 1 Axes>"
      ]
     },
     "metadata": {},
     "output_type": "display_data"
    }
   ],
   "source": [
    "plt.scatter(data2013.Date_Delta, data2013.Amount)"
   ]
  },
  {
   "cell_type": "code",
   "execution_count": 80,
   "metadata": {},
   "outputs": [
    {
     "data": {
      "text/html": [
       "<table class=\"simpletable\">\n",
       "<caption>OLS Regression Results</caption>\n",
       "<tr>\n",
       "  <th>Dep. Variable:</th>         <td>Amount</td>      <th>  R-squared:         </th>  <td>   0.001</td>  \n",
       "</tr>\n",
       "<tr>\n",
       "  <th>Model:</th>                   <td>OLS</td>       <th>  Adj. R-squared:    </th>  <td>   0.001</td>  \n",
       "</tr>\n",
       "<tr>\n",
       "  <th>Method:</th>             <td>Least Squares</td>  <th>  F-statistic:       </th>  <td>   95.54</td>  \n",
       "</tr>\n",
       "<tr>\n",
       "  <th>Date:</th>             <td>Wed, 31 Oct 2018</td> <th>  Prob (F-statistic):</th>  <td>3.39e-42</td>  \n",
       "</tr>\n",
       "<tr>\n",
       "  <th>Time:</th>                 <td>11:24:07</td>     <th>  Log-Likelihood:    </th> <td>-2.4834e+06</td>\n",
       "</tr>\n",
       "<tr>\n",
       "  <th>No. Observations:</th>      <td>177096</td>      <th>  AIC:               </th>  <td>4.967e+06</td> \n",
       "</tr>\n",
       "<tr>\n",
       "  <th>Df Residuals:</th>          <td>177093</td>      <th>  BIC:               </th>  <td>4.967e+06</td> \n",
       "</tr>\n",
       "<tr>\n",
       "  <th>Df Model:</th>              <td>     2</td>      <th>                     </th>      <td> </td>     \n",
       "</tr>\n",
       "<tr>\n",
       "  <th>Covariance Type:</th>      <td>nonrobust</td>    <th>                     </th>      <td> </td>     \n",
       "</tr>\n",
       "</table>\n",
       "<table class=\"simpletable\">\n",
       "<tr>\n",
       "       <td></td>         <th>coef</th>     <th>std err</th>      <th>t</th>      <th>P>|t|</th>  <th>[0.025</th>    <th>0.975]</th>  \n",
       "</tr>\n",
       "<tr>\n",
       "  <th>Intercept</th>  <td> -9.58e+04</td> <td> 8058.458</td> <td>  -11.888</td> <td> 0.000</td> <td>-1.12e+05</td> <td>   -8e+04</td>\n",
       "</tr>\n",
       "<tr>\n",
       "  <th>Account</th>    <td>    2.0474</td> <td>    0.152</td> <td>   13.442</td> <td> 0.000</td> <td>    1.749</td> <td>    2.346</td>\n",
       "</tr>\n",
       "<tr>\n",
       "  <th>Date_Delta</th> <td>  -17.5138</td> <td>    6.847</td> <td>   -2.558</td> <td> 0.011</td> <td>  -30.934</td> <td>   -4.093</td>\n",
       "</tr>\n",
       "</table>\n",
       "<table class=\"simpletable\">\n",
       "<tr>\n",
       "  <th>Omnibus:</th>       <td>692972.630</td> <th>  Durbin-Watson:     </th>     <td>   1.929</td>     \n",
       "</tr>\n",
       "<tr>\n",
       "  <th>Prob(Omnibus):</th>   <td> 0.000</td>   <th>  Jarque-Bera (JB):  </th> <td>2763232557670.700</td>\n",
       "</tr>\n",
       "<tr>\n",
       "  <th>Skew:</th>            <td>-94.918</td>  <th>  Prob(JB):          </th>     <td>    0.00</td>     \n",
       "</tr>\n",
       "<tr>\n",
       "  <th>Kurtosis:</th>       <td>19353.361</td> <th>  Cond. No.          </th>     <td>5.64e+05</td>     \n",
       "</tr>\n",
       "</table><br/><br/>Warnings:<br/>[1] Standard Errors assume that the covariance matrix of the errors is correctly specified.<br/>[2] The condition number is large, 5.64e+05. This might indicate that there are<br/>strong multicollinearity or other numerical problems."
      ],
      "text/plain": [
       "<class 'statsmodels.iolib.summary.Summary'>\n",
       "\"\"\"\n",
       "                            OLS Regression Results                            \n",
       "==============================================================================\n",
       "Dep. Variable:                 Amount   R-squared:                       0.001\n",
       "Model:                            OLS   Adj. R-squared:                  0.001\n",
       "Method:                 Least Squares   F-statistic:                     95.54\n",
       "Date:                Wed, 31 Oct 2018   Prob (F-statistic):           3.39e-42\n",
       "Time:                        11:24:07   Log-Likelihood:            -2.4834e+06\n",
       "No. Observations:              177096   AIC:                         4.967e+06\n",
       "Df Residuals:                  177093   BIC:                         4.967e+06\n",
       "Df Model:                           2                                         \n",
       "Covariance Type:            nonrobust                                         \n",
       "==============================================================================\n",
       "                 coef    std err          t      P>|t|      [0.025      0.975]\n",
       "------------------------------------------------------------------------------\n",
       "Intercept   -9.58e+04   8058.458    -11.888      0.000   -1.12e+05      -8e+04\n",
       "Account        2.0474      0.152     13.442      0.000       1.749       2.346\n",
       "Date_Delta   -17.5138      6.847     -2.558      0.011     -30.934      -4.093\n",
       "==============================================================================\n",
       "Omnibus:                   692972.630   Durbin-Watson:                   1.929\n",
       "Prob(Omnibus):                  0.000   Jarque-Bera (JB):    2763232557670.700\n",
       "Skew:                         -94.918   Prob(JB):                         0.00\n",
       "Kurtosis:                   19353.361   Cond. No.                     5.64e+05\n",
       "==============================================================================\n",
       "\n",
       "Warnings:\n",
       "[1] Standard Errors assume that the covariance matrix of the errors is correctly specified.\n",
       "[2] The condition number is large, 5.64e+05. This might indicate that there are\n",
       "strong multicollinearity or other numerical problems.\n",
       "\"\"\""
      ]
     },
     "execution_count": 80,
     "metadata": {},
     "output_type": "execute_result"
    }
   ],
   "source": [
    "lm = smf.ols(formula='Amount ~ Account + Date_Delta', data=data2013).fit()\n",
    "lm.summary()"
   ]
  },
  {
   "cell_type": "code",
   "execution_count": 85,
   "metadata": {},
   "outputs": [
    {
     "name": "stderr",
     "output_type": "stream",
     "text": [
      "C:\\Program Files\\Anaconda3\\lib\\site-packages\\ipykernel_launcher.py:4: UserWarning: Boolean Series key will be reindexed to match DataFrame index.\n",
      "  after removing the cwd from sys.path.\n",
      "C:\\Program Files\\Anaconda3\\lib\\site-packages\\ipykernel_launcher.py:5: UserWarning: Boolean Series key will be reindexed to match DataFrame index.\n",
      "  \"\"\"\n"
     ]
    },
    {
     "data": {
      "text/html": [
       "<div>\n",
       "<style scoped>\n",
       "    .dataframe tbody tr th:only-of-type {\n",
       "        vertical-align: middle;\n",
       "    }\n",
       "\n",
       "    .dataframe tbody tr th {\n",
       "        vertical-align: top;\n",
       "    }\n",
       "\n",
       "    .dataframe thead th {\n",
       "        text-align: right;\n",
       "    }\n",
       "</style>\n",
       "<table border=\"1\" class=\"dataframe\">\n",
       "  <thead>\n",
       "    <tr style=\"text-align: right;\">\n",
       "      <th></th>\n",
       "      <th>Entity</th>\n",
       "      <th>Account</th>\n",
       "      <th>Date</th>\n",
       "      <th>Description</th>\n",
       "      <th>Amount</th>\n",
       "      <th>Date_Delta</th>\n",
       "      <th>Year</th>\n",
       "    </tr>\n",
       "  </thead>\n",
       "  <tbody>\n",
       "    <tr>\n",
       "      <th>80479</th>\n",
       "      <td>100-210355</td>\n",
       "      <td>45308</td>\n",
       "      <td>2013-01-01</td>\n",
       "      <td>109904MARIA AGUIRRE</td>\n",
       "      <td>0.20</td>\n",
       "      <td>184.0</td>\n",
       "      <td>2013</td>\n",
       "    </tr>\n",
       "    <tr>\n",
       "      <th>80496</th>\n",
       "      <td>100-210415</td>\n",
       "      <td>45308</td>\n",
       "      <td>2013-01-01</td>\n",
       "      <td>109904MARIA AGUIRRE</td>\n",
       "      <td>11.40</td>\n",
       "      <td>184.0</td>\n",
       "      <td>2013</td>\n",
       "    </tr>\n",
       "    <tr>\n",
       "      <th>80514</th>\n",
       "      <td>100-210530</td>\n",
       "      <td>44194</td>\n",
       "      <td>2013-01-01</td>\n",
       "      <td>to reclass cb 1212272101</td>\n",
       "      <td>-20077.97</td>\n",
       "      <td>184.0</td>\n",
       "      <td>2013</td>\n",
       "    </tr>\n",
       "    <tr>\n",
       "      <th>80515</th>\n",
       "      <td>100-210532</td>\n",
       "      <td>44194</td>\n",
       "      <td>2013-01-01</td>\n",
       "      <td>to reclass cb 1212272101</td>\n",
       "      <td>-6440.09</td>\n",
       "      <td>184.0</td>\n",
       "      <td>2013</td>\n",
       "    </tr>\n",
       "    <tr>\n",
       "      <th>80586</th>\n",
       "      <td>100-230230</td>\n",
       "      <td>49410</td>\n",
       "      <td>2013-01-01</td>\n",
       "      <td>65865NC CHILD SUPPORT</td>\n",
       "      <td>44.04</td>\n",
       "      <td>184.0</td>\n",
       "      <td>2013</td>\n",
       "    </tr>\n",
       "  </tbody>\n",
       "</table>\n",
       "</div>"
      ],
      "text/plain": [
       "           Entity  Account       Date               Description    Amount  \\\n",
       "80479  100-210355    45308 2013-01-01       109904MARIA AGUIRRE      0.20   \n",
       "80496  100-210415    45308 2013-01-01       109904MARIA AGUIRRE     11.40   \n",
       "80514  100-210530    44194 2013-01-01  to reclass cb 1212272101 -20077.97   \n",
       "80515  100-210532    44194 2013-01-01  to reclass cb 1212272101  -6440.09   \n",
       "80586  100-230230    49410 2013-01-01     65865NC CHILD SUPPORT     44.04   \n",
       "\n",
       "       Date_Delta  Year  \n",
       "80479       184.0  2013  \n",
       "80496       184.0  2013  \n",
       "80514       184.0  2013  \n",
       "80515       184.0  2013  \n",
       "80586       184.0  2013  "
      ]
     },
     "execution_count": 85,
     "metadata": {},
     "output_type": "execute_result"
    }
   ],
   "source": [
    "#divide transaction into revenue and expense data sets\n",
    "dataExp = data[data.Account >= 50000]\n",
    "dataRev = data[data.Account < 50000]\n",
    "dataExp2013 = data2013[data.Account >= 50000]\n",
    "dataRev2013 = data2013[data.Account < 50000]\n",
    "dataRev2013.head()"
   ]
  },
  {
   "cell_type": "code",
   "execution_count": 86,
   "metadata": {},
   "outputs": [
    {
     "data": {
      "text/html": [
       "<table class=\"simpletable\">\n",
       "<caption>OLS Regression Results</caption>\n",
       "<tr>\n",
       "  <th>Dep. Variable:</th>         <td>Amount</td>      <th>  R-squared:         </th>  <td>   0.000</td>  \n",
       "</tr>\n",
       "<tr>\n",
       "  <th>Model:</th>                   <td>OLS</td>       <th>  Adj. R-squared:    </th>  <td>   0.000</td>  \n",
       "</tr>\n",
       "<tr>\n",
       "  <th>Method:</th>             <td>Least Squares</td>  <th>  F-statistic:       </th>  <td>   5.136</td>  \n",
       "</tr>\n",
       "<tr>\n",
       "  <th>Date:</th>             <td>Fri, 02 Nov 2018</td> <th>  Prob (F-statistic):</th>   <td>0.00588</td>  \n",
       "</tr>\n",
       "<tr>\n",
       "  <th>Time:</th>                 <td>11:05:03</td>     <th>  Log-Likelihood:    </th> <td>-9.2474e+05</td>\n",
       "</tr>\n",
       "<tr>\n",
       "  <th>No. Observations:</th>      <td> 64165</td>      <th>  AIC:               </th>  <td>1.849e+06</td> \n",
       "</tr>\n",
       "<tr>\n",
       "  <th>Df Residuals:</th>          <td> 64162</td>      <th>  BIC:               </th>  <td>1.850e+06</td> \n",
       "</tr>\n",
       "<tr>\n",
       "  <th>Df Model:</th>              <td>     2</td>      <th>                     </th>      <td> </td>     \n",
       "</tr>\n",
       "<tr>\n",
       "  <th>Covariance Type:</th>      <td>nonrobust</td>    <th>                     </th>      <td> </td>     \n",
       "</tr>\n",
       "</table>\n",
       "<table class=\"simpletable\">\n",
       "<tr>\n",
       "       <td></td>         <th>coef</th>     <th>std err</th>      <th>t</th>      <th>P>|t|</th>  <th>[0.025</th>    <th>0.975]</th>  \n",
       "</tr>\n",
       "<tr>\n",
       "  <th>Intercept</th>  <td> 1.035e+04</td> <td> 3.03e+04</td> <td>    0.342</td> <td> 0.732</td> <td>-4.89e+04</td> <td> 6.96e+04</td>\n",
       "</tr>\n",
       "<tr>\n",
       "  <th>Account</th>    <td>   -0.1029</td> <td>    0.676</td> <td>   -0.152</td> <td> 0.879</td> <td>   -1.427</td> <td>    1.222</td>\n",
       "</tr>\n",
       "<tr>\n",
       "  <th>Date_Delta</th> <td>  -54.2545</td> <td>   16.941</td> <td>   -3.202</td> <td> 0.001</td> <td>  -87.460</td> <td>  -21.049</td>\n",
       "</tr>\n",
       "</table>\n",
       "<table class=\"simpletable\">\n",
       "<tr>\n",
       "  <th>Omnibus:</th>       <td>246224.002</td> <th>  Durbin-Watson:     </th>     <td>   1.946</td>    \n",
       "</tr>\n",
       "<tr>\n",
       "  <th>Prob(Omnibus):</th>   <td> 0.000</td>   <th>  Jarque-Bera (JB):  </th> <td>322552656993.822</td>\n",
       "</tr>\n",
       "<tr>\n",
       "  <th>Skew:</th>            <td>-89.835</td>  <th>  Prob(JB):          </th>     <td>    0.00</td>    \n",
       "</tr>\n",
       "<tr>\n",
       "  <th>Kurtosis:</th>       <td>10985.437</td> <th>  Cond. No.          </th>     <td>7.63e+05</td>    \n",
       "</tr>\n",
       "</table><br/><br/>Warnings:<br/>[1] Standard Errors assume that the covariance matrix of the errors is correctly specified.<br/>[2] The condition number is large, 7.63e+05. This might indicate that there are<br/>strong multicollinearity or other numerical problems."
      ],
      "text/plain": [
       "<class 'statsmodels.iolib.summary.Summary'>\n",
       "\"\"\"\n",
       "                            OLS Regression Results                            \n",
       "==============================================================================\n",
       "Dep. Variable:                 Amount   R-squared:                       0.000\n",
       "Model:                            OLS   Adj. R-squared:                  0.000\n",
       "Method:                 Least Squares   F-statistic:                     5.136\n",
       "Date:                Fri, 02 Nov 2018   Prob (F-statistic):            0.00588\n",
       "Time:                        11:05:03   Log-Likelihood:            -9.2474e+05\n",
       "No. Observations:               64165   AIC:                         1.849e+06\n",
       "Df Residuals:                   64162   BIC:                         1.850e+06\n",
       "Df Model:                           2                                         \n",
       "Covariance Type:            nonrobust                                         \n",
       "==============================================================================\n",
       "                 coef    std err          t      P>|t|      [0.025      0.975]\n",
       "------------------------------------------------------------------------------\n",
       "Intercept   1.035e+04   3.03e+04      0.342      0.732   -4.89e+04    6.96e+04\n",
       "Account       -0.1029      0.676     -0.152      0.879      -1.427       1.222\n",
       "Date_Delta   -54.2545     16.941     -3.202      0.001     -87.460     -21.049\n",
       "==============================================================================\n",
       "Omnibus:                   246224.002   Durbin-Watson:                   1.946\n",
       "Prob(Omnibus):                  0.000   Jarque-Bera (JB):     322552656993.822\n",
       "Skew:                         -89.835   Prob(JB):                         0.00\n",
       "Kurtosis:                   10985.437   Cond. No.                     7.63e+05\n",
       "==============================================================================\n",
       "\n",
       "Warnings:\n",
       "[1] Standard Errors assume that the covariance matrix of the errors is correctly specified.\n",
       "[2] The condition number is large, 7.63e+05. This might indicate that there are\n",
       "strong multicollinearity or other numerical problems.\n",
       "\"\"\""
      ]
     },
     "execution_count": 86,
     "metadata": {},
     "output_type": "execute_result"
    }
   ],
   "source": [
    "lm = smf.ols(formula='Amount ~ Account + Date_Delta', data=dataRev2013).fit()\n",
    "lm.summary()"
   ]
  },
  {
   "cell_type": "code",
   "execution_count": 87,
   "metadata": {},
   "outputs": [
    {
     "data": {
      "text/html": [
       "<table class=\"simpletable\">\n",
       "<caption>OLS Regression Results</caption>\n",
       "<tr>\n",
       "  <th>Dep. Variable:</th>         <td>Amount</td>      <th>  R-squared:         </th>  <td>   0.001</td>  \n",
       "</tr>\n",
       "<tr>\n",
       "  <th>Model:</th>                   <td>OLS</td>       <th>  Adj. R-squared:    </th>  <td>   0.001</td>  \n",
       "</tr>\n",
       "<tr>\n",
       "  <th>Method:</th>             <td>Least Squares</td>  <th>  F-statistic:       </th>  <td>   35.26</td>  \n",
       "</tr>\n",
       "<tr>\n",
       "  <th>Date:</th>             <td>Fri, 02 Nov 2018</td> <th>  Prob (F-statistic):</th>  <td>4.90e-16</td>  \n",
       "</tr>\n",
       "<tr>\n",
       "  <th>Time:</th>                 <td>11:05:17</td>     <th>  Log-Likelihood:    </th> <td>-1.5213e+06</td>\n",
       "</tr>\n",
       "<tr>\n",
       "  <th>No. Observations:</th>      <td>112931</td>      <th>  AIC:               </th>  <td>3.043e+06</td> \n",
       "</tr>\n",
       "<tr>\n",
       "  <th>Df Residuals:</th>          <td>112928</td>      <th>  BIC:               </th>  <td>3.043e+06</td> \n",
       "</tr>\n",
       "<tr>\n",
       "  <th>Df Model:</th>              <td>     2</td>      <th>                     </th>      <td> </td>     \n",
       "</tr>\n",
       "<tr>\n",
       "  <th>Covariance Type:</th>      <td>nonrobust</td>    <th>                     </th>      <td> </td>     \n",
       "</tr>\n",
       "</table>\n",
       "<table class=\"simpletable\">\n",
       "<tr>\n",
       "       <td></td>         <th>coef</th>     <th>std err</th>      <th>t</th>      <th>P>|t|</th>  <th>[0.025</th>    <th>0.975]</th>  \n",
       "</tr>\n",
       "<tr>\n",
       "  <th>Intercept</th>  <td>-1.768e+05</td> <td> 2.19e+04</td> <td>   -8.089</td> <td> 0.000</td> <td> -2.2e+05</td> <td>-1.34e+05</td>\n",
       "</tr>\n",
       "<tr>\n",
       "  <th>Account</th>    <td>    3.4501</td> <td>    0.411</td> <td>    8.398</td> <td> 0.000</td> <td>    2.645</td> <td>    4.255</td>\n",
       "</tr>\n",
       "<tr>\n",
       "  <th>Date_Delta</th> <td>    4.7081</td> <td>    4.933</td> <td>    0.954</td> <td> 0.340</td> <td>   -4.961</td> <td>   14.377</td>\n",
       "</tr>\n",
       "</table>\n",
       "<table class=\"simpletable\">\n",
       "<tr>\n",
       "  <th>Omnibus:</th>       <td>414991.725</td> <th>  Durbin-Watson:     </th>     <td>   1.832</td>    \n",
       "</tr>\n",
       "<tr>\n",
       "  <th>Prob(Omnibus):</th>   <td> 0.000</td>   <th>  Jarque-Bera (JB):  </th> <td>233481559749.565</td>\n",
       "</tr>\n",
       "<tr>\n",
       "  <th>Skew:</th>            <td>79.045</td>   <th>  Prob(JB):          </th>     <td>    0.00</td>    \n",
       "</tr>\n",
       "<tr>\n",
       "  <th>Kurtosis:</th>       <td>7045.323</td>  <th>  Cond. No.          </th>     <td>2.25e+06</td>    \n",
       "</tr>\n",
       "</table><br/><br/>Warnings:<br/>[1] Standard Errors assume that the covariance matrix of the errors is correctly specified.<br/>[2] The condition number is large, 2.25e+06. This might indicate that there are<br/>strong multicollinearity or other numerical problems."
      ],
      "text/plain": [
       "<class 'statsmodels.iolib.summary.Summary'>\n",
       "\"\"\"\n",
       "                            OLS Regression Results                            \n",
       "==============================================================================\n",
       "Dep. Variable:                 Amount   R-squared:                       0.001\n",
       "Model:                            OLS   Adj. R-squared:                  0.001\n",
       "Method:                 Least Squares   F-statistic:                     35.26\n",
       "Date:                Fri, 02 Nov 2018   Prob (F-statistic):           4.90e-16\n",
       "Time:                        11:05:17   Log-Likelihood:            -1.5213e+06\n",
       "No. Observations:              112931   AIC:                         3.043e+06\n",
       "Df Residuals:                  112928   BIC:                         3.043e+06\n",
       "Df Model:                           2                                         \n",
       "Covariance Type:            nonrobust                                         \n",
       "==============================================================================\n",
       "                 coef    std err          t      P>|t|      [0.025      0.975]\n",
       "------------------------------------------------------------------------------\n",
       "Intercept  -1.768e+05   2.19e+04     -8.089      0.000    -2.2e+05   -1.34e+05\n",
       "Account        3.4501      0.411      8.398      0.000       2.645       4.255\n",
       "Date_Delta     4.7081      4.933      0.954      0.340      -4.961      14.377\n",
       "==============================================================================\n",
       "Omnibus:                   414991.725   Durbin-Watson:                   1.832\n",
       "Prob(Omnibus):                  0.000   Jarque-Bera (JB):     233481559749.565\n",
       "Skew:                          79.045   Prob(JB):                         0.00\n",
       "Kurtosis:                    7045.323   Cond. No.                     2.25e+06\n",
       "==============================================================================\n",
       "\n",
       "Warnings:\n",
       "[1] Standard Errors assume that the covariance matrix of the errors is correctly specified.\n",
       "[2] The condition number is large, 2.25e+06. This might indicate that there are\n",
       "strong multicollinearity or other numerical problems.\n",
       "\"\"\""
      ]
     },
     "execution_count": 87,
     "metadata": {},
     "output_type": "execute_result"
    }
   ],
   "source": [
    "lm = smf.ols(formula='Amount ~ Account + Date_Delta', data=dataExp2013).fit()\n",
    "lm.summary()"
   ]
  },
  {
   "cell_type": "code",
   "execution_count": 89,
   "metadata": {},
   "outputs": [
    {
     "name": "stderr",
     "output_type": "stream",
     "text": [
      "C:\\Program Files\\Anaconda3\\lib\\site-packages\\ipykernel_launcher.py:16: FutureWarning: set_value is deprecated and will be removed in a future release. Please use .at[] or .iat[] accessors instead\n",
      "  app.launch_new_instance()\n"
     ]
    },
    {
     "data": {
      "text/plain": [
       "Text(0,0.5,'Number of Anomalies')"
      ]
     },
     "execution_count": 89,
     "metadata": {},
     "output_type": "execute_result"
    },
    {
     "data": {
      "image/png": "[encoded data removed]",
      "text/plain": [
       "<Figure size 1440x720 with 1 Axes>"
      ]
     },
     "metadata": {},
     "output_type": "display_data"
    }
   ],
   "source": [
    "trans_group = data.groupby(by=[\"Entity\"])\n",
    "transentlist = []\n",
    "for Entity, group in trans_group:\n",
    "    transAnomalyCount = 0\n",
    "    i = 0\n",
    "    for amt in group.Amount:\n",
    "        if ((amt - group.Amount.mean()) > 3 * group.Amount.std()):\n",
    "            transAnomalyCount += 1\n",
    "    #print dept\n",
    "    #print expAnomalyCount\n",
    "    x = Entity, transAnomalyCount\n",
    "    transentlist.append(x)\n",
    "\n",
    "transAnom = pd.Series()\n",
    "for y in transentlist:\n",
    "    transAnom.set_value(y[0],y[1])\n",
    "ta = transAnom.plot(kind='bar', figsize=(20,10), title = 'Number of Transaction Anomalies per Entity Over 5 Years')\n",
    "ta.set_xlabel(\"Entity Names\")\n",
    "ta.set_ylabel(\"Number of Anomalies\")"
   ]
  },
  {
   "cell_type": "code",
   "execution_count": null,
   "metadata": {},
   "outputs": [],
   "source": []
  }
 ],
 "metadata": {
  "kernelspec": {
   "display_name": "Python 3",
   "language": "python",
   "name": "python3"
  },
  "language_info": {
   "codemirror_mode": {
    "name": "ipython",
    "version": 3
   },
   "file_extension": ".py",
   "mimetype": "text/x-python",
   "name": "python",
   "nbconvert_exporter": "python",
   "pygments_lexer": "ipython3",
   "version": "3.6.5"
  }
 },
 "nbformat": 4,
 "nbformat_minor": 2
}
