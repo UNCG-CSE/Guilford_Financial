{
 "cells": [
  {
   "cell_type": "markdown",
   "metadata": {},
   "source": [
    "Here we used the budget to determine the top 5 departments with respect to overall spending, and then we break down said spending by year. In the future we'll further break spending down by month."
   ]
  },
  {
   "cell_type": "code",
   "execution_count": 10,
   "metadata": {},
   "outputs": [],
   "source": [
    "import pandas as pd\n",
    "import warnings\n",
    "warnings.filterwarnings('ignore') # Disable warnings for now"
   ]
  },
  {
   "cell_type": "code",
   "execution_count": 2,
   "metadata": {},
   "outputs": [],
   "source": [
    "df_budget = pd.read_csv(\"../data/Expense_Budget.csv\")"
   ]
  },
  {
   "cell_type": "code",
   "execution_count": 3,
   "metadata": {},
   "outputs": [],
   "source": [
    "df_trans = pd.read_csv(\"../data/Trans2.csv\")"
   ]
  },
  {
   "cell_type": "code",
   "execution_count": 4,
   "metadata": {},
   "outputs": [],
   "source": [
    "df_budget_expenses = df_budget[df_budget.Type == \"Expense\"]"
   ]
  },
  {
   "cell_type": "code",
   "execution_count": 5,
   "metadata": {},
   "outputs": [],
   "source": [
    "df_budget_expenses_2013 = df_budget_expenses[df_budget_expenses.Year == 2013]"
   ]
  },
  {
   "cell_type": "code",
   "execution_count": 6,
   "metadata": {
    "scrolled": true
   },
   "outputs": [],
   "source": [
    "# NOTE: It should be fairly easy to \"port\" this to work with services instead of departments\n",
    "top_5_depts = df_budget_expenses_2013.groupby(\"Dept Name\")[\"Amount\"].sum().sort_values(ascending=False).head(5)"
   ]
  },
  {
   "cell_type": "code",
   "execution_count": 11,
   "metadata": {
    "scrolled": false
   },
   "outputs": [
    {
     "name": "stdout",
     "output_type": "stream",
     "text": [
      "Guilford County Public Schools - Operating\n",
      "\t100-710010 - 176380399.0\n",
      "Debt Service\n",
      "\t100-910110 - 73516310.06\n",
      "Social Services\n",
      "\t100-230055 - 18440.850000000006\n",
      "\t100-230085 - 216309.85\n",
      "\t100-230020 - 1518.9799999999998\n",
      "\t100-230620 - 0.0\n",
      "\t100-230095 - 150567.03\n",
      "\t100-230002 - 535482.4700000007\n",
      "\t100-230025 - 68450.73\n",
      "\t100-230065 - 15421.870000000008\n",
      "\t100-230145 - 17659.850000000006\n",
      "\t100-230030 - 369899.27\n",
      "\t100-230250 - 986.2300000000005\n",
      "\t100-230420 - 0.0\n",
      "\t100-230520 - 11018.740000000002\n",
      "\t100-230010 - 2388814.0999999996\n",
      "\t100-230115 - -228500.21\n",
      "\t100-230230 - 1648980.66\n",
      "\t100-230110 - -94234.93999999999\n",
      "\t100-230075 - 3292177.18\n",
      "\t100-230100 - 1792857.2100000002\n",
      "\t100-230035 - 3199221.49\n",
      "\t100-230105 - 980253.4400000001\n",
      "\t100-230510 - 6464.58\n",
      "\t100-230120 - -315.28999999999974\n",
      "\t100-230410 - 11250.0\n",
      "\t100-230540 - 5500.0\n",
      "\t100-230135 - 27885.96\n",
      "\t100-230240 - 18198.0\n",
      "\t100-230310 - -7839.979999999991\n",
      "\t100-230210 - 1308658.62\n",
      "\t100-230015 - 0.0\n",
      "\t100-230070 - -11754.16\n",
      "\t100-230045 - 9767.82\n",
      "\t100-230220 - -3432.6900000006426\n",
      "\t100-230140 - 212500.0\n",
      "\t100-230060 - 216666.58\n",
      "\t100-230330 - 42400.23000000004\n",
      "\t100-230130 - 100743.93000000008\n",
      "\t100-230131 - 158902.19000000006\n",
      "\t100-230320 - 127403.75\n",
      "\t100-230340 - 0.0\n",
      "\t100-230215 - 0.0\n",
      "Law Enforcement\n",
      "\t100-310730 - 156717.12\n",
      "\t100-310120 - 115888.18\n",
      "\t100-310201 - 60819.49\n",
      "\t100-310420 - 2567494.93\n",
      "\t100-310270 - 255776.61\n",
      "\t100-310040 - -137277.07\n",
      "\t100-310732 - 1961241.9700000002\n",
      "\t100-310250 - 642875.85\n",
      "\t100-310260 - -3534.0\n",
      "\t100-310410 - 2562648.44\n",
      "\t100-310520 - 690.5100000000081\n",
      "\t100-310020 - 1409068.45\n",
      "\t100-310220 - 853269.3899999999\n",
      "\t100-310240 - 24482.859999999997\n",
      "\t100-310430 - 2495427.25\n",
      "\t100-310200 - 1958566.55\n",
      "\t100-310210 - 714990.2300000001\n",
      "\t100-310500 - 252894.13\n",
      "\t100-310700 - -18719.680000000008\n",
      "\t100-310280 - -16819.49\n",
      "\t100-310710 - 8046464.04\n",
      "\t100-310010 - 1092881.4699999997\n",
      "\t100-310002 - 7409803.77\n",
      "\t100-310110 - 1088988.79\n",
      "\t100-310701 - 19892123.17\n",
      "\t100-310130 - 609013.16\n",
      "\t100-310510 - 12285.950000000012\n",
      "\t100-310750 - 2127567.2800000003\n",
      "\t100-310760 - 547570.41\n",
      "\t100-310790 - -1618125.1400000001\n",
      "\t100-310007 - 158675.63\n",
      "\t100-310030 - 594878.91\n",
      "\t100-310230 - 78709.84\n",
      "\t100-310113 - -151121.18\n",
      "\t100-310234 - -1376259.2599999998\n",
      "\t100-310006 - -139332.25\n",
      "\t100-310005 - 48278.79\n",
      "\t100-310050 - 371.34000000000003\n",
      "\t100-310263 - -5306.449999999996\n",
      "\t100-310281 - -238.62000000000012\n",
      "\t100-310283 - -67342.06999999989\n",
      "\t100-310285 - 0.0\n",
      "\t100-310286 - 0.0\n",
      "\t100-310287 - 0.0\n",
      "\t100-310295 - 0.0\n",
      "\t100-310376 - 4935.9800000000005\n",
      "\t100-310262 - -51362.64\n",
      "\t100-310276 - 0.0\n",
      "\t100-310284 - -1.8189894035458565e-11\n",
      "\t100-310288 - 0.0\n",
      "\t100-310294 - 0.0\n",
      "\t100-310353 - -55580.189999999995\n",
      "\t100-310261 - 27429.260000000002\n",
      "\t100-310352 - 986.2999999999995\n",
      "Health Care & Wellness\n",
      "\t200-197140 - 0.0\n",
      "\t200-197136 - 59950.590000000026\n",
      "\t200-197180 - -617149.1\n",
      "\t200-197170 - 856530.09\n",
      "\t200-197120 - 6731733.230000002\n",
      "\t200-197135 - 5211215.839999998\n",
      "\t200-197130 - -23741765.789999988\n",
      "\t200-197141 - 0.0\n"
     ]
    }
   ],
   "source": [
    "for dept_name in top_5_depts.axes[0]:\n",
    "    print(dept_name)\n",
    "    df_budget_d = df_budget[df_budget[\"Dept Name\"] == dept_name]\n",
    "    df_budget_d[df_budget_d[\"Year\"] == 2013]\n",
    "    fund_num = df_budget_d[\"Fund #\"].unique()[0]\n",
    "\n",
    "    # TODO: I think each loop could safely be run as a thread\n",
    "    for service_num in df_budget_d[\"Service #\"].unique():\n",
    "        entity = str(fund_num) + \"-\" + str(service_num)\n",
    "\n",
    "        # Get all of the transactions with the generated entity\n",
    "        df_trans_entity = df_trans[df_trans[\"Entity\"] == entity]\n",
    "\n",
    "        # Convert the dates from strings to datetimes\n",
    "        # TODO: Figure out how to do this without Python crying\n",
    "        df_trans_entity[\"Date\"] = pd.to_datetime(df_trans_entity[\"Date\"])\n",
    "        \n",
    "        # Operate only on the subset of transactions that occurred in 2013\n",
    "        df_trans_entity = df_trans_entity[df_trans_entity[\"Date\"].dt.year == 2013]\n",
    "        \n",
    "        print(\"\\t\" + entity + \" - \" + str(df_trans_entity[\"Amount\"].sum()))"
   ]
  },
  {
   "cell_type": "code",
   "execution_count": null,
   "metadata": {},
   "outputs": [],
   "source": []
  }
 ],
 "metadata": {
  "kernelspec": {
   "display_name": "Python 3",
   "language": "python",
   "name": "python3"
  },
  "language_info": {
   "codemirror_mode": {
    "name": "ipython",
    "version": 3
   },
   "file_extension": ".py",
   "mimetype": "text/x-python",
   "name": "python",
   "nbconvert_exporter": "python",
   "pygments_lexer": "ipython3",
   "version": "3.7.0"
  }
 },
 "nbformat": 4,
 "nbformat_minor": 2
}
