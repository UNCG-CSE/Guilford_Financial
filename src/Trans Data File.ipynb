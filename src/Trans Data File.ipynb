{
 "cells": [
  {
   "cell_type": "code",
   "execution_count": 2,
   "metadata": {},
   "outputs": [
    {
     "name": "stdout",
     "output_type": "stream",
     "text": [
      "<class 'pandas.core.frame.DataFrame'>\n",
      "RangeIndex: 886825 entries, 0 to 886824\n",
      "Data columns (total 5 columns):\n",
      "Entity         886825 non-null object\n",
      "Account        886825 non-null int64\n",
      "Date           886825 non-null object\n",
      "Description    878195 non-null object\n",
      "Amount         886825 non-null float64\n",
      "dtypes: float64(1), int64(1), object(3)\n",
      "memory usage: 33.8+ MB\n"
     ]
    }
   ],
   "source": [
    "import pandas as pd\n",
    "import numpy as np\n",
    "import matplotlib as plt\n",
    "df_trans=pd.read_csv(\"../data/Trans2.csv\")\n",
    "df_trans.info()\n",
    "df_trans[\"Date\"]=pd.to_datetime(df_trans[\"Date\"])"
   ]
  },
  {
   "cell_type": "code",
   "execution_count": 3,
   "metadata": {},
   "outputs": [],
   "source": [
    "df_trans[\"month\"]=df_trans[\"Date\"].dt.month\n",
    "df_trans[\"year\"]=df_trans[\"Date\"].dt.year\n",
    "df_trans[\"day\"]=df_trans[\"Date\"].dt.day"
   ]
  },
  {
   "cell_type": "code",
   "execution_count": 4,
   "metadata": {},
   "outputs": [
    {
     "data": {
      "text/html": [
       "<div>\n",
       "<style scoped>\n",
       "    .dataframe tbody tr th:only-of-type {\n",
       "        vertical-align: middle;\n",
       "    }\n",
       "\n",
       "    .dataframe tbody tr th {\n",
       "        vertical-align: top;\n",
       "    }\n",
       "\n",
       "    .dataframe thead th {\n",
       "        text-align: right;\n",
       "    }\n",
       "</style>\n",
       "<table border=\"1\" class=\"dataframe\">\n",
       "  <thead>\n",
       "    <tr style=\"text-align: right;\">\n",
       "      <th></th>\n",
       "      <th>Entity</th>\n",
       "      <th>Account</th>\n",
       "      <th>Date</th>\n",
       "      <th>Description</th>\n",
       "      <th>Amount</th>\n",
       "      <th>month</th>\n",
       "      <th>year</th>\n",
       "      <th>day</th>\n",
       "    </tr>\n",
       "  </thead>\n",
       "  <tbody>\n",
       "    <tr>\n",
       "      <th>0</th>\n",
       "      <td>100-100001</td>\n",
       "      <td>41101</td>\n",
       "      <td>2012-07-01</td>\n",
       "      <td>Record PY prpd txs as CY</td>\n",
       "      <td>-116018.63</td>\n",
       "      <td>7</td>\n",
       "      <td>2012</td>\n",
       "      <td>1</td>\n",
       "    </tr>\n",
       "    <tr>\n",
       "      <th>1</th>\n",
       "      <td>100-100001</td>\n",
       "      <td>41103</td>\n",
       "      <td>2012-07-01</td>\n",
       "      <td>Record PY prpd txs as CY</td>\n",
       "      <td>-1343129.12</td>\n",
       "      <td>7</td>\n",
       "      <td>2012</td>\n",
       "      <td>1</td>\n",
       "    </tr>\n",
       "    <tr>\n",
       "      <th>2</th>\n",
       "      <td>100-100001</td>\n",
       "      <td>41201</td>\n",
       "      <td>2012-07-01</td>\n",
       "      <td>accrue sales&amp;use tax 7/16</td>\n",
       "      <td>1901125.37</td>\n",
       "      <td>7</td>\n",
       "      <td>2012</td>\n",
       "      <td>1</td>\n",
       "    </tr>\n",
       "    <tr>\n",
       "      <th>3</th>\n",
       "      <td>100-100001</td>\n",
       "      <td>41202</td>\n",
       "      <td>2012-07-01</td>\n",
       "      <td>accrue sales&amp;use tax 7/16</td>\n",
       "      <td>866051.86</td>\n",
       "      <td>7</td>\n",
       "      <td>2012</td>\n",
       "      <td>1</td>\n",
       "    </tr>\n",
       "    <tr>\n",
       "      <th>4</th>\n",
       "      <td>100-100001</td>\n",
       "      <td>41203</td>\n",
       "      <td>2012-07-01</td>\n",
       "      <td>accrue sales&amp;use tax 7/16</td>\n",
       "      <td>575521.51</td>\n",
       "      <td>7</td>\n",
       "      <td>2012</td>\n",
       "      <td>1</td>\n",
       "    </tr>\n",
       "  </tbody>\n",
       "</table>\n",
       "</div>"
      ],
      "text/plain": [
       "       Entity  Account       Date                Description      Amount  \\\n",
       "0  100-100001    41101 2012-07-01   Record PY prpd txs as CY  -116018.63   \n",
       "1  100-100001    41103 2012-07-01   Record PY prpd txs as CY -1343129.12   \n",
       "2  100-100001    41201 2012-07-01  accrue sales&use tax 7/16  1901125.37   \n",
       "3  100-100001    41202 2012-07-01  accrue sales&use tax 7/16   866051.86   \n",
       "4  100-100001    41203 2012-07-01  accrue sales&use tax 7/16   575521.51   \n",
       "\n",
       "   month  year  day  \n",
       "0      7  2012    1  \n",
       "1      7  2012    1  \n",
       "2      7  2012    1  \n",
       "3      7  2012    1  \n",
       "4      7  2012    1  "
      ]
     },
     "execution_count": 4,
     "metadata": {},
     "output_type": "execute_result"
    }
   ],
   "source": [
    "df_trans.head()"
   ]
  },
  {
   "cell_type": "code",
   "execution_count": 5,
   "metadata": {},
   "outputs": [],
   "source": [
    "df_trans=df_trans[df_trans[\"year\"]>2012]"
   ]
  },
  {
   "cell_type": "code",
   "execution_count": 6,
   "metadata": {},
   "outputs": [
    {
     "data": {
      "text/html": [
       "<div>\n",
       "<style scoped>\n",
       "    .dataframe tbody tr th:only-of-type {\n",
       "        vertical-align: middle;\n",
       "    }\n",
       "\n",
       "    .dataframe tbody tr th {\n",
       "        vertical-align: top;\n",
       "    }\n",
       "\n",
       "    .dataframe thead th {\n",
       "        text-align: right;\n",
       "    }\n",
       "</style>\n",
       "<table border=\"1\" class=\"dataframe\">\n",
       "  <thead>\n",
       "    <tr style=\"text-align: right;\">\n",
       "      <th></th>\n",
       "      <th>Entity</th>\n",
       "      <th>Account</th>\n",
       "      <th>Date</th>\n",
       "      <th>Description</th>\n",
       "      <th>Amount</th>\n",
       "      <th>month</th>\n",
       "      <th>year</th>\n",
       "      <th>day</th>\n",
       "    </tr>\n",
       "  </thead>\n",
       "  <tbody>\n",
       "    <tr>\n",
       "      <th>80317</th>\n",
       "      <td>100-101110</td>\n",
       "      <td>53040</td>\n",
       "      <td>2013-01-01</td>\n",
       "      <td>107683AT&amp;T INC</td>\n",
       "      <td>194.16</td>\n",
       "      <td>1</td>\n",
       "      <td>2013</td>\n",
       "      <td>1</td>\n",
       "    </tr>\n",
       "    <tr>\n",
       "      <th>80318</th>\n",
       "      <td>100-101110</td>\n",
       "      <td>53070</td>\n",
       "      <td>2013-01-01</td>\n",
       "      <td>18690CAROLINA PEACEMA</td>\n",
       "      <td>243.75</td>\n",
       "      <td>1</td>\n",
       "      <td>2013</td>\n",
       "      <td>1</td>\n",
       "    </tr>\n",
       "    <tr>\n",
       "      <th>80319</th>\n",
       "      <td>100-102110</td>\n",
       "      <td>53040</td>\n",
       "      <td>2013-01-01</td>\n",
       "      <td>107683AT&amp;T INC</td>\n",
       "      <td>48.54</td>\n",
       "      <td>1</td>\n",
       "      <td>2013</td>\n",
       "      <td>1</td>\n",
       "    </tr>\n",
       "    <tr>\n",
       "      <th>80320</th>\n",
       "      <td>100-105002</td>\n",
       "      <td>52010</td>\n",
       "      <td>2013-01-01</td>\n",
       "      <td>83881SHI  INTERNATION</td>\n",
       "      <td>507.35</td>\n",
       "      <td>1</td>\n",
       "      <td>2013</td>\n",
       "      <td>1</td>\n",
       "    </tr>\n",
       "    <tr>\n",
       "      <th>80321</th>\n",
       "      <td>100-105002</td>\n",
       "      <td>52050</td>\n",
       "      <td>2013-01-01</td>\n",
       "      <td>93130WALLSTREET DELI</td>\n",
       "      <td>681.45</td>\n",
       "      <td>1</td>\n",
       "      <td>2013</td>\n",
       "      <td>1</td>\n",
       "    </tr>\n",
       "  </tbody>\n",
       "</table>\n",
       "</div>"
      ],
      "text/plain": [
       "           Entity  Account       Date            Description  Amount  month  \\\n",
       "80317  100-101110    53040 2013-01-01         107683AT&T INC  194.16      1   \n",
       "80318  100-101110    53070 2013-01-01  18690CAROLINA PEACEMA  243.75      1   \n",
       "80319  100-102110    53040 2013-01-01         107683AT&T INC   48.54      1   \n",
       "80320  100-105002    52010 2013-01-01  83881SHI  INTERNATION  507.35      1   \n",
       "80321  100-105002    52050 2013-01-01   93130WALLSTREET DELI  681.45      1   \n",
       "\n",
       "       year  day  \n",
       "80317  2013    1  \n",
       "80318  2013    1  \n",
       "80319  2013    1  \n",
       "80320  2013    1  \n",
       "80321  2013    1  "
      ]
     },
     "execution_count": 6,
     "metadata": {},
     "output_type": "execute_result"
    }
   ],
   "source": [
    "df_trans.head()"
   ]
  },
  {
   "cell_type": "code",
   "execution_count": 7,
   "metadata": {},
   "outputs": [
    {
     "data": {
      "text/plain": [
       "535976"
      ]
     },
     "execution_count": 7,
     "metadata": {},
     "output_type": "execute_result"
    }
   ],
   "source": [
    "len(df_trans[df_trans.Amount>0])"
   ]
  },
  {
   "cell_type": "code",
   "execution_count": 8,
   "metadata": {},
   "outputs": [
    {
     "data": {
      "text/plain": [
       "806508"
      ]
     },
     "execution_count": 8,
     "metadata": {},
     "output_type": "execute_result"
    }
   ],
   "source": [
    "len(df_trans)"
   ]
  },
  {
   "cell_type": "code",
   "execution_count": 12,
   "metadata": {},
   "outputs": [],
   "source": [
    "amt=df_trans[df_trans.Amount>0].groupby(by=[\"year\",\"month\"])[\"Amount\"].sum()"
   ]
  },
  {
   "cell_type": "code",
   "execution_count": 13,
   "metadata": {},
   "outputs": [
    {
     "data": {
      "text/plain": [
       "array([5.18090250e+07, 8.34817448e+07, 6.37374249e+07, 6.36765429e+07,\n",
       "       5.63531762e+07, 9.32549930e+07, 6.28899454e+07, 9.18232886e+07,\n",
       "       6.84840544e+07, 1.04294889e+08, 6.39049819e+07, 5.61491857e+07,\n",
       "       7.43527281e+07, 7.57304474e+07, 6.50740138e+07, 7.41986007e+07,\n",
       "       5.67191422e+07, 8.93483874e+07, 4.96809718e+07, 8.23119177e+07,\n",
       "       8.43731938e+07, 7.81028282e+07, 6.33617584e+07, 5.68980017e+07,\n",
       "       5.39880665e+07, 7.29692484e+07, 6.56141912e+07, 5.94457784e+07,\n",
       "       6.12593448e+07, 8.69606030e+07, 5.66437810e+07, 9.28729678e+07,\n",
       "       8.28278840e+07, 9.67781721e+07, 5.07085377e+07, 5.17114241e+07,\n",
       "       5.57855034e+07, 7.28125041e+07, 7.06735979e+07, 1.84837876e+08,\n",
       "       5.40894497e+07, 8.24635359e+07, 6.38994377e+07, 9.01390272e+07,\n",
       "       9.93579865e+07, 8.06707467e+07, 6.49791190e+07, 6.61466707e+07,\n",
       "       6.05801787e+07, 8.11209829e+07, 8.28640385e+07, 9.90858294e+07,\n",
       "       5.98732147e+07, 9.86546822e+07])"
      ]
     },
     "execution_count": 13,
     "metadata": {},
     "output_type": "execute_result"
    }
   ],
   "source": [
    "amt.values"
   ]
  },
  {
   "cell_type": "code",
   "execution_count": 24,
   "metadata": {},
   "outputs": [
    {
     "data": {
      "text/plain": [
       "[Text(0,0.5,'Probability'), Text(0.5,0,'Amount spend')]"
      ]
     },
     "execution_count": 24,
     "metadata": {},
     "output_type": "execute_result"
    },
    {
     "data": {
      "image/png": "[encoded data removed]",
      "text/plain": [
       "<matplotlib.figure.Figure at 0x9908ae16a0>"
      ]
     },
     "metadata": {},
     "output_type": "display_data"
    }
   ],
   "source": [
    "import seaborn as sns\n",
    "sns.set(color_codes=True)\n",
    "# import seaborn\n",
    "import seaborn as sns\n",
    "# settings for seaborn plotting style\n",
    "sns.set(color_codes=True)\n",
    "# settings for seaborn plot sizes\n",
    "sns.set(rc={'figure.figsize':(13,8)})\n",
    "ax = sns.distplot(amt.values,\n",
    "                  kde=True,\n",
    "                  hist=False,\n",
    "                  color='skyblue',\n",
    "                  hist_kws={\"linewidth\": 5,'alpha':1})\n",
    "ax.set(xlabel='Amount spend', ylabel='Probability')"
   ]
  },
  {
   "cell_type": "code",
   "execution_count": 19,
   "metadata": {},
   "outputs": [
    {
     "data": {
      "text/plain": [
       "<matplotlib.axes._subplots.AxesSubplot at 0x99016072b0>"
      ]
     },
     "execution_count": 19,
     "metadata": {},
     "output_type": "execute_result"
    },
    {
     "data": {
      "image/png": "[encoded data removed]",
      "text/plain": [
       "<matplotlib.figure.Figure at 0x9907404550>"
      ]
     },
     "metadata": {},
     "output_type": "display_data"
    }
   ],
   "source": [
    "import seaborn as sns\n",
    "sns.boxplot(x=amt.values)"
   ]
  },
  {
   "cell_type": "code",
   "execution_count": 25,
   "metadata": {},
   "outputs": [],
   "source": [
    " amt_day=df_trans[df_trans.Amount>0].groupby(by=[\"year\",\"month\",\"day\"])[\"Amount\"].sum()"
   ]
  },
  {
   "cell_type": "code",
   "execution_count": 26,
   "metadata": {},
   "outputs": [
    {
     "data": {
      "text/plain": [
       "[Text(0,0.5,'Probability'), Text(0.5,0,'Amount spend')]"
      ]
     },
     "execution_count": 26,
     "metadata": {},
     "output_type": "execute_result"
    },
    {
     "data": {
      "image/png": "[encoded data removed]",
      "text/plain": [
       "<matplotlib.figure.Figure at 0x990740a358>"
      ]
     },
     "metadata": {},
     "output_type": "display_data"
    }
   ],
   "source": [
    "ax = sns.distplot(amt_day.values,\n",
    "                  kde=True,\n",
    "                  hist=False,\n",
    "                  color='skyblue',\n",
    "                  hist_kws={\"linewidth\": 5,'alpha':1})\n",
    "ax.set(xlabel='Amount spend', ylabel='Probability')"
   ]
  },
  {
   "cell_type": "code",
   "execution_count": 27,
   "metadata": {},
   "outputs": [
    {
     "name": "stdout",
     "output_type": "stream",
     "text": [
      "23277362.579999596\n"
     ]
    }
   ],
   "source": [
    "Q1 = amt.quantile(0.25)\n",
    "Q3 = amt.quantile(0.75)\n",
    "IQR = Q3 - Q1\n",
    "print(IQR)"
   ]
  },
  {
   "cell_type": "code",
   "execution_count": 28,
   "metadata": {},
   "outputs": [],
   "source": [
    "m=amt.mean()"
   ]
  },
  {
   "cell_type": "code",
   "execution_count": 30,
   "metadata": {},
   "outputs": [],
   "source": [
    "sd=amt.std()"
   ]
  },
  {
   "cell_type": "code",
   "execution_count": 32,
   "metadata": {},
   "outputs": [],
   "source": [
    "amt_1=[x for x in amt if x> ((Q1 - 1.5 * IQR)) ]"
   ]
  },
  {
   "cell_type": "code",
   "execution_count": 36,
   "metadata": {},
   "outputs": [],
   "source": [
    "amt_2=[x for x in amt if x< ((Q3 + 1.5 * IQR)) ]"
   ]
  },
  {
   "cell_type": "code",
   "execution_count": 37,
   "metadata": {},
   "outputs": [
    {
     "data": {
      "text/plain": [
       "[Text(0,0.5,'Probability'), Text(0.5,0,'Amount spend')]"
      ]
     },
     "execution_count": 37,
     "metadata": {},
     "output_type": "execute_result"
    },
    {
     "data": {
      "image/png": "[encoded data removed]",
      "text/plain": [
       "<matplotlib.figure.Figure at 0x99093e2c50>"
      ]
     },
     "metadata": {},
     "output_type": "display_data"
    }
   ],
   "source": [
    "ax = sns.distplot(amt_2,\n",
    "                  kde=True,\n",
    "                  hist=False,\n",
    "                  color='skyblue',\n",
    "                  hist_kws={\"linewidth\": 5,'alpha':1})\n",
    "ax.set(xlabel='Amount spend', ylabel='Probability')"
   ]
  },
  {
   "cell_type": "code",
   "execution_count": null,
   "metadata": {},
   "outputs": [],
   "source": []
  }
 ],
 "metadata": {
  "kernelspec": {
   "display_name": "Python 3",
   "language": "python",
   "name": "python3"
  },
  "language_info": {
   "codemirror_mode": {
    "name": "ipython",
    "version": 3
   },
   "file_extension": ".py",
   "mimetype": "text/x-python",
   "name": "python",
   "nbconvert_exporter": "python",
   "pygments_lexer": "ipython3",
   "version": "3.6.4"
  }
 },
 "nbformat": 4,
 "nbformat_minor": 2
}
