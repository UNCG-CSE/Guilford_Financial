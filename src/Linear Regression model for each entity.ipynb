{
 "cells": [
  {
   "cell_type": "code",
   "execution_count": 18,
   "metadata": {},
   "outputs": [],
   "source": [
    "import pandas as pd\n",
    "import csv\n",
    "import warnings\n",
    "warnings.filterwarnings('ignore') # Disable warnings for now\n",
    "\n",
    "from sklearn.model_selection import train_test_split\n",
    "from sklearn.linear_model import LinearRegression\n",
    "from sklearn.metrics import mean_squared_error\n",
    "from sklearn.metrics import r2_score\n",
    "from math import sqrt"
   ]
  },
  {
   "cell_type": "code",
   "execution_count": 19,
   "metadata": {},
   "outputs": [],
   "source": [
    "df_budget = pd.read_csv(\"../data/Expense_Budget.csv\")"
   ]
  },
  {
   "cell_type": "code",
   "execution_count": 20,
   "metadata": {},
   "outputs": [
    {
     "name": "stdout",
     "output_type": "stream",
     "text": [
      "(1860788, 5)\n",
      "       Entity  Account        Date                Description       Amount\n",
      "0  100-100001    47101  07/01/2006  GL65 import record left b -53618285.92\n",
      "1  520-710182    46101  07/01/2006  GL65 import record left b -23958030.00\n",
      "2  520-710132    46101  07/01/2006  GL65 import record left b -23678050.00\n",
      "3  520-710182    47101  07/01/2006  GL65 import record left b -18127072.02\n",
      "4  512-822300    47101  07/01/2006  GL65 import record left b -17624027.09\n"
     ]
    }
   ],
   "source": [
    "df_trans1 = pd.read_csv(\"../data/Trans1.csv\")\n",
    "df_trans2 = pd.read_csv(\"../data/Trans2.csv\")\n",
    "\n",
    "df_trans = pd.concat([df_trans1, df_trans2])\n",
    "\n",
    "print(df_trans.shape)\n",
    "print(df_trans.head())"
   ]
  },
  {
   "cell_type": "code",
   "execution_count": 21,
   "metadata": {},
   "outputs": [],
   "source": [
    "# Remove negative transactions\n",
    "df_trans = df_trans[df_trans[\"Amount\"]>0]"
   ]
  },
  {
   "cell_type": "code",
   "execution_count": 5,
   "metadata": {
    "scrolled": true
   },
   "outputs": [
    {
     "name": "stdout",
     "output_type": "stream",
     "text": [
      "(586957, 5)\n",
      "       Entity  Account      Amount  Year  Month\n",
      "2  100-100001    41201  1901125.37  2012      7\n",
      "3  100-100001    41202   866051.86  2012      7\n",
      "4  100-100001    41203   575521.51  2012      7\n",
      "5  100-100001    41204     1378.89  2012      7\n",
      "6  100-100001    41212   304822.42  2012      7\n"
     ]
    }
   ],
   "source": [
    "# Convert the dates from strings to datetimes\n",
    "# TODO: Figure out how to do this faster and without Python crying\n",
    "df_trans[\"Date\"] = pd.to_datetime(df_trans[\"Date\"])\n",
    "df_trans[\"Year\"]= df_trans.Date.dt.year\n",
    "df_trans[\"Month\"]= df_trans.Date.dt.month\n",
    "\n",
    "# Remove the Year and Description columns since they're strings\n",
    "# and thus can't be used\n",
    "df_trans = df_trans.drop(columns=[\"Date\", \"Description\"])\n",
    "\n",
    "print(df_trans.shape)\n",
    "print(df_trans.head())"
   ]
  },
  {
   "cell_type": "code",
   "execution_count": 22,
   "metadata": {},
   "outputs": [
    {
     "data": {
      "text/plain": [
       "810"
      ]
     },
     "execution_count": 22,
     "metadata": {},
     "output_type": "execute_result"
    }
   ],
   "source": [
    "# Number of models we'll end up with\n",
    "len(df_trans[\"Entity\"].unique())"
   ]
  },
  {
   "cell_type": "code",
   "execution_count": 17,
   "metadata": {
    "scrolled": false
   },
   "outputs": [
    {
     "name": "stdout",
     "output_type": "stream",
     "text": [
      "[100-100001]\n",
      "\t663 - 663\n",
      "\tTraining set RMSE: 5.85e+05\n",
      "\tTraining set R2: 0.118\n",
      "\tTesting set RMSE: 3.88e+05\n",
      "\tTesting set R2: 0.0718\n",
      "[100-101110]\n",
      "\t1425 - 1425\n",
      "\tTraining set RMSE: 3.03e+03\n",
      "\tTraining set R2: 0.0682\n",
      "\tTesting set RMSE: 2.74e+03\n",
      "\tTesting set R2: 0.0537\n",
      "[100-102110]\n",
      "\t1598 - 1598\n",
      "\tTraining set RMSE: 1.51e+03\n",
      "\tTraining set R2: 0.0536\n",
      "\tTesting set RMSE: 1.19e+03\n",
      "\tTesting set R2: 0.0296\n",
      "[100-105002]\n",
      "\t2250 - 2250\n",
      "\tTraining set RMSE: 5.97e+03\n",
      "\tTraining set R2: 0.00637\n",
      "\tTesting set RMSE: 8.38e+03\n",
      "\tTesting set R2: -0.00831\n",
      "[100-105210]\n",
      "\t33 - 33\n",
      "\tTraining set RMSE: 188\n",
      "\tTraining set R2: 0.847\n",
      "\tTesting set RMSE: 201\n",
      "\tTesting set R2: 0.791\n",
      "[100-110110]\n",
      "\t3385 - 3385\n",
      "\tTraining set RMSE: 8.43e+03\n",
      "\tTraining set R2: 0.0939\n",
      "\tTesting set RMSE: 8.5e+03\n",
      "\tTesting set R2: 0.1\n",
      "[100-115002]\n",
      "\t2938 - 2938\n",
      "\tTraining set RMSE: 8.12e+03\n",
      "\tTraining set R2: 0.0976\n",
      "\tTesting set RMSE: 8.12e+03\n",
      "\tTesting set R2: 0.0927\n",
      "[100-115210]\n",
      "\t1657 - 1657\n",
      "\tTraining set RMSE: 9.08e+04\n",
      "\tTraining set R2: 0.0742\n",
      "\tTesting set RMSE: 8.38e+04\n",
      "\tTesting set R2: 0.0839\n",
      "[100-120110]\n",
      "\t1515 - 1515\n",
      "\tTraining set RMSE: 3.17e+03\n",
      "\tTraining set R2: 0.104\n",
      "\tTesting set RMSE: 2.92e+03\n",
      "\tTesting set R2: 0.0887\n",
      "[100-125110]\n",
      "\t1568 - 1568\n",
      "\tTraining set RMSE: 3.23e+03\n",
      "\tTraining set R2: 0.117\n",
      "\tTesting set RMSE: 3.8e+03\n",
      "\tTesting set R2: 0.12\n",
      "[100-130110]\n",
      "\t2566 - 2566\n",
      "\tTraining set RMSE: 1.24e+04\n",
      "\tTraining set R2: 0.0824\n",
      "\tTesting set RMSE: 1.15e+04\n",
      "\tTesting set R2: 0.0664\n",
      "[100-135002]\n",
      "\t1759 - 1759\n",
      "\tTraining set RMSE: 2.09e+03\n",
      "\tTraining set R2: 0.108\n",
      "\tTesting set RMSE: 2.39e+03\n",
      "\tTesting set R2: 0.103\n",
      "[100-135010]\n",
      "\t649 - 649\n",
      "\tTraining set RMSE: 253\n",
      "\tTraining set R2: 0.0118\n",
      "\tTesting set RMSE: 256\n",
      "\tTesting set R2: 0.0107\n",
      "[100-135110]\n",
      "\t57 - 57\n",
      "\tTraining set RMSE: 80\n",
      "\tTraining set R2: 0.297\n",
      "\tTesting set RMSE: 87.8\n",
      "\tTesting set R2: -1.07\n",
      "[100-140002]\n",
      "\t1672 - 1672\n",
      "\tTraining set RMSE: 1.91e+04\n",
      "\tTraining set R2: 0.0247\n",
      "\tTesting set RMSE: 8.91e+03\n",
      "\tTesting set R2: -0.0326\n",
      "[100-140115]\n",
      "\t1003 - 1003\n",
      "\tTraining set RMSE: 943\n",
      "\tTraining set R2: 0.106\n",
      "\tTesting set RMSE: 868\n",
      "\tTesting set R2: 0.08\n",
      "[100-140210]\n",
      "\t3598 - 3598\n",
      "\tTraining set RMSE: 1.94e+04\n",
      "\tTraining set R2: 0.00488\n",
      "\tTesting set RMSE: 1.55e+04\n",
      "\tTesting set R2: -0.00821\n",
      "[100-140410]\n",
      "\t1625 - 1625\n",
      "\tTraining set RMSE: 1.43e+04\n",
      "\tTraining set R2: 0.0621\n",
      "\tTesting set RMSE: 1.47e+04\n",
      "\tTesting set R2: 0.0722\n",
      "[100-140510]\n",
      "\t30 - 30\n",
      "\tTraining set RMSE: 354\n",
      "\tTraining set R2: 0.329\n",
      "\tTesting set RMSE: 277\n",
      "\tTesting set R2: 0.192\n",
      "[100-145110]\n",
      "\t5886 - 5886\n",
      "\tTraining set RMSE: 1.73e+04\n",
      "\tTraining set R2: 0.0404\n",
      "\tTesting set RMSE: 1.76e+04\n",
      "\tTesting set R2: 0.0304\n",
      "[100-145210]\n",
      "\t8 - 8\n",
      "\tTraining set RMSE: 10.4\n",
      "\tTraining set R2: 1\n",
      "\tTesting set RMSE: 9.67e+03\n",
      "\tTesting set R2: -2.08e+05\n",
      "[100-150110]\n",
      "\t3973 - 3973\n",
      "\tTraining set RMSE: 6.82e+03\n",
      "\tTraining set R2: 0.0542\n",
      "\tTesting set RMSE: 8.12e+03\n",
      "\tTesting set R2: 0.0528\n",
      "[100-150210]\n",
      "\t1275 - 1275\n",
      "\tTraining set RMSE: 2.77e+03\n",
      "\tTraining set R2: 0.121\n",
      "\tTesting set RMSE: 1.24e+03\n",
      "\tTesting set R2: -0.0747\n",
      "[100-150510]\n",
      "\t1095 - 1095\n",
      "\tTraining set RMSE: 8.78e+03\n",
      "\tTraining set R2: 0.0291\n",
      "\tTesting set RMSE: 4.64e+03\n",
      "\tTesting set R2: -0.0168\n",
      "[100-155002]\n",
      "\t13072 - 13072\n",
      "\tTraining set RMSE: 5.75e+03\n",
      "\tTraining set R2: 0.000356\n",
      "\tTesting set RMSE: 4.41e+03\n",
      "\tTesting set R2: 0.000289\n",
      "[100-155110]\n",
      "\t2 - 2\n",
      "\tTraining set RMSE: 0\n",
      "\tTraining set R2: 1\n",
      "\tTesting set RMSE: 2.28e+03\n",
      "\tTesting set R2: 0\n"
     ]
    },
    {
     "ename": "ValueError",
     "evalue": "Found array with 0 sample(s) (shape=(0, 3)) while a minimum of 1 is required.",
     "output_type": "error",
     "traceback": [
      "\u001b[0;31m---------------------------------------------------------------------------\u001b[0m",
      "\u001b[0;31mValueError\u001b[0m                                Traceback (most recent call last)",
      "\u001b[0;32m<ipython-input-17-e614ef4cfd97>\u001b[0m in \u001b[0;36m<module>\u001b[0;34m()\u001b[0m\n\u001b[1;32m     12\u001b[0m \u001b[0;34m\u001b[0m\u001b[0m\n\u001b[1;32m     13\u001b[0m     \u001b[0mmodel\u001b[0m \u001b[0;34m=\u001b[0m \u001b[0mLinearRegression\u001b[0m\u001b[0;34m(\u001b[0m\u001b[0mnormalize\u001b[0m\u001b[0;34m=\u001b[0m\u001b[0;32mTrue\u001b[0m\u001b[0;34m)\u001b[0m\u001b[0;34m\u001b[0m\u001b[0;34m\u001b[0m\u001b[0m\n\u001b[0;32m---> 14\u001b[0;31m     \u001b[0mmodel\u001b[0m\u001b[0;34m.\u001b[0m\u001b[0mfit\u001b[0m\u001b[0;34m(\u001b[0m\u001b[0mx_train\u001b[0m\u001b[0;34m,\u001b[0m \u001b[0my_train\u001b[0m\u001b[0;34m)\u001b[0m\u001b[0;34m\u001b[0m\u001b[0;34m\u001b[0m\u001b[0m\n\u001b[0m\u001b[1;32m     15\u001b[0m \u001b[0;34m\u001b[0m\u001b[0m\n\u001b[1;32m     16\u001b[0m     \u001b[0;31m# models[entity] = model\u001b[0m\u001b[0;34m\u001b[0m\u001b[0;34m\u001b[0m\u001b[0;34m\u001b[0m\u001b[0m\n",
      "\u001b[0;32m~/.virtualenvs/Guilford_Financial/lib/python3.7/site-packages/sklearn/linear_model/base.py\u001b[0m in \u001b[0;36mfit\u001b[0;34m(self, X, y, sample_weight)\u001b[0m\n\u001b[1;32m    456\u001b[0m         \u001b[0mn_jobs_\u001b[0m \u001b[0;34m=\u001b[0m \u001b[0mself\u001b[0m\u001b[0;34m.\u001b[0m\u001b[0mn_jobs\u001b[0m\u001b[0;34m\u001b[0m\u001b[0;34m\u001b[0m\u001b[0m\n\u001b[1;32m    457\u001b[0m         X, y = check_X_y(X, y, accept_sparse=['csr', 'csc', 'coo'],\n\u001b[0;32m--> 458\u001b[0;31m                          y_numeric=True, multi_output=True)\n\u001b[0m\u001b[1;32m    459\u001b[0m \u001b[0;34m\u001b[0m\u001b[0m\n\u001b[1;32m    460\u001b[0m         \u001b[0;32mif\u001b[0m \u001b[0msample_weight\u001b[0m \u001b[0;32mis\u001b[0m \u001b[0;32mnot\u001b[0m \u001b[0;32mNone\u001b[0m \u001b[0;32mand\u001b[0m \u001b[0mnp\u001b[0m\u001b[0;34m.\u001b[0m\u001b[0matleast_1d\u001b[0m\u001b[0;34m(\u001b[0m\u001b[0msample_weight\u001b[0m\u001b[0;34m)\u001b[0m\u001b[0;34m.\u001b[0m\u001b[0mndim\u001b[0m \u001b[0;34m>\u001b[0m \u001b[0;36m1\u001b[0m\u001b[0;34m:\u001b[0m\u001b[0;34m\u001b[0m\u001b[0;34m\u001b[0m\u001b[0m\n",
      "\u001b[0;32m~/.virtualenvs/Guilford_Financial/lib/python3.7/site-packages/sklearn/utils/validation.py\u001b[0m in \u001b[0;36mcheck_X_y\u001b[0;34m(X, y, accept_sparse, accept_large_sparse, dtype, order, copy, force_all_finite, ensure_2d, allow_nd, multi_output, ensure_min_samples, ensure_min_features, y_numeric, warn_on_dtype, estimator)\u001b[0m\n\u001b[1;32m    754\u001b[0m                     \u001b[0mensure_min_features\u001b[0m\u001b[0;34m=\u001b[0m\u001b[0mensure_min_features\u001b[0m\u001b[0;34m,\u001b[0m\u001b[0;34m\u001b[0m\u001b[0;34m\u001b[0m\u001b[0m\n\u001b[1;32m    755\u001b[0m                     \u001b[0mwarn_on_dtype\u001b[0m\u001b[0;34m=\u001b[0m\u001b[0mwarn_on_dtype\u001b[0m\u001b[0;34m,\u001b[0m\u001b[0;34m\u001b[0m\u001b[0;34m\u001b[0m\u001b[0m\n\u001b[0;32m--> 756\u001b[0;31m                     estimator=estimator)\n\u001b[0m\u001b[1;32m    757\u001b[0m     \u001b[0;32mif\u001b[0m \u001b[0mmulti_output\u001b[0m\u001b[0;34m:\u001b[0m\u001b[0;34m\u001b[0m\u001b[0;34m\u001b[0m\u001b[0m\n\u001b[1;32m    758\u001b[0m         y = check_array(y, 'csr', force_all_finite=True, ensure_2d=False,\n",
      "\u001b[0;32m~/.virtualenvs/Guilford_Financial/lib/python3.7/site-packages/sklearn/utils/validation.py\u001b[0m in \u001b[0;36mcheck_array\u001b[0;34m(array, accept_sparse, accept_large_sparse, dtype, order, copy, force_all_finite, ensure_2d, allow_nd, ensure_min_samples, ensure_min_features, warn_on_dtype, estimator)\u001b[0m\n\u001b[1;32m    580\u001b[0m                              \u001b[0;34m\" minimum of %d is required%s.\"\u001b[0m\u001b[0;34m\u001b[0m\u001b[0;34m\u001b[0m\u001b[0m\n\u001b[1;32m    581\u001b[0m                              % (n_samples, shape_repr, ensure_min_samples,\n\u001b[0;32m--> 582\u001b[0;31m                                 context))\n\u001b[0m\u001b[1;32m    583\u001b[0m \u001b[0;34m\u001b[0m\u001b[0m\n\u001b[1;32m    584\u001b[0m     \u001b[0;32mif\u001b[0m \u001b[0mensure_min_features\u001b[0m \u001b[0;34m>\u001b[0m \u001b[0;36m0\u001b[0m \u001b[0;32mand\u001b[0m \u001b[0marray\u001b[0m\u001b[0;34m.\u001b[0m\u001b[0mndim\u001b[0m \u001b[0;34m==\u001b[0m \u001b[0;36m2\u001b[0m\u001b[0;34m:\u001b[0m\u001b[0;34m\u001b[0m\u001b[0;34m\u001b[0m\u001b[0m\n",
      "\u001b[0;31mValueError\u001b[0m: Found array with 0 sample(s) (shape=(0, 3)) while a minimum of 1 is required."
     ]
    }
   ],
   "source": [
    "# models = {} # Dictionary which maps entity to its model\n",
    "\n",
    "for entity in sorted(df_trans[\"Entity\"].unique()):\n",
    "    try:\n",
    "        df_entity = df_trans[df_trans[\"Entity\"]==entity]\n",
    "        df_entity = df_entity.drop(columns=[\"Entity\"])\n",
    "\n",
    "        x = df_entity.drop(columns=[\"Amount\"], axis=1)\n",
    "        y = df_entity[\"Amount\"]\n",
    "\n",
    "        x_train, x_test, y_train, y_test = train_test_split(x, y, test_size=0.25)\n",
    "\n",
    "        model = LinearRegression(normalize=True)\n",
    "        model.fit(x_train, y_train)\n",
    "\n",
    "        # models[entity] = model\n",
    "\n",
    "        # Model evaluation\n",
    "        y_pred = model.predict(x_test)\n",
    "        y_val = model.predict(x_train)\n",
    "\n",
    "        print(\"[{}]\".format(entity))\n",
    "        print(\"\\t{} - {}\".format(len(x), len(y)))\n",
    "        # print(\"\\tTraining set RMSE: {0:.3g}\".format(sqrt(mean_squared_error(y_train, y_val))))\n",
    "        # print(\"\\tTraining set R2: {0:.3g}\".format(model.score(x_train, y_train)))\n",
    "        print(\"\\tTesting set RMSE: {0:.3g}\".format(sqrt(mean_squared_error(y_test, y_pred))))\n",
    "        print(\"\\tTesting set R2: {0:.3g}\".format(model.score(x_test, y_test)))\n",
    "    except Exception:\n",
    "        pass"
   ]
  },
  {
   "cell_type": "code",
   "execution_count": null,
   "metadata": {},
   "outputs": [],
   "source": []
  }
 ],
 "metadata": {
  "kernelspec": {
   "display_name": "Python 3",
   "language": "python",
   "name": "python3"
  },
  "language_info": {
   "codemirror_mode": {
    "name": "ipython",
    "version": 3
   },
   "file_extension": ".py",
   "mimetype": "text/x-python",
   "name": "python",
   "nbconvert_exporter": "python",
   "pygments_lexer": "ipython3",
   "version": "3.7.1"
  }
 },
 "nbformat": 4,
 "nbformat_minor": 2
}
